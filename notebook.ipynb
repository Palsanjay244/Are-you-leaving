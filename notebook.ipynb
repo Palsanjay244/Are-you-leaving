{
 "cells": [
  {
   "cell_type": "markdown",
   "metadata": {},
   "source": [
    "<h2 style=\"text-align:center\">Predict the employee attrition rate in organizations</h2>"
   ]
  },
  {
   "cell_type": "markdown",
   "metadata": {},
   "source": [
    "### Problem Statement \n",
    "---\n",
    "Employees are the most important part of an organization. Successful employees meet deadlines, make sales, and build the brand through positive customer interactions.\n",
    "\n",
    "Employee attrition is a major cost to an organization and predicting such attritions is the most important requirement of the Human Resources department in many organizations. In this problem, your task is to predict the attrition rate of employees of an organization\n",
    "\n",
    "---\n",
    "\n"
   ]
  },
  {
   "cell_type": "markdown",
   "metadata": {},
   "source": [
    "#### Importing libraries"
   ]
  },
  {
   "cell_type": "code",
   "execution_count": 241,
   "metadata": {},
   "outputs": [],
   "source": [
    "import pandas as pd\n",
    "import numpy as np\n",
    "import matplotlib.pyplot as plt\n",
    "import seaborn as sns\n",
    "import os\n",
    "from sklearn.preprocessing import OneHotEncoder,LabelEncoder,StandardScaler\n",
    "from sklearn.linear_model import LinearRegression\n",
    "from sklearn.model_selection import train_test_split,cross_val_score\n",
    "from sklearn.metrics import mean_squared_error"
   ]
  },
  {
   "cell_type": "markdown",
   "metadata": {},
   "source": [
    "#### Dataset directory path"
   ]
  },
  {
   "cell_type": "code",
   "execution_count": 242,
   "metadata": {},
   "outputs": [],
   "source": [
    "dataset_dir='data'"
   ]
  },
  {
   "cell_type": "markdown",
   "metadata": {},
   "source": [
    "#### Load test and train data"
   ]
  },
  {
   "cell_type": "code",
   "execution_count": 243,
   "metadata": {},
   "outputs": [],
   "source": [
    "train_data=pd.read_csv(os.path.join(dataset_dir,'Train.csv'))\n",
    "test_data=pd.read_csv(os.path.join(dataset_dir,'Test.csv'))"
   ]
  },
  {
   "cell_type": "markdown",
   "metadata": {},
   "source": [
    "#### Print first 5 rows of train data"
   ]
  },
  {
   "cell_type": "code",
   "execution_count": 244,
   "metadata": {},
   "outputs": [
    {
     "data": {
      "text/html": [
       "<div>\n",
       "<style scoped>\n",
       "    .dataframe tbody tr th:only-of-type {\n",
       "        vertical-align: middle;\n",
       "    }\n",
       "\n",
       "    .dataframe tbody tr th {\n",
       "        vertical-align: top;\n",
       "    }\n",
       "\n",
       "    .dataframe thead th {\n",
       "        text-align: right;\n",
       "    }\n",
       "</style>\n",
       "<table border=\"1\" class=\"dataframe\">\n",
       "  <thead>\n",
       "    <tr style=\"text-align: right;\">\n",
       "      <th></th>\n",
       "      <th>Employee_ID</th>\n",
       "      <th>Gender</th>\n",
       "      <th>Age</th>\n",
       "      <th>Education_Level</th>\n",
       "      <th>Relationship_Status</th>\n",
       "      <th>Hometown</th>\n",
       "      <th>Unit</th>\n",
       "      <th>Decision_skill_possess</th>\n",
       "      <th>Time_of_service</th>\n",
       "      <th>Time_since_promotion</th>\n",
       "      <th>...</th>\n",
       "      <th>Compensation_and_Benefits</th>\n",
       "      <th>Work_Life_balance</th>\n",
       "      <th>VAR1</th>\n",
       "      <th>VAR2</th>\n",
       "      <th>VAR3</th>\n",
       "      <th>VAR4</th>\n",
       "      <th>VAR5</th>\n",
       "      <th>VAR6</th>\n",
       "      <th>VAR7</th>\n",
       "      <th>Attrition_rate</th>\n",
       "    </tr>\n",
       "  </thead>\n",
       "  <tbody>\n",
       "    <tr>\n",
       "      <td>0</td>\n",
       "      <td>EID_23371</td>\n",
       "      <td>F</td>\n",
       "      <td>42.0</td>\n",
       "      <td>4</td>\n",
       "      <td>Married</td>\n",
       "      <td>Franklin</td>\n",
       "      <td>IT</td>\n",
       "      <td>Conceptual</td>\n",
       "      <td>4.0</td>\n",
       "      <td>4</td>\n",
       "      <td>...</td>\n",
       "      <td>type2</td>\n",
       "      <td>3.0</td>\n",
       "      <td>4</td>\n",
       "      <td>0.7516</td>\n",
       "      <td>1.8688</td>\n",
       "      <td>2.0</td>\n",
       "      <td>4</td>\n",
       "      <td>5</td>\n",
       "      <td>3</td>\n",
       "      <td>0.1841</td>\n",
       "    </tr>\n",
       "    <tr>\n",
       "      <td>1</td>\n",
       "      <td>EID_18000</td>\n",
       "      <td>M</td>\n",
       "      <td>24.0</td>\n",
       "      <td>3</td>\n",
       "      <td>Single</td>\n",
       "      <td>Springfield</td>\n",
       "      <td>Logistics</td>\n",
       "      <td>Analytical</td>\n",
       "      <td>5.0</td>\n",
       "      <td>4</td>\n",
       "      <td>...</td>\n",
       "      <td>type2</td>\n",
       "      <td>4.0</td>\n",
       "      <td>3</td>\n",
       "      <td>-0.9612</td>\n",
       "      <td>-0.4537</td>\n",
       "      <td>2.0</td>\n",
       "      <td>3</td>\n",
       "      <td>5</td>\n",
       "      <td>3</td>\n",
       "      <td>0.0670</td>\n",
       "    </tr>\n",
       "    <tr>\n",
       "      <td>2</td>\n",
       "      <td>EID_3891</td>\n",
       "      <td>F</td>\n",
       "      <td>58.0</td>\n",
       "      <td>3</td>\n",
       "      <td>Married</td>\n",
       "      <td>Clinton</td>\n",
       "      <td>Quality</td>\n",
       "      <td>Conceptual</td>\n",
       "      <td>27.0</td>\n",
       "      <td>3</td>\n",
       "      <td>...</td>\n",
       "      <td>type2</td>\n",
       "      <td>1.0</td>\n",
       "      <td>4</td>\n",
       "      <td>-0.9612</td>\n",
       "      <td>-0.4537</td>\n",
       "      <td>3.0</td>\n",
       "      <td>3</td>\n",
       "      <td>8</td>\n",
       "      <td>3</td>\n",
       "      <td>0.0851</td>\n",
       "    </tr>\n",
       "    <tr>\n",
       "      <td>3</td>\n",
       "      <td>EID_17492</td>\n",
       "      <td>F</td>\n",
       "      <td>26.0</td>\n",
       "      <td>3</td>\n",
       "      <td>Single</td>\n",
       "      <td>Lebanon</td>\n",
       "      <td>Human Resource Management</td>\n",
       "      <td>Behavioral</td>\n",
       "      <td>4.0</td>\n",
       "      <td>3</td>\n",
       "      <td>...</td>\n",
       "      <td>type2</td>\n",
       "      <td>1.0</td>\n",
       "      <td>3</td>\n",
       "      <td>-1.8176</td>\n",
       "      <td>-0.4537</td>\n",
       "      <td>NaN</td>\n",
       "      <td>3</td>\n",
       "      <td>7</td>\n",
       "      <td>3</td>\n",
       "      <td>0.0668</td>\n",
       "    </tr>\n",
       "    <tr>\n",
       "      <td>4</td>\n",
       "      <td>EID_22534</td>\n",
       "      <td>F</td>\n",
       "      <td>31.0</td>\n",
       "      <td>1</td>\n",
       "      <td>Married</td>\n",
       "      <td>Springfield</td>\n",
       "      <td>Logistics</td>\n",
       "      <td>Conceptual</td>\n",
       "      <td>5.0</td>\n",
       "      <td>4</td>\n",
       "      <td>...</td>\n",
       "      <td>type3</td>\n",
       "      <td>3.0</td>\n",
       "      <td>1</td>\n",
       "      <td>0.7516</td>\n",
       "      <td>-0.4537</td>\n",
       "      <td>2.0</td>\n",
       "      <td>2</td>\n",
       "      <td>8</td>\n",
       "      <td>2</td>\n",
       "      <td>0.1827</td>\n",
       "    </tr>\n",
       "  </tbody>\n",
       "</table>\n",
       "<p>5 rows × 24 columns</p>\n",
       "</div>"
      ],
      "text/plain": [
       "  Employee_ID Gender   Age  Education_Level Relationship_Status     Hometown  \\\n",
       "0   EID_23371      F  42.0                4             Married     Franklin   \n",
       "1   EID_18000      M  24.0                3              Single  Springfield   \n",
       "2    EID_3891      F  58.0                3             Married      Clinton   \n",
       "3   EID_17492      F  26.0                3              Single      Lebanon   \n",
       "4   EID_22534      F  31.0                1             Married  Springfield   \n",
       "\n",
       "                        Unit Decision_skill_possess  Time_of_service  \\\n",
       "0                         IT             Conceptual              4.0   \n",
       "1                  Logistics             Analytical              5.0   \n",
       "2                    Quality             Conceptual             27.0   \n",
       "3  Human Resource Management             Behavioral              4.0   \n",
       "4                  Logistics             Conceptual              5.0   \n",
       "\n",
       "   Time_since_promotion  ...  Compensation_and_Benefits  Work_Life_balance  \\\n",
       "0                     4  ...                      type2                3.0   \n",
       "1                     4  ...                      type2                4.0   \n",
       "2                     3  ...                      type2                1.0   \n",
       "3                     3  ...                      type2                1.0   \n",
       "4                     4  ...                      type3                3.0   \n",
       "\n",
       "   VAR1    VAR2    VAR3  VAR4  VAR5  VAR6  VAR7  Attrition_rate  \n",
       "0     4  0.7516  1.8688   2.0     4     5     3          0.1841  \n",
       "1     3 -0.9612 -0.4537   2.0     3     5     3          0.0670  \n",
       "2     4 -0.9612 -0.4537   3.0     3     8     3          0.0851  \n",
       "3     3 -1.8176 -0.4537   NaN     3     7     3          0.0668  \n",
       "4     1  0.7516 -0.4537   2.0     2     8     2          0.1827  \n",
       "\n",
       "[5 rows x 24 columns]"
      ]
     },
     "execution_count": 244,
     "metadata": {},
     "output_type": "execute_result"
    }
   ],
   "source": [
    "train_data.head()"
   ]
  },
  {
   "cell_type": "markdown",
   "metadata": {},
   "source": [
    "#### Print shape of train and test data"
   ]
  },
  {
   "cell_type": "code",
   "execution_count": 245,
   "metadata": {},
   "outputs": [
    {
     "data": {
      "text/plain": [
       "(7000, 24)"
      ]
     },
     "execution_count": 245,
     "metadata": {},
     "output_type": "execute_result"
    }
   ],
   "source": [
    "train_data.shape"
   ]
  },
  {
   "cell_type": "code",
   "execution_count": 246,
   "metadata": {},
   "outputs": [
    {
     "data": {
      "text/plain": [
       "(3000, 23)"
      ]
     },
     "execution_count": 246,
     "metadata": {},
     "output_type": "execute_result"
    }
   ],
   "source": [
    "test_data.shape"
   ]
  },
  {
   "cell_type": "markdown",
   "metadata": {},
   "source": [
    "#### Check column names and their dtypes in train data"
   ]
  },
  {
   "cell_type": "code",
   "execution_count": 247,
   "metadata": {},
   "outputs": [
    {
     "data": {
      "text/plain": [
       "Employee_ID                   object\n",
       "Gender                        object\n",
       "Age                          float64\n",
       "Education_Level                int64\n",
       "Relationship_Status           object\n",
       "Hometown                      object\n",
       "Unit                          object\n",
       "Decision_skill_possess        object\n",
       "Time_of_service              float64\n",
       "Time_since_promotion           int64\n",
       "growth_rate                    int64\n",
       "Travel_Rate                    int64\n",
       "Post_Level                     int64\n",
       "Pay_Scale                    float64\n",
       "Compensation_and_Benefits     object\n",
       "Work_Life_balance            float64\n",
       "VAR1                           int64\n",
       "VAR2                         float64\n",
       "VAR3                         float64\n",
       "VAR4                         float64\n",
       "VAR5                           int64\n",
       "VAR6                           int64\n",
       "VAR7                           int64\n",
       "Attrition_rate               float64\n",
       "dtype: object"
      ]
     },
     "execution_count": 247,
     "metadata": {},
     "output_type": "execute_result"
    }
   ],
   "source": [
    "train_data.dtypes"
   ]
  },
  {
   "cell_type": "markdown",
   "metadata": {},
   "source": [
    "#### Check null values in train and test data"
   ]
  },
  {
   "cell_type": "code",
   "execution_count": 248,
   "metadata": {},
   "outputs": [
    {
     "data": {
      "text/plain": [
       "Employee_ID                    0\n",
       "Gender                         0\n",
       "Age                          412\n",
       "Education_Level                0\n",
       "Relationship_Status            0\n",
       "Hometown                       0\n",
       "Unit                           0\n",
       "Decision_skill_possess         0\n",
       "Time_of_service              144\n",
       "Time_since_promotion           0\n",
       "growth_rate                    0\n",
       "Travel_Rate                    0\n",
       "Post_Level                     0\n",
       "Pay_Scale                      9\n",
       "Compensation_and_Benefits      0\n",
       "Work_Life_balance             11\n",
       "VAR1                           0\n",
       "VAR2                         577\n",
       "VAR3                           0\n",
       "VAR4                         656\n",
       "VAR5                           0\n",
       "VAR6                           0\n",
       "VAR7                           0\n",
       "Attrition_rate                 0\n",
       "dtype: int64"
      ]
     },
     "execution_count": 248,
     "metadata": {},
     "output_type": "execute_result"
    }
   ],
   "source": [
    "train_data.isnull().sum()"
   ]
  },
  {
   "cell_type": "code",
   "execution_count": 249,
   "metadata": {},
   "outputs": [
    {
     "data": {
      "text/plain": [
       "Employee_ID                    0\n",
       "Gender                         0\n",
       "Age                          161\n",
       "Education_Level                0\n",
       "Relationship_Status            0\n",
       "Hometown                       0\n",
       "Unit                           0\n",
       "Decision_skill_possess         0\n",
       "Time_of_service               52\n",
       "Time_since_promotion           0\n",
       "growth_rate                    0\n",
       "Travel_Rate                    0\n",
       "Post_Level                     0\n",
       "Pay_Scale                      3\n",
       "Compensation_and_Benefits      0\n",
       "Work_Life_balance              5\n",
       "VAR1                           0\n",
       "VAR2                         217\n",
       "VAR3                           0\n",
       "VAR4                         298\n",
       "VAR5                           0\n",
       "VAR6                           0\n",
       "VAR7                           0\n",
       "dtype: int64"
      ]
     },
     "execution_count": 249,
     "metadata": {},
     "output_type": "execute_result"
    }
   ],
   "source": [
    "test_data.isnull().sum()"
   ]
  },
  {
   "cell_type": "markdown",
   "metadata": {},
   "source": [
    "#### Handle missing values in train and test data\n",
    "##### We will use imputation methods to handle null values in train and test data, but before that we need to see the distribution of features having null values"
   ]
  },
  {
   "cell_type": "code",
   "execution_count": 250,
   "metadata": {},
   "outputs": [
    {
     "data": {
      "image/png": "[encoded data removed]",
      "text/plain": [
       "<Figure size 432x288 with 1 Axes>"
      ]
     },
     "metadata": {},
     "output_type": "display_data"
    }
   ],
   "source": [
    "fig, ax = plt.subplots()\n",
    "train_data['Age'].plot.kde(ax=ax, legend=False)\n",
    "train_data['Age'].plot.hist(density=True, ax=ax)\n",
    "ax.set_facecolor('#d8dcd6')"
   ]
  },
  {
   "cell_type": "markdown",
   "metadata": {},
   "source": [
    "#### Histogram for Age doesn't follow any kind of normal, uniform or skewed distribution so we will use forward filling for imputing values"
   ]
  },
  {
   "cell_type": "code",
   "execution_count": 251,
   "metadata": {},
   "outputs": [],
   "source": [
    "train_data['Age'].ffill(inplace=True)\n",
    "test_data['Age'].ffill(inplace=True)"
   ]
  },
  {
   "cell_type": "code",
   "execution_count": 252,
   "metadata": {},
   "outputs": [
    {
     "data": {
      "image/png": "[encoded data removed]",
      "text/plain": [
       "<Figure size 432x288 with 1 Axes>"
      ]
     },
     "metadata": {},
     "output_type": "display_data"
    }
   ],
   "source": [
    "fig, ax = plt.subplots()\n",
    "train_data['Time_of_service'].plot.kde(ax=ax, legend=False)\n",
    "train_data['Time_of_service'].plot.hist(density=True, ax=ax)\n",
    "ax.set_facecolor('#d8dcd6')"
   ]
  },
  {
   "cell_type": "markdown",
   "metadata": {},
   "source": [
    "#### As graph for Time_of_service is skewed we will impute missing values with median"
   ]
  },
  {
   "cell_type": "code",
   "execution_count": 253,
   "metadata": {},
   "outputs": [],
   "source": [
    "train_data['Time_of_service'].fillna(train_data['Time_of_service'].median(),inplace=True)\n",
    "test_data['Time_of_service'].fillna(train_data['Time_of_service'].median(),inplace=True)"
   ]
  },
  {
   "cell_type": "code",
   "execution_count": 254,
   "metadata": {},
   "outputs": [
    {
     "data": {
      "image/png": "[encoded data removed]",
      "text/plain": [
       "<Figure size 432x288 with 1 Axes>"
      ]
     },
     "metadata": {},
     "output_type": "display_data"
    }
   ],
   "source": [
    "fig, ax = plt.subplots()\n",
    "train_data['Pay_Scale'].plot.kde(ax=ax, legend=False)\n",
    "train_data['Pay_Scale'].plot.hist(density=True, ax=ax)\n",
    "ax.set_facecolor('#d8dcd6')"
   ]
  },
  {
   "cell_type": "markdown",
   "metadata": {},
   "source": [
    "#### Histogram for Pay_Scale doesn't follow any kind of normal, uniform or skewed distribution so we will use forward filling for imputing values"
   ]
  },
  {
   "cell_type": "code",
   "execution_count": 255,
   "metadata": {},
   "outputs": [],
   "source": [
    "train_data['Pay_Scale'].ffill(inplace=True)\n",
    "test_data['Pay_Scale'].ffill(inplace=True)"
   ]
  },
  {
   "cell_type": "code",
   "execution_count": 256,
   "metadata": {},
   "outputs": [
    {
     "data": {
      "image/png": "[encoded data removed]",
      "text/plain": [
       "<Figure size 432x288 with 1 Axes>"
      ]
     },
     "metadata": {},
     "output_type": "display_data"
    }
   ],
   "source": [
    "fig, ax = plt.subplots()\n",
    "train_data['Work_Life_balance'].plot.kde(ax=ax, legend=False)\n",
    "train_data['Work_Life_balance'].plot.hist(density=True, ax=ax)\n",
    "ax.set_facecolor('#d8dcd6')"
   ]
  },
  {
   "cell_type": "code",
   "execution_count": 257,
   "metadata": {},
   "outputs": [
    {
     "data": {
      "image/png": "[encoded data removed]",
      "text/plain": [
       "<Figure size 432x288 with 1 Axes>"
      ]
     },
     "metadata": {},
     "output_type": "display_data"
    }
   ],
   "source": [
    "fig, ax = plt.subplots()\n",
    "train_data['VAR2'].plot.kde(ax=ax, legend=False)\n",
    "train_data['VAR2'].plot.hist(density=True, ax=ax)\n",
    "ax.set_facecolor('#d8dcd6')"
   ]
  },
  {
   "cell_type": "code",
   "execution_count": 258,
   "metadata": {},
   "outputs": [
    {
     "data": {
      "image/png": "[encoded data removed]",
      "text/plain": [
       "<Figure size 432x288 with 1 Axes>"
      ]
     },
     "metadata": {},
     "output_type": "display_data"
    }
   ],
   "source": [
    "fig, ax = plt.subplots()\n",
    "train_data['VAR4'].plot.kde(ax=ax, legend=False)\n",
    "train_data['VAR4'].plot.hist(density=True, ax=ax)\n",
    "ax.set_facecolor('#d8dcd6')"
   ]
  },
  {
   "cell_type": "markdown",
   "metadata": {},
   "source": [
    "#### As you can see from above graphs, Work_Life_balance,VAR2,VAR4 are numerical columns but their values are discrete.Hence we can impute missing values with their mode."
   ]
  },
  {
   "cell_type": "code",
   "execution_count": 259,
   "metadata": {},
   "outputs": [],
   "source": [
    "train_data['Work_Life_balance'].fillna(train_data['Work_Life_balance'].mode()[0],inplace=True)\n",
    "test_data['Work_Life_balance'].fillna(train_data['Work_Life_balance'].mode()[0],inplace=True)"
   ]
  },
  {
   "cell_type": "code",
   "execution_count": 260,
   "metadata": {},
   "outputs": [],
   "source": [
    "train_data['VAR2'].fillna(train_data['VAR2'].mode()[0],inplace=True)\n",
    "test_data['VAR2'].fillna(train_data['VAR2'].mode()[0],inplace=True)"
   ]
  },
  {
   "cell_type": "code",
   "execution_count": 261,
   "metadata": {},
   "outputs": [],
   "source": [
    "train_data['VAR4'].fillna(train_data['VAR4'].mode()[0],inplace=True)\n",
    "test_data['VAR4'].fillna(train_data['VAR4'].mode()[0],inplace=True)"
   ]
  },
  {
   "cell_type": "code",
   "execution_count": 262,
   "metadata": {},
   "outputs": [
    {
     "data": {
      "text/plain": [
       "Employee_ID                  0\n",
       "Gender                       0\n",
       "Age                          0\n",
       "Education_Level              0\n",
       "Relationship_Status          0\n",
       "Hometown                     0\n",
       "Unit                         0\n",
       "Decision_skill_possess       0\n",
       "Time_of_service              0\n",
       "Time_since_promotion         0\n",
       "growth_rate                  0\n",
       "Travel_Rate                  0\n",
       "Post_Level                   0\n",
       "Pay_Scale                    0\n",
       "Compensation_and_Benefits    0\n",
       "Work_Life_balance            0\n",
       "VAR1                         0\n",
       "VAR2                         0\n",
       "VAR3                         0\n",
       "VAR4                         0\n",
       "VAR5                         0\n",
       "VAR6                         0\n",
       "VAR7                         0\n",
       "Attrition_rate               0\n",
       "dtype: int64"
      ]
     },
     "execution_count": 262,
     "metadata": {},
     "output_type": "execute_result"
    }
   ],
   "source": [
    "train_data.isnull().sum()"
   ]
  },
  {
   "cell_type": "code",
   "execution_count": 263,
   "metadata": {},
   "outputs": [
    {
     "data": {
      "text/plain": [
       "Employee_ID                  0\n",
       "Gender                       0\n",
       "Age                          0\n",
       "Education_Level              0\n",
       "Relationship_Status          0\n",
       "Hometown                     0\n",
       "Unit                         0\n",
       "Decision_skill_possess       0\n",
       "Time_of_service              0\n",
       "Time_since_promotion         0\n",
       "growth_rate                  0\n",
       "Travel_Rate                  0\n",
       "Post_Level                   0\n",
       "Pay_Scale                    0\n",
       "Compensation_and_Benefits    0\n",
       "Work_Life_balance            0\n",
       "VAR1                         0\n",
       "VAR2                         0\n",
       "VAR3                         0\n",
       "VAR4                         0\n",
       "VAR5                         0\n",
       "VAR6                         0\n",
       "VAR7                         0\n",
       "dtype: int64"
      ]
     },
     "execution_count": 263,
     "metadata": {},
     "output_type": "execute_result"
    }
   ],
   "source": [
    "test_data.isnull().sum()"
   ]
  },
  {
   "cell_type": "markdown",
   "metadata": {},
   "source": [
    "#### Now we will handle categorical columns , select those columns which have object dtype only"
   ]
  },
  {
   "cell_type": "code",
   "execution_count": 264,
   "metadata": {},
   "outputs": [],
   "source": [
    "categorical_data=train_data.select_dtypes(include=['object'])"
   ]
  },
  {
   "cell_type": "code",
   "execution_count": 265,
   "metadata": {},
   "outputs": [
    {
     "data": {
      "text/html": [
       "<div>\n",
       "<style scoped>\n",
       "    .dataframe tbody tr th:only-of-type {\n",
       "        vertical-align: middle;\n",
       "    }\n",
       "\n",
       "    .dataframe tbody tr th {\n",
       "        vertical-align: top;\n",
       "    }\n",
       "\n",
       "    .dataframe thead th {\n",
       "        text-align: right;\n",
       "    }\n",
       "</style>\n",
       "<table border=\"1\" class=\"dataframe\">\n",
       "  <thead>\n",
       "    <tr style=\"text-align: right;\">\n",
       "      <th></th>\n",
       "      <th>Employee_ID</th>\n",
       "      <th>Gender</th>\n",
       "      <th>Relationship_Status</th>\n",
       "      <th>Hometown</th>\n",
       "      <th>Unit</th>\n",
       "      <th>Decision_skill_possess</th>\n",
       "      <th>Compensation_and_Benefits</th>\n",
       "    </tr>\n",
       "  </thead>\n",
       "  <tbody>\n",
       "    <tr>\n",
       "      <td>0</td>\n",
       "      <td>EID_23371</td>\n",
       "      <td>F</td>\n",
       "      <td>Married</td>\n",
       "      <td>Franklin</td>\n",
       "      <td>IT</td>\n",
       "      <td>Conceptual</td>\n",
       "      <td>type2</td>\n",
       "    </tr>\n",
       "    <tr>\n",
       "      <td>1</td>\n",
       "      <td>EID_18000</td>\n",
       "      <td>M</td>\n",
       "      <td>Single</td>\n",
       "      <td>Springfield</td>\n",
       "      <td>Logistics</td>\n",
       "      <td>Analytical</td>\n",
       "      <td>type2</td>\n",
       "    </tr>\n",
       "    <tr>\n",
       "      <td>2</td>\n",
       "      <td>EID_3891</td>\n",
       "      <td>F</td>\n",
       "      <td>Married</td>\n",
       "      <td>Clinton</td>\n",
       "      <td>Quality</td>\n",
       "      <td>Conceptual</td>\n",
       "      <td>type2</td>\n",
       "    </tr>\n",
       "    <tr>\n",
       "      <td>3</td>\n",
       "      <td>EID_17492</td>\n",
       "      <td>F</td>\n",
       "      <td>Single</td>\n",
       "      <td>Lebanon</td>\n",
       "      <td>Human Resource Management</td>\n",
       "      <td>Behavioral</td>\n",
       "      <td>type2</td>\n",
       "    </tr>\n",
       "    <tr>\n",
       "      <td>4</td>\n",
       "      <td>EID_22534</td>\n",
       "      <td>F</td>\n",
       "      <td>Married</td>\n",
       "      <td>Springfield</td>\n",
       "      <td>Logistics</td>\n",
       "      <td>Conceptual</td>\n",
       "      <td>type3</td>\n",
       "    </tr>\n",
       "  </tbody>\n",
       "</table>\n",
       "</div>"
      ],
      "text/plain": [
       "  Employee_ID Gender Relationship_Status     Hometown  \\\n",
       "0   EID_23371      F             Married     Franklin   \n",
       "1   EID_18000      M              Single  Springfield   \n",
       "2    EID_3891      F             Married      Clinton   \n",
       "3   EID_17492      F              Single      Lebanon   \n",
       "4   EID_22534      F             Married  Springfield   \n",
       "\n",
       "                        Unit Decision_skill_possess Compensation_and_Benefits  \n",
       "0                         IT             Conceptual                     type2  \n",
       "1                  Logistics             Analytical                     type2  \n",
       "2                    Quality             Conceptual                     type2  \n",
       "3  Human Resource Management             Behavioral                     type2  \n",
       "4                  Logistics             Conceptual                     type3  "
      ]
     },
     "execution_count": 265,
     "metadata": {},
     "output_type": "execute_result"
    }
   ],
   "source": [
    "categorical_data.head()"
   ]
  },
  {
   "cell_type": "markdown",
   "metadata": {},
   "source": [
    "#### Plot graphs to see frequency distribution of columns"
   ]
  },
  {
   "cell_type": "code",
   "execution_count": 266,
   "metadata": {},
   "outputs": [],
   "source": [
    "def frequency_distribution(value_count):\n",
    "    sns.set(style=\"darkgrid\")\n",
    "    sns.barplot(value_count.index, value_count.values, alpha=0.9)\n",
    "    plt.show()"
   ]
  },
  {
   "cell_type": "code",
   "execution_count": 267,
   "metadata": {},
   "outputs": [
    {
     "data": {
      "image/png": "[encoded data removed]",
      "text/plain": [
       "<Figure size 432x288 with 1 Axes>"
      ]
     },
     "metadata": {},
     "output_type": "display_data"
    }
   ],
   "source": [
    "frequency_distribution(categorical_data['Gender'].value_counts())"
   ]
  },
  {
   "cell_type": "code",
   "execution_count": 268,
   "metadata": {},
   "outputs": [
    {
     "data": {
      "image/png": "[encoded data removed]",
      "text/plain": [
       "<Figure size 432x288 with 1 Axes>"
      ]
     },
     "metadata": {},
     "output_type": "display_data"
    }
   ],
   "source": [
    "frequency_distribution(categorical_data['Relationship_Status'].value_counts())"
   ]
  },
  {
   "cell_type": "code",
   "execution_count": 269,
   "metadata": {},
   "outputs": [
    {
     "data": {
      "image/png": "[encoded data removed]",
      "text/plain": [
       "<Figure size 432x288 with 1 Axes>"
      ]
     },
     "metadata": {},
     "output_type": "display_data"
    }
   ],
   "source": [
    "frequency_distribution(categorical_data['Hometown'].value_counts())"
   ]
  },
  {
   "cell_type": "code",
   "execution_count": 270,
   "metadata": {},
   "outputs": [
    {
     "data": {
      "image/png": "[encoded data removed]",
      "text/plain": [
       "<Figure size 432x288 with 1 Axes>"
      ]
     },
     "metadata": {},
     "output_type": "display_data"
    },
    {
     "name": "stdout",
     "output_type": "stream",
     "text": [
      "12\n"
     ]
    }
   ],
   "source": [
    "frequency_distribution(categorical_data['Unit'].value_counts())\n",
    "print(categorical_data['Unit'].value_counts().count())"
   ]
  },
  {
   "cell_type": "code",
   "execution_count": 271,
   "metadata": {},
   "outputs": [
    {
     "data": {
      "image/png": "[encoded data removed]",
      "text/plain": [
       "<Figure size 432x288 with 1 Axes>"
      ]
     },
     "metadata": {},
     "output_type": "display_data"
    }
   ],
   "source": [
    "frequency_distribution(categorical_data['Decision_skill_possess'].value_counts())"
   ]
  },
  {
   "cell_type": "code",
   "execution_count": 272,
   "metadata": {},
   "outputs": [
    {
     "data": {
      "image/png": "[encoded data removed]",
      "text/plain": [
       "<Figure size 432x288 with 1 Axes>"
      ]
     },
     "metadata": {},
     "output_type": "display_data"
    }
   ],
   "source": [
    "frequency_distribution(categorical_data['Compensation_and_Benefits'].value_counts())\n"
   ]
  },
  {
   "cell_type": "markdown",
   "metadata": {},
   "source": [
    "#### As Gender and Relationshup_Status have only two categories, we will map them with 0 and 1."
   ]
  },
  {
   "cell_type": "code",
   "execution_count": 273,
   "metadata": {},
   "outputs": [],
   "source": [
    "train_data['Gender']=train_data['Gender'].apply(lambda x : 0 if x=='F' else 1)\n",
    "test_data['Gender']=test_data['Gender'].apply(lambda x : 0 if x=='F' else 1)"
   ]
  },
  {
   "cell_type": "code",
   "execution_count": 274,
   "metadata": {},
   "outputs": [],
   "source": [
    "train_data['Relationship_Status']=train_data['Relationship_Status'].apply(lambda x : 0 if x=='Married' else 1)\n",
    "test_data['Relationship_Status']=test_data['Relationship_Status'].apply(lambda x : 0 if x=='Married' else 1)"
   ]
  },
  {
   "cell_type": "markdown",
   "metadata": {},
   "source": [
    "#### Hometown and Decision_skill_possess  are nominal variables with 5  and 4 different values respectively so we will use one hot encoding."
   ]
  },
  {
   "cell_type": "code",
   "execution_count": 275,
   "metadata": {},
   "outputs": [],
   "source": [
    "one_hot_enc=OneHotEncoder(handle_unknown='ignore')\n",
    "enc_data=one_hot_enc.fit_transform(categorical_data[['Hometown']]).toarray()\n",
    "enc_hometown_train = pd.DataFrame(enc_data,columns=one_hot_enc.categories_[0])\n",
    "train_data= train_data.join(enc_hometown_train)"
   ]
  },
  {
   "cell_type": "code",
   "execution_count": 276,
   "metadata": {},
   "outputs": [],
   "source": [
    "enc_data=one_hot_enc.transform(test_data[['Hometown']]).toarray()\n",
    "enc_hometown_test=pd.DataFrame(enc_data,columns=one_hot_enc.categories_[0])\n",
    "test_data= test_data.join(enc_hometown_test)"
   ]
  },
  {
   "cell_type": "code",
   "execution_count": 277,
   "metadata": {},
   "outputs": [],
   "source": [
    "enc_data=one_hot_enc.fit_transform(categorical_data[['Decision_skill_possess']]).toarray()\n",
    "enc_dec_skill_train = pd.DataFrame(enc_data,columns=one_hot_enc.categories_[0])\n",
    "train_data= train_data.join(enc_dec_skill_train)"
   ]
  },
  {
   "cell_type": "code",
   "execution_count": 278,
   "metadata": {},
   "outputs": [],
   "source": [
    "enc_data=one_hot_enc.transform(test_data[['Decision_skill_possess']]).toarray()\n",
    "enc_dec_skill_test=pd.DataFrame(enc_data,columns=one_hot_enc.categories_[0])\n",
    "test_data= test_data.join(enc_dec_skill_test)"
   ]
  },
  {
   "cell_type": "code",
   "execution_count": 279,
   "metadata": {},
   "outputs": [
    {
     "data": {
      "text/html": [
       "<div>\n",
       "<style scoped>\n",
       "    .dataframe tbody tr th:only-of-type {\n",
       "        vertical-align: middle;\n",
       "    }\n",
       "\n",
       "    .dataframe tbody tr th {\n",
       "        vertical-align: top;\n",
       "    }\n",
       "\n",
       "    .dataframe thead th {\n",
       "        text-align: right;\n",
       "    }\n",
       "</style>\n",
       "<table border=\"1\" class=\"dataframe\">\n",
       "  <thead>\n",
       "    <tr style=\"text-align: right;\">\n",
       "      <th></th>\n",
       "      <th>Employee_ID</th>\n",
       "      <th>Gender</th>\n",
       "      <th>Age</th>\n",
       "      <th>Education_Level</th>\n",
       "      <th>Relationship_Status</th>\n",
       "      <th>Hometown</th>\n",
       "      <th>Unit</th>\n",
       "      <th>Decision_skill_possess</th>\n",
       "      <th>Time_of_service</th>\n",
       "      <th>Time_since_promotion</th>\n",
       "      <th>...</th>\n",
       "      <th>Attrition_rate</th>\n",
       "      <th>Clinton</th>\n",
       "      <th>Franklin</th>\n",
       "      <th>Lebanon</th>\n",
       "      <th>Springfield</th>\n",
       "      <th>Washington</th>\n",
       "      <th>Analytical</th>\n",
       "      <th>Behavioral</th>\n",
       "      <th>Conceptual</th>\n",
       "      <th>Directive</th>\n",
       "    </tr>\n",
       "  </thead>\n",
       "  <tbody>\n",
       "    <tr>\n",
       "      <td>0</td>\n",
       "      <td>EID_23371</td>\n",
       "      <td>0</td>\n",
       "      <td>42.0</td>\n",
       "      <td>4</td>\n",
       "      <td>0</td>\n",
       "      <td>Franklin</td>\n",
       "      <td>IT</td>\n",
       "      <td>Conceptual</td>\n",
       "      <td>4.0</td>\n",
       "      <td>4</td>\n",
       "      <td>...</td>\n",
       "      <td>0.1841</td>\n",
       "      <td>0.0</td>\n",
       "      <td>1.0</td>\n",
       "      <td>0.0</td>\n",
       "      <td>0.0</td>\n",
       "      <td>0.0</td>\n",
       "      <td>0.0</td>\n",
       "      <td>0.0</td>\n",
       "      <td>1.0</td>\n",
       "      <td>0.0</td>\n",
       "    </tr>\n",
       "    <tr>\n",
       "      <td>1</td>\n",
       "      <td>EID_18000</td>\n",
       "      <td>1</td>\n",
       "      <td>24.0</td>\n",
       "      <td>3</td>\n",
       "      <td>1</td>\n",
       "      <td>Springfield</td>\n",
       "      <td>Logistics</td>\n",
       "      <td>Analytical</td>\n",
       "      <td>5.0</td>\n",
       "      <td>4</td>\n",
       "      <td>...</td>\n",
       "      <td>0.0670</td>\n",
       "      <td>0.0</td>\n",
       "      <td>0.0</td>\n",
       "      <td>0.0</td>\n",
       "      <td>1.0</td>\n",
       "      <td>0.0</td>\n",
       "      <td>1.0</td>\n",
       "      <td>0.0</td>\n",
       "      <td>0.0</td>\n",
       "      <td>0.0</td>\n",
       "    </tr>\n",
       "    <tr>\n",
       "      <td>2</td>\n",
       "      <td>EID_3891</td>\n",
       "      <td>0</td>\n",
       "      <td>58.0</td>\n",
       "      <td>3</td>\n",
       "      <td>0</td>\n",
       "      <td>Clinton</td>\n",
       "      <td>Quality</td>\n",
       "      <td>Conceptual</td>\n",
       "      <td>27.0</td>\n",
       "      <td>3</td>\n",
       "      <td>...</td>\n",
       "      <td>0.0851</td>\n",
       "      <td>1.0</td>\n",
       "      <td>0.0</td>\n",
       "      <td>0.0</td>\n",
       "      <td>0.0</td>\n",
       "      <td>0.0</td>\n",
       "      <td>0.0</td>\n",
       "      <td>0.0</td>\n",
       "      <td>1.0</td>\n",
       "      <td>0.0</td>\n",
       "    </tr>\n",
       "    <tr>\n",
       "      <td>3</td>\n",
       "      <td>EID_17492</td>\n",
       "      <td>0</td>\n",
       "      <td>26.0</td>\n",
       "      <td>3</td>\n",
       "      <td>1</td>\n",
       "      <td>Lebanon</td>\n",
       "      <td>Human Resource Management</td>\n",
       "      <td>Behavioral</td>\n",
       "      <td>4.0</td>\n",
       "      <td>3</td>\n",
       "      <td>...</td>\n",
       "      <td>0.0668</td>\n",
       "      <td>0.0</td>\n",
       "      <td>0.0</td>\n",
       "      <td>1.0</td>\n",
       "      <td>0.0</td>\n",
       "      <td>0.0</td>\n",
       "      <td>0.0</td>\n",
       "      <td>1.0</td>\n",
       "      <td>0.0</td>\n",
       "      <td>0.0</td>\n",
       "    </tr>\n",
       "    <tr>\n",
       "      <td>4</td>\n",
       "      <td>EID_22534</td>\n",
       "      <td>0</td>\n",
       "      <td>31.0</td>\n",
       "      <td>1</td>\n",
       "      <td>0</td>\n",
       "      <td>Springfield</td>\n",
       "      <td>Logistics</td>\n",
       "      <td>Conceptual</td>\n",
       "      <td>5.0</td>\n",
       "      <td>4</td>\n",
       "      <td>...</td>\n",
       "      <td>0.1827</td>\n",
       "      <td>0.0</td>\n",
       "      <td>0.0</td>\n",
       "      <td>0.0</td>\n",
       "      <td>1.0</td>\n",
       "      <td>0.0</td>\n",
       "      <td>0.0</td>\n",
       "      <td>0.0</td>\n",
       "      <td>1.0</td>\n",
       "      <td>0.0</td>\n",
       "    </tr>\n",
       "  </tbody>\n",
       "</table>\n",
       "<p>5 rows × 33 columns</p>\n",
       "</div>"
      ],
      "text/plain": [
       "  Employee_ID  Gender   Age  Education_Level  Relationship_Status  \\\n",
       "0   EID_23371       0  42.0                4                    0   \n",
       "1   EID_18000       1  24.0                3                    1   \n",
       "2    EID_3891       0  58.0                3                    0   \n",
       "3   EID_17492       0  26.0                3                    1   \n",
       "4   EID_22534       0  31.0                1                    0   \n",
       "\n",
       "      Hometown                       Unit Decision_skill_possess  \\\n",
       "0     Franklin                         IT             Conceptual   \n",
       "1  Springfield                  Logistics             Analytical   \n",
       "2      Clinton                    Quality             Conceptual   \n",
       "3      Lebanon  Human Resource Management             Behavioral   \n",
       "4  Springfield                  Logistics             Conceptual   \n",
       "\n",
       "   Time_of_service  Time_since_promotion  ...  Attrition_rate  Clinton  \\\n",
       "0              4.0                     4  ...          0.1841      0.0   \n",
       "1              5.0                     4  ...          0.0670      0.0   \n",
       "2             27.0                     3  ...          0.0851      1.0   \n",
       "3              4.0                     3  ...          0.0668      0.0   \n",
       "4              5.0                     4  ...          0.1827      0.0   \n",
       "\n",
       "   Franklin  Lebanon Springfield  Washington  Analytical  Behavioral  \\\n",
       "0       1.0      0.0         0.0         0.0         0.0         0.0   \n",
       "1       0.0      0.0         1.0         0.0         1.0         0.0   \n",
       "2       0.0      0.0         0.0         0.0         0.0         0.0   \n",
       "3       0.0      1.0         0.0         0.0         0.0         1.0   \n",
       "4       0.0      0.0         1.0         0.0         0.0         0.0   \n",
       "\n",
       "   Conceptual  Directive  \n",
       "0         1.0        0.0  \n",
       "1         0.0        0.0  \n",
       "2         1.0        0.0  \n",
       "3         0.0        0.0  \n",
       "4         1.0        0.0  \n",
       "\n",
       "[5 rows x 33 columns]"
      ]
     },
     "execution_count": 279,
     "metadata": {},
     "output_type": "execute_result"
    }
   ],
   "source": [
    "train_data.head()"
   ]
  },
  {
   "cell_type": "markdown",
   "metadata": {},
   "source": [
    "#### Now we can drop Hometown and Decision_skill_possess columns from train and test data"
   ]
  },
  {
   "cell_type": "code",
   "execution_count": 280,
   "metadata": {},
   "outputs": [],
   "source": [
    "train_data.drop(['Hometown','Decision_skill_possess'],axis=1,inplace=True)\n",
    "test_data.drop(['Hometown','Decision_skill_possess'],axis=1,inplace=True)"
   ]
  },
  {
   "cell_type": "markdown",
   "metadata": {},
   "source": [
    "#### Compensation_and_Benefits have some order so we will use label encdoing."
   ]
  },
  {
   "cell_type": "code",
   "execution_count": 281,
   "metadata": {},
   "outputs": [],
   "source": [
    "label_enc=LabelEncoder()\n",
    "train_data['Compensation_and_Benefits']=label_enc.fit_transform(train_data['Compensation_and_Benefits'])"
   ]
  },
  {
   "cell_type": "code",
   "execution_count": 282,
   "metadata": {},
   "outputs": [],
   "source": [
    "test_data['Compensation_and_Benefits']=label_enc.transform(test_data['Compensation_and_Benefits'])"
   ]
  },
  {
   "cell_type": "markdown",
   "metadata": {},
   "source": [
    "#### Unit column has 12 different categories, we will use Binary Encoding"
   ]
  },
  {
   "cell_type": "code",
   "execution_count": 283,
   "metadata": {},
   "outputs": [],
   "source": [
    "import category_encoders as ce\n",
    "enc=ce.BinaryEncoder(cols=['Unit'])\n",
    "enc_data=enc.fit_transform(train_data['Unit'])\n",
    "train_data=pd.concat([train_data,enc_data],axis=1)"
   ]
  },
  {
   "cell_type": "code",
   "execution_count": 284,
   "metadata": {},
   "outputs": [],
   "source": [
    "enc_data=enc.transform(test_data['Unit'])\n",
    "test_data=pd.concat([test_data,enc_data],axis=1)"
   ]
  },
  {
   "cell_type": "code",
   "execution_count": 285,
   "metadata": {},
   "outputs": [
    {
     "data": {
      "text/html": [
       "<div>\n",
       "<style scoped>\n",
       "    .dataframe tbody tr th:only-of-type {\n",
       "        vertical-align: middle;\n",
       "    }\n",
       "\n",
       "    .dataframe tbody tr th {\n",
       "        vertical-align: top;\n",
       "    }\n",
       "\n",
       "    .dataframe thead th {\n",
       "        text-align: right;\n",
       "    }\n",
       "</style>\n",
       "<table border=\"1\" class=\"dataframe\">\n",
       "  <thead>\n",
       "    <tr style=\"text-align: right;\">\n",
       "      <th></th>\n",
       "      <th>Employee_ID</th>\n",
       "      <th>Gender</th>\n",
       "      <th>Age</th>\n",
       "      <th>Education_Level</th>\n",
       "      <th>Relationship_Status</th>\n",
       "      <th>Unit</th>\n",
       "      <th>Time_of_service</th>\n",
       "      <th>Time_since_promotion</th>\n",
       "      <th>growth_rate</th>\n",
       "      <th>Travel_Rate</th>\n",
       "      <th>...</th>\n",
       "      <th>Washington</th>\n",
       "      <th>Analytical</th>\n",
       "      <th>Behavioral</th>\n",
       "      <th>Conceptual</th>\n",
       "      <th>Directive</th>\n",
       "      <th>Unit_0</th>\n",
       "      <th>Unit_1</th>\n",
       "      <th>Unit_2</th>\n",
       "      <th>Unit_3</th>\n",
       "      <th>Unit_4</th>\n",
       "    </tr>\n",
       "  </thead>\n",
       "  <tbody>\n",
       "    <tr>\n",
       "      <td>0</td>\n",
       "      <td>EID_23371</td>\n",
       "      <td>0</td>\n",
       "      <td>42.0</td>\n",
       "      <td>4</td>\n",
       "      <td>0</td>\n",
       "      <td>IT</td>\n",
       "      <td>4.0</td>\n",
       "      <td>4</td>\n",
       "      <td>33</td>\n",
       "      <td>1</td>\n",
       "      <td>...</td>\n",
       "      <td>0.0</td>\n",
       "      <td>0.0</td>\n",
       "      <td>0.0</td>\n",
       "      <td>1.0</td>\n",
       "      <td>0.0</td>\n",
       "      <td>0</td>\n",
       "      <td>0</td>\n",
       "      <td>0</td>\n",
       "      <td>0</td>\n",
       "      <td>1</td>\n",
       "    </tr>\n",
       "    <tr>\n",
       "      <td>1</td>\n",
       "      <td>EID_18000</td>\n",
       "      <td>1</td>\n",
       "      <td>24.0</td>\n",
       "      <td>3</td>\n",
       "      <td>1</td>\n",
       "      <td>Logistics</td>\n",
       "      <td>5.0</td>\n",
       "      <td>4</td>\n",
       "      <td>36</td>\n",
       "      <td>0</td>\n",
       "      <td>...</td>\n",
       "      <td>0.0</td>\n",
       "      <td>1.0</td>\n",
       "      <td>0.0</td>\n",
       "      <td>0.0</td>\n",
       "      <td>0.0</td>\n",
       "      <td>0</td>\n",
       "      <td>0</td>\n",
       "      <td>0</td>\n",
       "      <td>1</td>\n",
       "      <td>0</td>\n",
       "    </tr>\n",
       "    <tr>\n",
       "      <td>2</td>\n",
       "      <td>EID_3891</td>\n",
       "      <td>0</td>\n",
       "      <td>58.0</td>\n",
       "      <td>3</td>\n",
       "      <td>0</td>\n",
       "      <td>Quality</td>\n",
       "      <td>27.0</td>\n",
       "      <td>3</td>\n",
       "      <td>51</td>\n",
       "      <td>0</td>\n",
       "      <td>...</td>\n",
       "      <td>0.0</td>\n",
       "      <td>0.0</td>\n",
       "      <td>0.0</td>\n",
       "      <td>1.0</td>\n",
       "      <td>0.0</td>\n",
       "      <td>0</td>\n",
       "      <td>0</td>\n",
       "      <td>0</td>\n",
       "      <td>1</td>\n",
       "      <td>1</td>\n",
       "    </tr>\n",
       "    <tr>\n",
       "      <td>3</td>\n",
       "      <td>EID_17492</td>\n",
       "      <td>0</td>\n",
       "      <td>26.0</td>\n",
       "      <td>3</td>\n",
       "      <td>1</td>\n",
       "      <td>Human Resource Management</td>\n",
       "      <td>4.0</td>\n",
       "      <td>3</td>\n",
       "      <td>56</td>\n",
       "      <td>1</td>\n",
       "      <td>...</td>\n",
       "      <td>0.0</td>\n",
       "      <td>0.0</td>\n",
       "      <td>1.0</td>\n",
       "      <td>0.0</td>\n",
       "      <td>0.0</td>\n",
       "      <td>0</td>\n",
       "      <td>0</td>\n",
       "      <td>1</td>\n",
       "      <td>0</td>\n",
       "      <td>0</td>\n",
       "    </tr>\n",
       "    <tr>\n",
       "      <td>4</td>\n",
       "      <td>EID_22534</td>\n",
       "      <td>0</td>\n",
       "      <td>31.0</td>\n",
       "      <td>1</td>\n",
       "      <td>0</td>\n",
       "      <td>Logistics</td>\n",
       "      <td>5.0</td>\n",
       "      <td>4</td>\n",
       "      <td>62</td>\n",
       "      <td>1</td>\n",
       "      <td>...</td>\n",
       "      <td>0.0</td>\n",
       "      <td>0.0</td>\n",
       "      <td>0.0</td>\n",
       "      <td>1.0</td>\n",
       "      <td>0.0</td>\n",
       "      <td>0</td>\n",
       "      <td>0</td>\n",
       "      <td>0</td>\n",
       "      <td>1</td>\n",
       "      <td>0</td>\n",
       "    </tr>\n",
       "  </tbody>\n",
       "</table>\n",
       "<p>5 rows × 36 columns</p>\n",
       "</div>"
      ],
      "text/plain": [
       "  Employee_ID  Gender   Age  Education_Level  Relationship_Status  \\\n",
       "0   EID_23371       0  42.0                4                    0   \n",
       "1   EID_18000       1  24.0                3                    1   \n",
       "2    EID_3891       0  58.0                3                    0   \n",
       "3   EID_17492       0  26.0                3                    1   \n",
       "4   EID_22534       0  31.0                1                    0   \n",
       "\n",
       "                        Unit  Time_of_service  Time_since_promotion  \\\n",
       "0                         IT              4.0                     4   \n",
       "1                  Logistics              5.0                     4   \n",
       "2                    Quality             27.0                     3   \n",
       "3  Human Resource Management              4.0                     3   \n",
       "4                  Logistics              5.0                     4   \n",
       "\n",
       "   growth_rate  Travel_Rate  ...  Washington  Analytical  Behavioral  \\\n",
       "0           33            1  ...         0.0         0.0         0.0   \n",
       "1           36            0  ...         0.0         1.0         0.0   \n",
       "2           51            0  ...         0.0         0.0         0.0   \n",
       "3           56            1  ...         0.0         0.0         1.0   \n",
       "4           62            1  ...         0.0         0.0         0.0   \n",
       "\n",
       "   Conceptual  Directive  Unit_0  Unit_1  Unit_2  Unit_3  Unit_4  \n",
       "0         1.0        0.0       0       0       0       0       1  \n",
       "1         0.0        0.0       0       0       0       1       0  \n",
       "2         1.0        0.0       0       0       0       1       1  \n",
       "3         0.0        0.0       0       0       1       0       0  \n",
       "4         1.0        0.0       0       0       0       1       0  \n",
       "\n",
       "[5 rows x 36 columns]"
      ]
     },
     "execution_count": 285,
     "metadata": {},
     "output_type": "execute_result"
    }
   ],
   "source": [
    "train_data.head()"
   ]
  },
  {
   "cell_type": "code",
   "execution_count": 286,
   "metadata": {},
   "outputs": [
    {
     "data": {
      "text/html": [
       "<div>\n",
       "<style scoped>\n",
       "    .dataframe tbody tr th:only-of-type {\n",
       "        vertical-align: middle;\n",
       "    }\n",
       "\n",
       "    .dataframe tbody tr th {\n",
       "        vertical-align: top;\n",
       "    }\n",
       "\n",
       "    .dataframe thead th {\n",
       "        text-align: right;\n",
       "    }\n",
       "</style>\n",
       "<table border=\"1\" class=\"dataframe\">\n",
       "  <thead>\n",
       "    <tr style=\"text-align: right;\">\n",
       "      <th></th>\n",
       "      <th>Employee_ID</th>\n",
       "      <th>Gender</th>\n",
       "      <th>Age</th>\n",
       "      <th>Education_Level</th>\n",
       "      <th>Relationship_Status</th>\n",
       "      <th>Unit</th>\n",
       "      <th>Time_of_service</th>\n",
       "      <th>Time_since_promotion</th>\n",
       "      <th>growth_rate</th>\n",
       "      <th>Travel_Rate</th>\n",
       "      <th>...</th>\n",
       "      <th>Washington</th>\n",
       "      <th>Analytical</th>\n",
       "      <th>Behavioral</th>\n",
       "      <th>Conceptual</th>\n",
       "      <th>Directive</th>\n",
       "      <th>Unit_0</th>\n",
       "      <th>Unit_1</th>\n",
       "      <th>Unit_2</th>\n",
       "      <th>Unit_3</th>\n",
       "      <th>Unit_4</th>\n",
       "    </tr>\n",
       "  </thead>\n",
       "  <tbody>\n",
       "    <tr>\n",
       "      <td>0</td>\n",
       "      <td>EID_22713</td>\n",
       "      <td>0</td>\n",
       "      <td>32.0</td>\n",
       "      <td>5</td>\n",
       "      <td>1</td>\n",
       "      <td>R&amp;D</td>\n",
       "      <td>7.0</td>\n",
       "      <td>4</td>\n",
       "      <td>30</td>\n",
       "      <td>1</td>\n",
       "      <td>...</td>\n",
       "      <td>0.0</td>\n",
       "      <td>0.0</td>\n",
       "      <td>0.0</td>\n",
       "      <td>1.0</td>\n",
       "      <td>0.0</td>\n",
       "      <td>0</td>\n",
       "      <td>1</td>\n",
       "      <td>0</td>\n",
       "      <td>1</td>\n",
       "      <td>1</td>\n",
       "    </tr>\n",
       "    <tr>\n",
       "      <td>1</td>\n",
       "      <td>EID_9658</td>\n",
       "      <td>1</td>\n",
       "      <td>65.0</td>\n",
       "      <td>2</td>\n",
       "      <td>1</td>\n",
       "      <td>IT</td>\n",
       "      <td>41.0</td>\n",
       "      <td>2</td>\n",
       "      <td>72</td>\n",
       "      <td>1</td>\n",
       "      <td>...</td>\n",
       "      <td>0.0</td>\n",
       "      <td>0.0</td>\n",
       "      <td>0.0</td>\n",
       "      <td>0.0</td>\n",
       "      <td>1.0</td>\n",
       "      <td>0</td>\n",
       "      <td>0</td>\n",
       "      <td>0</td>\n",
       "      <td>0</td>\n",
       "      <td>1</td>\n",
       "    </tr>\n",
       "    <tr>\n",
       "      <td>2</td>\n",
       "      <td>EID_22203</td>\n",
       "      <td>1</td>\n",
       "      <td>52.0</td>\n",
       "      <td>3</td>\n",
       "      <td>0</td>\n",
       "      <td>Sales</td>\n",
       "      <td>21.0</td>\n",
       "      <td>3</td>\n",
       "      <td>25</td>\n",
       "      <td>0</td>\n",
       "      <td>...</td>\n",
       "      <td>0.0</td>\n",
       "      <td>0.0</td>\n",
       "      <td>0.0</td>\n",
       "      <td>0.0</td>\n",
       "      <td>1.0</td>\n",
       "      <td>0</td>\n",
       "      <td>0</td>\n",
       "      <td>1</td>\n",
       "      <td>1</td>\n",
       "      <td>0</td>\n",
       "    </tr>\n",
       "    <tr>\n",
       "      <td>3</td>\n",
       "      <td>EID_7652</td>\n",
       "      <td>1</td>\n",
       "      <td>50.0</td>\n",
       "      <td>5</td>\n",
       "      <td>1</td>\n",
       "      <td>Marketing</td>\n",
       "      <td>11.0</td>\n",
       "      <td>4</td>\n",
       "      <td>28</td>\n",
       "      <td>1</td>\n",
       "      <td>...</td>\n",
       "      <td>1.0</td>\n",
       "      <td>1.0</td>\n",
       "      <td>0.0</td>\n",
       "      <td>0.0</td>\n",
       "      <td>0.0</td>\n",
       "      <td>0</td>\n",
       "      <td>1</td>\n",
       "      <td>0</td>\n",
       "      <td>1</td>\n",
       "      <td>0</td>\n",
       "    </tr>\n",
       "    <tr>\n",
       "      <td>4</td>\n",
       "      <td>EID_6516</td>\n",
       "      <td>0</td>\n",
       "      <td>44.0</td>\n",
       "      <td>3</td>\n",
       "      <td>0</td>\n",
       "      <td>R&amp;D</td>\n",
       "      <td>12.0</td>\n",
       "      <td>4</td>\n",
       "      <td>47</td>\n",
       "      <td>1</td>\n",
       "      <td>...</td>\n",
       "      <td>0.0</td>\n",
       "      <td>0.0</td>\n",
       "      <td>0.0</td>\n",
       "      <td>1.0</td>\n",
       "      <td>0.0</td>\n",
       "      <td>0</td>\n",
       "      <td>1</td>\n",
       "      <td>0</td>\n",
       "      <td>1</td>\n",
       "      <td>1</td>\n",
       "    </tr>\n",
       "  </tbody>\n",
       "</table>\n",
       "<p>5 rows × 35 columns</p>\n",
       "</div>"
      ],
      "text/plain": [
       "  Employee_ID  Gender   Age  Education_Level  Relationship_Status       Unit  \\\n",
       "0   EID_22713       0  32.0                5                    1        R&D   \n",
       "1    EID_9658       1  65.0                2                    1         IT   \n",
       "2   EID_22203       1  52.0                3                    0      Sales   \n",
       "3    EID_7652       1  50.0                5                    1  Marketing   \n",
       "4    EID_6516       0  44.0                3                    0        R&D   \n",
       "\n",
       "   Time_of_service  Time_since_promotion  growth_rate  Travel_Rate  ...  \\\n",
       "0              7.0                     4           30            1  ...   \n",
       "1             41.0                     2           72            1  ...   \n",
       "2             21.0                     3           25            0  ...   \n",
       "3             11.0                     4           28            1  ...   \n",
       "4             12.0                     4           47            1  ...   \n",
       "\n",
       "   Washington  Analytical  Behavioral  Conceptual  Directive  Unit_0  Unit_1  \\\n",
       "0         0.0         0.0         0.0         1.0        0.0       0       1   \n",
       "1         0.0         0.0         0.0         0.0        1.0       0       0   \n",
       "2         0.0         0.0         0.0         0.0        1.0       0       0   \n",
       "3         1.0         1.0         0.0         0.0        0.0       0       1   \n",
       "4         0.0         0.0         0.0         1.0        0.0       0       1   \n",
       "\n",
       "   Unit_2  Unit_3  Unit_4  \n",
       "0       0       1       1  \n",
       "1       0       0       1  \n",
       "2       1       1       0  \n",
       "3       0       1       0  \n",
       "4       0       1       1  \n",
       "\n",
       "[5 rows x 35 columns]"
      ]
     },
     "execution_count": 286,
     "metadata": {},
     "output_type": "execute_result"
    }
   ],
   "source": [
    "test_data.head()"
   ]
  },
  {
   "cell_type": "markdown",
   "metadata": {},
   "source": [
    "#### As you can see Binary Encoder has made only 4 new columns out of 12 categories unlike One Hot Encoding which had made 12 new columns."
   ]
  },
  {
   "cell_type": "markdown",
   "metadata": {},
   "source": [
    "#### We can remove Unit from train and test data and we don't need Empolyee_ID also because each Employee_ID is unique and it won't be useful for the model."
   ]
  },
  {
   "cell_type": "code",
   "execution_count": 287,
   "metadata": {},
   "outputs": [],
   "source": [
    "train_data.drop(['Unit','Employee_ID'],axis=1,inplace=True)\n",
    "test_data.drop(['Unit','Employee_ID'],axis=1,inplace=True)"
   ]
  },
  {
   "cell_type": "code",
   "execution_count": 288,
   "metadata": {},
   "outputs": [
    {
     "data": {
      "text/plain": [
       "(7000, 34)"
      ]
     },
     "execution_count": 288,
     "metadata": {},
     "output_type": "execute_result"
    }
   ],
   "source": [
    "train_data.shape"
   ]
  },
  {
   "cell_type": "code",
   "execution_count": 289,
   "metadata": {},
   "outputs": [
    {
     "data": {
      "text/plain": [
       "(3000, 33)"
      ]
     },
     "execution_count": 289,
     "metadata": {},
     "output_type": "execute_result"
    }
   ],
   "source": [
    "test_data.shape"
   ]
  },
  {
   "cell_type": "markdown",
   "metadata": {},
   "source": [
    "#### Print description of data to check if data is on same scale or not."
   ]
  },
  {
   "cell_type": "code",
   "execution_count": 290,
   "metadata": {},
   "outputs": [
    {
     "data": {
      "text/html": [
       "<div>\n",
       "<style scoped>\n",
       "    .dataframe tbody tr th:only-of-type {\n",
       "        vertical-align: middle;\n",
       "    }\n",
       "\n",
       "    .dataframe tbody tr th {\n",
       "        vertical-align: top;\n",
       "    }\n",
       "\n",
       "    .dataframe thead th {\n",
       "        text-align: right;\n",
       "    }\n",
       "</style>\n",
       "<table border=\"1\" class=\"dataframe\">\n",
       "  <thead>\n",
       "    <tr style=\"text-align: right;\">\n",
       "      <th></th>\n",
       "      <th>Gender</th>\n",
       "      <th>Age</th>\n",
       "      <th>Education_Level</th>\n",
       "      <th>Relationship_Status</th>\n",
       "      <th>Time_of_service</th>\n",
       "      <th>Time_since_promotion</th>\n",
       "      <th>growth_rate</th>\n",
       "      <th>Travel_Rate</th>\n",
       "      <th>Post_Level</th>\n",
       "      <th>Pay_Scale</th>\n",
       "      <th>...</th>\n",
       "      <th>Washington</th>\n",
       "      <th>Analytical</th>\n",
       "      <th>Behavioral</th>\n",
       "      <th>Conceptual</th>\n",
       "      <th>Directive</th>\n",
       "      <th>Unit_0</th>\n",
       "      <th>Unit_1</th>\n",
       "      <th>Unit_2</th>\n",
       "      <th>Unit_3</th>\n",
       "      <th>Unit_4</th>\n",
       "    </tr>\n",
       "  </thead>\n",
       "  <tbody>\n",
       "    <tr>\n",
       "      <td>count</td>\n",
       "      <td>7000.000000</td>\n",
       "      <td>7000.000000</td>\n",
       "      <td>7000.000000</td>\n",
       "      <td>7000.000000</td>\n",
       "      <td>7000.000000</td>\n",
       "      <td>7000.000000</td>\n",
       "      <td>7000.000000</td>\n",
       "      <td>7000.000000</td>\n",
       "      <td>7000.000000</td>\n",
       "      <td>7000.000000</td>\n",
       "      <td>...</td>\n",
       "      <td>7000.000000</td>\n",
       "      <td>7000.000000</td>\n",
       "      <td>7000.000000</td>\n",
       "      <td>7000.000000</td>\n",
       "      <td>7000.000000</td>\n",
       "      <td>7000.0</td>\n",
       "      <td>7000.000000</td>\n",
       "      <td>7000.000000</td>\n",
       "      <td>7000.000000</td>\n",
       "      <td>7000.000000</td>\n",
       "    </tr>\n",
       "    <tr>\n",
       "      <td>mean</td>\n",
       "      <td>0.412286</td>\n",
       "      <td>39.599286</td>\n",
       "      <td>3.187857</td>\n",
       "      <td>0.354286</td>\n",
       "      <td>13.315429</td>\n",
       "      <td>2.367143</td>\n",
       "      <td>47.064286</td>\n",
       "      <td>0.817857</td>\n",
       "      <td>2.798000</td>\n",
       "      <td>6.005714</td>\n",
       "      <td>...</td>\n",
       "      <td>0.158000</td>\n",
       "      <td>0.250714</td>\n",
       "      <td>0.248000</td>\n",
       "      <td>0.250857</td>\n",
       "      <td>0.250429</td>\n",
       "      <td>0.0</td>\n",
       "      <td>0.319714</td>\n",
       "      <td>0.306571</td>\n",
       "      <td>0.487429</td>\n",
       "      <td>0.496857</td>\n",
       "    </tr>\n",
       "    <tr>\n",
       "      <td>std</td>\n",
       "      <td>0.492281</td>\n",
       "      <td>13.611184</td>\n",
       "      <td>1.065102</td>\n",
       "      <td>0.478330</td>\n",
       "      <td>10.268266</td>\n",
       "      <td>1.149395</td>\n",
       "      <td>15.761406</td>\n",
       "      <td>0.648205</td>\n",
       "      <td>1.163721</td>\n",
       "      <td>2.058849</td>\n",
       "      <td>...</td>\n",
       "      <td>0.364767</td>\n",
       "      <td>0.433455</td>\n",
       "      <td>0.431883</td>\n",
       "      <td>0.433537</td>\n",
       "      <td>0.433291</td>\n",
       "      <td>0.0</td>\n",
       "      <td>0.466399</td>\n",
       "      <td>0.461103</td>\n",
       "      <td>0.499878</td>\n",
       "      <td>0.500026</td>\n",
       "    </tr>\n",
       "    <tr>\n",
       "      <td>min</td>\n",
       "      <td>0.000000</td>\n",
       "      <td>19.000000</td>\n",
       "      <td>1.000000</td>\n",
       "      <td>0.000000</td>\n",
       "      <td>0.000000</td>\n",
       "      <td>0.000000</td>\n",
       "      <td>20.000000</td>\n",
       "      <td>0.000000</td>\n",
       "      <td>1.000000</td>\n",
       "      <td>1.000000</td>\n",
       "      <td>...</td>\n",
       "      <td>0.000000</td>\n",
       "      <td>0.000000</td>\n",
       "      <td>0.000000</td>\n",
       "      <td>0.000000</td>\n",
       "      <td>0.000000</td>\n",
       "      <td>0.0</td>\n",
       "      <td>0.000000</td>\n",
       "      <td>0.000000</td>\n",
       "      <td>0.000000</td>\n",
       "      <td>0.000000</td>\n",
       "    </tr>\n",
       "    <tr>\n",
       "      <td>25%</td>\n",
       "      <td>0.000000</td>\n",
       "      <td>27.000000</td>\n",
       "      <td>3.000000</td>\n",
       "      <td>0.000000</td>\n",
       "      <td>5.000000</td>\n",
       "      <td>1.000000</td>\n",
       "      <td>33.000000</td>\n",
       "      <td>0.000000</td>\n",
       "      <td>2.000000</td>\n",
       "      <td>5.000000</td>\n",
       "      <td>...</td>\n",
       "      <td>0.000000</td>\n",
       "      <td>0.000000</td>\n",
       "      <td>0.000000</td>\n",
       "      <td>0.000000</td>\n",
       "      <td>0.000000</td>\n",
       "      <td>0.0</td>\n",
       "      <td>0.000000</td>\n",
       "      <td>0.000000</td>\n",
       "      <td>0.000000</td>\n",
       "      <td>0.000000</td>\n",
       "    </tr>\n",
       "    <tr>\n",
       "      <td>50%</td>\n",
       "      <td>0.000000</td>\n",
       "      <td>37.000000</td>\n",
       "      <td>3.000000</td>\n",
       "      <td>0.000000</td>\n",
       "      <td>10.000000</td>\n",
       "      <td>2.000000</td>\n",
       "      <td>47.000000</td>\n",
       "      <td>1.000000</td>\n",
       "      <td>3.000000</td>\n",
       "      <td>6.000000</td>\n",
       "      <td>...</td>\n",
       "      <td>0.000000</td>\n",
       "      <td>0.000000</td>\n",
       "      <td>0.000000</td>\n",
       "      <td>0.000000</td>\n",
       "      <td>0.000000</td>\n",
       "      <td>0.0</td>\n",
       "      <td>0.000000</td>\n",
       "      <td>0.000000</td>\n",
       "      <td>0.000000</td>\n",
       "      <td>0.000000</td>\n",
       "    </tr>\n",
       "    <tr>\n",
       "      <td>75%</td>\n",
       "      <td>1.000000</td>\n",
       "      <td>52.000000</td>\n",
       "      <td>4.000000</td>\n",
       "      <td>1.000000</td>\n",
       "      <td>20.000000</td>\n",
       "      <td>3.000000</td>\n",
       "      <td>61.000000</td>\n",
       "      <td>1.000000</td>\n",
       "      <td>3.000000</td>\n",
       "      <td>8.000000</td>\n",
       "      <td>...</td>\n",
       "      <td>0.000000</td>\n",
       "      <td>1.000000</td>\n",
       "      <td>0.000000</td>\n",
       "      <td>1.000000</td>\n",
       "      <td>1.000000</td>\n",
       "      <td>0.0</td>\n",
       "      <td>1.000000</td>\n",
       "      <td>1.000000</td>\n",
       "      <td>1.000000</td>\n",
       "      <td>1.000000</td>\n",
       "    </tr>\n",
       "    <tr>\n",
       "      <td>max</td>\n",
       "      <td>1.000000</td>\n",
       "      <td>65.000000</td>\n",
       "      <td>5.000000</td>\n",
       "      <td>1.000000</td>\n",
       "      <td>43.000000</td>\n",
       "      <td>4.000000</td>\n",
       "      <td>74.000000</td>\n",
       "      <td>2.000000</td>\n",
       "      <td>5.000000</td>\n",
       "      <td>10.000000</td>\n",
       "      <td>...</td>\n",
       "      <td>1.000000</td>\n",
       "      <td>1.000000</td>\n",
       "      <td>1.000000</td>\n",
       "      <td>1.000000</td>\n",
       "      <td>1.000000</td>\n",
       "      <td>0.0</td>\n",
       "      <td>1.000000</td>\n",
       "      <td>1.000000</td>\n",
       "      <td>1.000000</td>\n",
       "      <td>1.000000</td>\n",
       "    </tr>\n",
       "  </tbody>\n",
       "</table>\n",
       "<p>8 rows × 34 columns</p>\n",
       "</div>"
      ],
      "text/plain": [
       "            Gender          Age  Education_Level  Relationship_Status  \\\n",
       "count  7000.000000  7000.000000      7000.000000          7000.000000   \n",
       "mean      0.412286    39.599286         3.187857             0.354286   \n",
       "std       0.492281    13.611184         1.065102             0.478330   \n",
       "min       0.000000    19.000000         1.000000             0.000000   \n",
       "25%       0.000000    27.000000         3.000000             0.000000   \n",
       "50%       0.000000    37.000000         3.000000             0.000000   \n",
       "75%       1.000000    52.000000         4.000000             1.000000   \n",
       "max       1.000000    65.000000         5.000000             1.000000   \n",
       "\n",
       "       Time_of_service  Time_since_promotion  growth_rate  Travel_Rate  \\\n",
       "count      7000.000000           7000.000000  7000.000000  7000.000000   \n",
       "mean         13.315429              2.367143    47.064286     0.817857   \n",
       "std          10.268266              1.149395    15.761406     0.648205   \n",
       "min           0.000000              0.000000    20.000000     0.000000   \n",
       "25%           5.000000              1.000000    33.000000     0.000000   \n",
       "50%          10.000000              2.000000    47.000000     1.000000   \n",
       "75%          20.000000              3.000000    61.000000     1.000000   \n",
       "max          43.000000              4.000000    74.000000     2.000000   \n",
       "\n",
       "        Post_Level    Pay_Scale  ...   Washington   Analytical   Behavioral  \\\n",
       "count  7000.000000  7000.000000  ...  7000.000000  7000.000000  7000.000000   \n",
       "mean      2.798000     6.005714  ...     0.158000     0.250714     0.248000   \n",
       "std       1.163721     2.058849  ...     0.364767     0.433455     0.431883   \n",
       "min       1.000000     1.000000  ...     0.000000     0.000000     0.000000   \n",
       "25%       2.000000     5.000000  ...     0.000000     0.000000     0.000000   \n",
       "50%       3.000000     6.000000  ...     0.000000     0.000000     0.000000   \n",
       "75%       3.000000     8.000000  ...     0.000000     1.000000     0.000000   \n",
       "max       5.000000    10.000000  ...     1.000000     1.000000     1.000000   \n",
       "\n",
       "        Conceptual    Directive  Unit_0       Unit_1       Unit_2  \\\n",
       "count  7000.000000  7000.000000  7000.0  7000.000000  7000.000000   \n",
       "mean      0.250857     0.250429     0.0     0.319714     0.306571   \n",
       "std       0.433537     0.433291     0.0     0.466399     0.461103   \n",
       "min       0.000000     0.000000     0.0     0.000000     0.000000   \n",
       "25%       0.000000     0.000000     0.0     0.000000     0.000000   \n",
       "50%       0.000000     0.000000     0.0     0.000000     0.000000   \n",
       "75%       1.000000     1.000000     0.0     1.000000     1.000000   \n",
       "max       1.000000     1.000000     0.0     1.000000     1.000000   \n",
       "\n",
       "            Unit_3       Unit_4  \n",
       "count  7000.000000  7000.000000  \n",
       "mean      0.487429     0.496857  \n",
       "std       0.499878     0.500026  \n",
       "min       0.000000     0.000000  \n",
       "25%       0.000000     0.000000  \n",
       "50%       0.000000     0.000000  \n",
       "75%       1.000000     1.000000  \n",
       "max       1.000000     1.000000  \n",
       "\n",
       "[8 rows x 34 columns]"
      ]
     },
     "execution_count": 290,
     "metadata": {},
     "output_type": "execute_result"
    }
   ],
   "source": [
    "train_data.describe()"
   ]
  },
  {
   "cell_type": "markdown",
   "metadata": {},
   "source": [
    "#### As you can see data is not on same scale so we will first scale the data using StandardScaler.\n",
    "#### There is no need to scale target column so we will first drop it from train_data "
   ]
  },
  {
   "cell_type": "code",
   "execution_count": 291,
   "metadata": {},
   "outputs": [],
   "source": [
    "scaler=StandardScaler()\n",
    "train_data_labels=train_data['Attrition_rate']\n",
    "train_data=train_data.drop(['Attrition_rate'],axis=1)"
   ]
  },
  {
   "cell_type": "code",
   "execution_count": 292,
   "metadata": {},
   "outputs": [],
   "source": [
    "train_df= scaler.fit_transform(train_data)\n",
    "test_df = scaler.transform(test_data)"
   ]
  },
  {
   "cell_type": "code",
   "execution_count": 293,
   "metadata": {},
   "outputs": [],
   "source": [
    "train_df = pd.DataFrame(train_df,columns=train_data.columns,index=train_data.index)\n",
    "test_df = pd.DataFrame(test_df,columns=test_data.columns,index=test_data.index)"
   ]
  },
  {
   "cell_type": "markdown",
   "metadata": {},
   "source": [
    "#### Let's make a baisc Linear Regression model to see how it performs."
   ]
  },
  {
   "cell_type": "code",
   "execution_count": 294,
   "metadata": {},
   "outputs": [],
   "source": [
    "train_X,test_X,train_y,test_y=train_test_split(train_df,train_data_labels,test_size=0.1)"
   ]
  },
  {
   "cell_type": "code",
   "execution_count": 295,
   "metadata": {},
   "outputs": [],
   "source": [
    "lr=LinearRegression()"
   ]
  },
  {
   "cell_type": "code",
   "execution_count": 296,
   "metadata": {},
   "outputs": [
    {
     "data": {
      "text/plain": [
       "LinearRegression(copy_X=True, fit_intercept=True, n_jobs=None, normalize=False)"
      ]
     },
     "execution_count": 296,
     "metadata": {},
     "output_type": "execute_result"
    }
   ],
   "source": [
    "lr.fit(train_X,train_y)"
   ]
  },
  {
   "cell_type": "code",
   "execution_count": 297,
   "metadata": {},
   "outputs": [],
   "source": [
    "predicted_test_X=lr.predict(test_X)"
   ]
  },
  {
   "cell_type": "code",
   "execution_count": 298,
   "metadata": {},
   "outputs": [
    {
     "data": {
      "text/plain": [
       "0.0382880774343208"
      ]
     },
     "execution_count": 298,
     "metadata": {},
     "output_type": "execute_result"
    }
   ],
   "source": [
    "mean_squared_error(test_y,predicted_test_X)"
   ]
  },
  {
   "cell_type": "code",
   "execution_count": 299,
   "metadata": {},
   "outputs": [
    {
     "data": {
      "text/plain": [
       "-0.03458177736452219"
      ]
     },
     "execution_count": 299,
     "metadata": {},
     "output_type": "execute_result"
    }
   ],
   "source": [
    "np.mean(cross_val_score(lr,train_df,target,scoring='neg_mean_squared_error',cv=10))"
   ]
  },
  {
   "cell_type": "markdown",
   "metadata": {},
   "source": [
    "##### Ist submission"
   ]
  },
  {
   "cell_type": "code",
   "execution_count": 300,
   "metadata": {},
   "outputs": [],
   "source": [
    "predictions=lr.predict(test_df)"
   ]
  },
  {
   "cell_type": "code",
   "execution_count": 301,
   "metadata": {},
   "outputs": [],
   "source": [
    "Employee_ID=pd.read_csv(os.path.join(dataset_dir,'Test.csv'))['Employee_ID']"
   ]
  },
  {
   "cell_type": "code",
   "execution_count": 302,
   "metadata": {},
   "outputs": [],
   "source": [
    "submissions=pd.DataFrame({'Employee_ID':Employee_ID,'Attrition_rate':predictions})"
   ]
  },
  {
   "cell_type": "code",
   "execution_count": 303,
   "metadata": {},
   "outputs": [],
   "source": [
    "submissions.to_csv('submission_1.csv',index=False) ##score 81.18"
   ]
  },
  {
   "cell_type": "markdown",
   "metadata": {},
   "source": [
    "#### Now lets try Xgboost Model"
   ]
  },
  {
   "cell_type": "code",
   "execution_count": 305,
   "metadata": {},
   "outputs": [],
   "source": [
    "import xgboost as xgb"
   ]
  },
  {
   "cell_type": "code",
   "execution_count": 306,
   "metadata": {},
   "outputs": [],
   "source": [
    "xgbRegressor=xgb.XGBRegressor()"
   ]
  },
  {
   "cell_type": "code",
   "execution_count": 307,
   "metadata": {},
   "outputs": [
    {
     "name": "stderr",
     "output_type": "stream",
     "text": [
      "/usr/local/lib/python3.7/site-packages/xgboost/core.py:587: FutureWarning: Series.base is deprecated and will be removed in a future version\n",
      "  if getattr(data, 'base', None) is not None and \\\n"
     ]
    },
    {
     "name": "stdout",
     "output_type": "stream",
     "text": [
      "[23:14:27] WARNING: /workspace/src/objective/regression_obj.cu:152: reg:linear is now deprecated in favor of reg:squarederror.\n"
     ]
    },
    {
     "data": {
      "text/plain": [
       "XGBRegressor(base_score=0.5, booster='gbtree', colsample_bylevel=1,\n",
       "             colsample_bynode=1, colsample_bytree=1, gamma=0,\n",
       "             importance_type='gain', learning_rate=0.1, max_delta_step=0,\n",
       "             max_depth=3, min_child_weight=1, missing=None, n_estimators=100,\n",
       "             n_jobs=1, nthread=None, objective='reg:linear', random_state=0,\n",
       "             reg_alpha=0, reg_lambda=1, scale_pos_weight=1, seed=None,\n",
       "             silent=None, subsample=1, verbosity=1)"
      ]
     },
     "execution_count": 307,
     "metadata": {},
     "output_type": "execute_result"
    }
   ],
   "source": [
    "xgbRegressor.fit(train_X,train_y)"
   ]
  },
  {
   "cell_type": "code",
   "execution_count": 308,
   "metadata": {},
   "outputs": [],
   "source": [
    "predicted_test_X=xgbRegressor.predict(test_X)"
   ]
  },
  {
   "cell_type": "code",
   "execution_count": 309,
   "metadata": {},
   "outputs": [
    {
     "data": {
      "text/plain": [
       "0.038147477517154374"
      ]
     },
     "execution_count": 309,
     "metadata": {},
     "output_type": "execute_result"
    }
   ],
   "source": [
    "mean_squared_error(test_y,predicted_test_X)"
   ]
  },
  {
   "cell_type": "markdown",
   "metadata": {},
   "source": [
    "#### 2nd submission"
   ]
  },
  {
   "cell_type": "code",
   "execution_count": 310,
   "metadata": {},
   "outputs": [],
   "source": [
    "predictions=lr.predict(test_df)"
   ]
  },
  {
   "cell_type": "code",
   "execution_count": 311,
   "metadata": {},
   "outputs": [],
   "source": [
    "Employee_ID=pd.read_csv(os.path.join(dataset_dir,'Test.csv'))['Employee_ID']"
   ]
  },
  {
   "cell_type": "code",
   "execution_count": 312,
   "metadata": {},
   "outputs": [],
   "source": [
    "submissions=pd.DataFrame({'Employee_ID':Employee_ID,'Attrition_rate':predictions})"
   ]
  },
  {
   "cell_type": "code",
   "execution_count": 314,
   "metadata": {},
   "outputs": [],
   "source": [
    "submissions.to_csv('submission_2.csv',index=False) ##score 81.18674"
   ]
  },
  {
   "cell_type": "markdown",
   "metadata": {},
   "source": [
    "#### As both of the models are giving about same score, let's find correlation between Target and other columns."
   ]
  },
  {
   "cell_type": "code",
   "execution_count": 316,
   "metadata": {},
   "outputs": [
    {
     "data": {
      "text/plain": [
       "Gender                       0.028544\n",
       "Age                         -0.018856\n",
       "Education_Level             -0.008143\n",
       "Relationship_Status          0.009107\n",
       "Time_of_service             -0.017203\n",
       "Time_since_promotion         0.013880\n",
       "growth_rate                  0.014247\n",
       "Travel_Rate                 -0.012608\n",
       "Post_Level                   0.016402\n",
       "Pay_Scale                   -0.015183\n",
       "Compensation_and_Benefits   -0.025175\n",
       "Work_Life_balance            0.020975\n",
       "VAR1                        -0.008073\n",
       "VAR2                        -0.023392\n",
       "VAR3                         0.001245\n",
       "VAR4                        -0.013364\n",
       "VAR5                        -0.004770\n",
       "VAR6                        -0.003130\n",
       "VAR7                        -0.015299\n",
       "Clinton                     -0.001454\n",
       "Franklin                    -0.004188\n",
       "Lebanon                     -0.008222\n",
       "Springfield                  0.014555\n",
       "Washington                  -0.001122\n",
       "Analytical                  -0.002822\n",
       "Behavioral                  -0.027524\n",
       "Conceptual                   0.016568\n",
       "Directive                    0.013680\n",
       "Unit_0                            NaN\n",
       "Unit_1                       0.018190\n",
       "Unit_2                       0.012447\n",
       "Unit_3                       0.004693\n",
       "Unit_4                      -0.004073\n",
       "dtype: float64"
      ]
     },
     "execution_count": 316,
     "metadata": {},
     "output_type": "execute_result"
    }
   ],
   "source": [
    "train_data.apply(lambda x: x.corr(train_data_labels))"
   ]
  },
  {
   "cell_type": "code",
   "execution_count": null,
   "metadata": {},
   "outputs": [],
   "source": []
  }
 ],
 "metadata": {
  "kernelspec": {
   "display_name": "Python 3",
   "language": "python",
   "name": "python3"
  },
  "language_info": {
   "codemirror_mode": {
    "name": "ipython",
    "version": 3
   },
   "file_extension": ".py",
   "mimetype": "text/x-python",
   "name": "python",
   "nbconvert_exporter": "python",
   "pygments_lexer": "ipython3",
   "version": "3.7.7"
  }
 },
 "nbformat": 4,
 "nbformat_minor": 2
}
