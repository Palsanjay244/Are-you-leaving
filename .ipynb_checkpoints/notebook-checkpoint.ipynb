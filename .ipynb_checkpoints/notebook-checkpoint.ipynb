{
 "cells": [
  {
   "cell_type": "markdown",
   "metadata": {},
   "source": [
    "<h2 style=\"text-align:center\">Predict the employee attrition rate in organizations</h2>"
   ]
  },
  {
   "cell_type": "markdown",
   "metadata": {},
   "source": [
    "### Problem Statement \n",
    "---\n",
    "Employees are the most important part of an organization. Successful employees meet deadlines, make sales, and build the brand through positive customer interactions.\n",
    "\n",
    "Employee attrition is a major cost to an organization and predicting such attritions is the most important requirement of the Human Resources department in many organizations. In this problem, your task is to predict the attrition rate of employees of an organization\n",
    "\n",
    "---\n",
    "\n"
   ]
  },
  {
   "cell_type": "markdown",
   "metadata": {},
   "source": [
    "#### Importing libraries"
   ]
  },
  {
   "cell_type": "code",
   "execution_count": 209,
   "metadata": {},
   "outputs": [],
   "source": [
    "import pandas as pd\n",
    "import numpy as np\n",
    "import matplotlib.pyplot as plt\n",
    "import seaborn as sns\n",
    "import os\n",
    "from sklearn.preprocessing import OneHotEncoder,LabelEncoder,StandardScaler\n",
    "from sklearn.linear_model import LinearRegression\n",
    "from sklearn.model_selection import train_test_split,cross_val_score\n",
    "from sklearn.metrics import mean_squared_error"
   ]
  },
  {
   "cell_type": "markdown",
   "metadata": {},
   "source": [
    "#### Dataset directory path"
   ]
  },
  {
   "cell_type": "code",
   "execution_count": 210,
   "metadata": {},
   "outputs": [],
   "source": [
    "dataset_dir='data'"
   ]
  },
  {
   "cell_type": "markdown",
   "metadata": {},
   "source": [
    "#### Load test and train data"
   ]
  },
  {
   "cell_type": "code",
   "execution_count": 211,
   "metadata": {},
   "outputs": [],
   "source": [
    "train_data=pd.read_csv(os.path.join(dataset_dir,'Train.csv'))\n",
    "test_data=pd.read_csv(os.path.join(dataset_dir,'Test.csv'))"
   ]
  },
  {
   "cell_type": "markdown",
   "metadata": {},
   "source": [
    "#### Print first 5 rows of train data"
   ]
  },
  {
   "cell_type": "code",
   "execution_count": 212,
   "metadata": {},
   "outputs": [
    {
     "data": {
      "text/html": [
       "<div>\n",
       "<style scoped>\n",
       "    .dataframe tbody tr th:only-of-type {\n",
       "        vertical-align: middle;\n",
       "    }\n",
       "\n",
       "    .dataframe tbody tr th {\n",
       "        vertical-align: top;\n",
       "    }\n",
       "\n",
       "    .dataframe thead th {\n",
       "        text-align: right;\n",
       "    }\n",
       "</style>\n",
       "<table border=\"1\" class=\"dataframe\">\n",
       "  <thead>\n",
       "    <tr style=\"text-align: right;\">\n",
       "      <th></th>\n",
       "      <th>Employee_ID</th>\n",
       "      <th>Gender</th>\n",
       "      <th>Age</th>\n",
       "      <th>Education_Level</th>\n",
       "      <th>Relationship_Status</th>\n",
       "      <th>Hometown</th>\n",
       "      <th>Unit</th>\n",
       "      <th>Decision_skill_possess</th>\n",
       "      <th>Time_of_service</th>\n",
       "      <th>Time_since_promotion</th>\n",
       "      <th>...</th>\n",
       "      <th>Compensation_and_Benefits</th>\n",
       "      <th>Work_Life_balance</th>\n",
       "      <th>VAR1</th>\n",
       "      <th>VAR2</th>\n",
       "      <th>VAR3</th>\n",
       "      <th>VAR4</th>\n",
       "      <th>VAR5</th>\n",
       "      <th>VAR6</th>\n",
       "      <th>VAR7</th>\n",
       "      <th>Attrition_rate</th>\n",
       "    </tr>\n",
       "  </thead>\n",
       "  <tbody>\n",
       "    <tr>\n",
       "      <td>0</td>\n",
       "      <td>EID_23371</td>\n",
       "      <td>F</td>\n",
       "      <td>42.0</td>\n",
       "      <td>4</td>\n",
       "      <td>Married</td>\n",
       "      <td>Franklin</td>\n",
       "      <td>IT</td>\n",
       "      <td>Conceptual</td>\n",
       "      <td>4.0</td>\n",
       "      <td>4</td>\n",
       "      <td>...</td>\n",
       "      <td>type2</td>\n",
       "      <td>3.0</td>\n",
       "      <td>4</td>\n",
       "      <td>0.7516</td>\n",
       "      <td>1.8688</td>\n",
       "      <td>2.0</td>\n",
       "      <td>4</td>\n",
       "      <td>5</td>\n",
       "      <td>3</td>\n",
       "      <td>0.1841</td>\n",
       "    </tr>\n",
       "    <tr>\n",
       "      <td>1</td>\n",
       "      <td>EID_18000</td>\n",
       "      <td>M</td>\n",
       "      <td>24.0</td>\n",
       "      <td>3</td>\n",
       "      <td>Single</td>\n",
       "      <td>Springfield</td>\n",
       "      <td>Logistics</td>\n",
       "      <td>Analytical</td>\n",
       "      <td>5.0</td>\n",
       "      <td>4</td>\n",
       "      <td>...</td>\n",
       "      <td>type2</td>\n",
       "      <td>4.0</td>\n",
       "      <td>3</td>\n",
       "      <td>-0.9612</td>\n",
       "      <td>-0.4537</td>\n",
       "      <td>2.0</td>\n",
       "      <td>3</td>\n",
       "      <td>5</td>\n",
       "      <td>3</td>\n",
       "      <td>0.0670</td>\n",
       "    </tr>\n",
       "    <tr>\n",
       "      <td>2</td>\n",
       "      <td>EID_3891</td>\n",
       "      <td>F</td>\n",
       "      <td>58.0</td>\n",
       "      <td>3</td>\n",
       "      <td>Married</td>\n",
       "      <td>Clinton</td>\n",
       "      <td>Quality</td>\n",
       "      <td>Conceptual</td>\n",
       "      <td>27.0</td>\n",
       "      <td>3</td>\n",
       "      <td>...</td>\n",
       "      <td>type2</td>\n",
       "      <td>1.0</td>\n",
       "      <td>4</td>\n",
       "      <td>-0.9612</td>\n",
       "      <td>-0.4537</td>\n",
       "      <td>3.0</td>\n",
       "      <td>3</td>\n",
       "      <td>8</td>\n",
       "      <td>3</td>\n",
       "      <td>0.0851</td>\n",
       "    </tr>\n",
       "    <tr>\n",
       "      <td>3</td>\n",
       "      <td>EID_17492</td>\n",
       "      <td>F</td>\n",
       "      <td>26.0</td>\n",
       "      <td>3</td>\n",
       "      <td>Single</td>\n",
       "      <td>Lebanon</td>\n",
       "      <td>Human Resource Management</td>\n",
       "      <td>Behavioral</td>\n",
       "      <td>4.0</td>\n",
       "      <td>3</td>\n",
       "      <td>...</td>\n",
       "      <td>type2</td>\n",
       "      <td>1.0</td>\n",
       "      <td>3</td>\n",
       "      <td>-1.8176</td>\n",
       "      <td>-0.4537</td>\n",
       "      <td>NaN</td>\n",
       "      <td>3</td>\n",
       "      <td>7</td>\n",
       "      <td>3</td>\n",
       "      <td>0.0668</td>\n",
       "    </tr>\n",
       "    <tr>\n",
       "      <td>4</td>\n",
       "      <td>EID_22534</td>\n",
       "      <td>F</td>\n",
       "      <td>31.0</td>\n",
       "      <td>1</td>\n",
       "      <td>Married</td>\n",
       "      <td>Springfield</td>\n",
       "      <td>Logistics</td>\n",
       "      <td>Conceptual</td>\n",
       "      <td>5.0</td>\n",
       "      <td>4</td>\n",
       "      <td>...</td>\n",
       "      <td>type3</td>\n",
       "      <td>3.0</td>\n",
       "      <td>1</td>\n",
       "      <td>0.7516</td>\n",
       "      <td>-0.4537</td>\n",
       "      <td>2.0</td>\n",
       "      <td>2</td>\n",
       "      <td>8</td>\n",
       "      <td>2</td>\n",
       "      <td>0.1827</td>\n",
       "    </tr>\n",
       "  </tbody>\n",
       "</table>\n",
       "<p>5 rows × 24 columns</p>\n",
       "</div>"
      ],
      "text/plain": [
       "  Employee_ID Gender   Age  Education_Level Relationship_Status     Hometown  \\\n",
       "0   EID_23371      F  42.0                4             Married     Franklin   \n",
       "1   EID_18000      M  24.0                3              Single  Springfield   \n",
       "2    EID_3891      F  58.0                3             Married      Clinton   \n",
       "3   EID_17492      F  26.0                3              Single      Lebanon   \n",
       "4   EID_22534      F  31.0                1             Married  Springfield   \n",
       "\n",
       "                        Unit Decision_skill_possess  Time_of_service  \\\n",
       "0                         IT             Conceptual              4.0   \n",
       "1                  Logistics             Analytical              5.0   \n",
       "2                    Quality             Conceptual             27.0   \n",
       "3  Human Resource Management             Behavioral              4.0   \n",
       "4                  Logistics             Conceptual              5.0   \n",
       "\n",
       "   Time_since_promotion  ...  Compensation_and_Benefits  Work_Life_balance  \\\n",
       "0                     4  ...                      type2                3.0   \n",
       "1                     4  ...                      type2                4.0   \n",
       "2                     3  ...                      type2                1.0   \n",
       "3                     3  ...                      type2                1.0   \n",
       "4                     4  ...                      type3                3.0   \n",
       "\n",
       "   VAR1    VAR2    VAR3  VAR4  VAR5  VAR6  VAR7  Attrition_rate  \n",
       "0     4  0.7516  1.8688   2.0     4     5     3          0.1841  \n",
       "1     3 -0.9612 -0.4537   2.0     3     5     3          0.0670  \n",
       "2     4 -0.9612 -0.4537   3.0     3     8     3          0.0851  \n",
       "3     3 -1.8176 -0.4537   NaN     3     7     3          0.0668  \n",
       "4     1  0.7516 -0.4537   2.0     2     8     2          0.1827  \n",
       "\n",
       "[5 rows x 24 columns]"
      ]
     },
     "execution_count": 212,
     "metadata": {},
     "output_type": "execute_result"
    }
   ],
   "source": [
    "train_data.head()"
   ]
  },
  {
   "cell_type": "markdown",
   "metadata": {},
   "source": [
    "#### Print shape of train and test data"
   ]
  },
  {
   "cell_type": "code",
   "execution_count": 213,
   "metadata": {},
   "outputs": [
    {
     "data": {
      "text/plain": [
       "(7000, 24)"
      ]
     },
     "execution_count": 213,
     "metadata": {},
     "output_type": "execute_result"
    }
   ],
   "source": [
    "train_data.shape"
   ]
  },
  {
   "cell_type": "code",
   "execution_count": 214,
   "metadata": {},
   "outputs": [
    {
     "data": {
      "text/plain": [
       "(3000, 23)"
      ]
     },
     "execution_count": 214,
     "metadata": {},
     "output_type": "execute_result"
    }
   ],
   "source": [
    "test_data.shape"
   ]
  },
  {
   "cell_type": "markdown",
   "metadata": {},
   "source": [
    "#### Check column names and their dtypes in train data"
   ]
  },
  {
   "cell_type": "code",
   "execution_count": 215,
   "metadata": {},
   "outputs": [
    {
     "data": {
      "text/plain": [
       "Employee_ID                   object\n",
       "Gender                        object\n",
       "Age                          float64\n",
       "Education_Level                int64\n",
       "Relationship_Status           object\n",
       "Hometown                      object\n",
       "Unit                          object\n",
       "Decision_skill_possess        object\n",
       "Time_of_service              float64\n",
       "Time_since_promotion           int64\n",
       "growth_rate                    int64\n",
       "Travel_Rate                    int64\n",
       "Post_Level                     int64\n",
       "Pay_Scale                    float64\n",
       "Compensation_and_Benefits     object\n",
       "Work_Life_balance            float64\n",
       "VAR1                           int64\n",
       "VAR2                         float64\n",
       "VAR3                         float64\n",
       "VAR4                         float64\n",
       "VAR5                           int64\n",
       "VAR6                           int64\n",
       "VAR7                           int64\n",
       "Attrition_rate               float64\n",
       "dtype: object"
      ]
     },
     "execution_count": 215,
     "metadata": {},
     "output_type": "execute_result"
    }
   ],
   "source": [
    "train_data.dtypes"
   ]
  },
  {
   "cell_type": "markdown",
   "metadata": {},
   "source": [
    "#### Check null values in train and test data"
   ]
  },
  {
   "cell_type": "code",
   "execution_count": 216,
   "metadata": {},
   "outputs": [
    {
     "data": {
      "text/plain": [
       "Employee_ID                    0\n",
       "Gender                         0\n",
       "Age                          412\n",
       "Education_Level                0\n",
       "Relationship_Status            0\n",
       "Hometown                       0\n",
       "Unit                           0\n",
       "Decision_skill_possess         0\n",
       "Time_of_service              144\n",
       "Time_since_promotion           0\n",
       "growth_rate                    0\n",
       "Travel_Rate                    0\n",
       "Post_Level                     0\n",
       "Pay_Scale                      9\n",
       "Compensation_and_Benefits      0\n",
       "Work_Life_balance             11\n",
       "VAR1                           0\n",
       "VAR2                         577\n",
       "VAR3                           0\n",
       "VAR4                         656\n",
       "VAR5                           0\n",
       "VAR6                           0\n",
       "VAR7                           0\n",
       "Attrition_rate                 0\n",
       "dtype: int64"
      ]
     },
     "execution_count": 216,
     "metadata": {},
     "output_type": "execute_result"
    }
   ],
   "source": [
    "train_data.isnull().sum()"
   ]
  },
  {
   "cell_type": "code",
   "execution_count": 217,
   "metadata": {},
   "outputs": [
    {
     "data": {
      "text/plain": [
       "Employee_ID                    0\n",
       "Gender                         0\n",
       "Age                          161\n",
       "Education_Level                0\n",
       "Relationship_Status            0\n",
       "Hometown                       0\n",
       "Unit                           0\n",
       "Decision_skill_possess         0\n",
       "Time_of_service               52\n",
       "Time_since_promotion           0\n",
       "growth_rate                    0\n",
       "Travel_Rate                    0\n",
       "Post_Level                     0\n",
       "Pay_Scale                      3\n",
       "Compensation_and_Benefits      0\n",
       "Work_Life_balance              5\n",
       "VAR1                           0\n",
       "VAR2                         217\n",
       "VAR3                           0\n",
       "VAR4                         298\n",
       "VAR5                           0\n",
       "VAR6                           0\n",
       "VAR7                           0\n",
       "dtype: int64"
      ]
     },
     "execution_count": 217,
     "metadata": {},
     "output_type": "execute_result"
    }
   ],
   "source": [
    "test_data.isnull().sum()"
   ]
  },
  {
   "cell_type": "markdown",
   "metadata": {},
   "source": [
    "#### Handle missing values in train and test data\n",
    "##### We will use imputation methods to handle null values in train and test data, but before that we need to see the distribution of features having null values"
   ]
  },
  {
   "cell_type": "code",
   "execution_count": 218,
   "metadata": {},
   "outputs": [
    {
     "data": {
      "image/png": "[encoded data removed]",
      "text/plain": [
       "<Figure size 432x288 with 1 Axes>"
      ]
     },
     "metadata": {},
     "output_type": "display_data"
    }
   ],
   "source": [
    "fig, ax = plt.subplots()\n",
    "train_data['Age'].plot.kde(ax=ax, legend=False)\n",
    "train_data['Age'].plot.hist(density=True, ax=ax)\n",
    "ax.set_facecolor('#d8dcd6')"
   ]
  },
  {
   "cell_type": "markdown",
   "metadata": {},
   "source": [
    "#### Histogram for Age doesn't follow any kind of normal, uniform or skewed distribution so we will use forward filling for imputing values"
   ]
  },
  {
   "cell_type": "code",
   "execution_count": 219,
   "metadata": {},
   "outputs": [],
   "source": [
    "train_data['Age'].ffill(inplace=True)\n",
    "test_data['Age'].ffill(inplace=True)"
   ]
  },
  {
   "cell_type": "code",
   "execution_count": 220,
   "metadata": {},
   "outputs": [
    {
     "name": "stdout",
     "output_type": "stream",
     "text": [
      "0    6.0\n",
      "dtype: float64\n",
      "144\n"
     ]
    }
   ],
   "source": [
    "print(train_data.Time_of_service.mode())\n",
    "print(train_data.Time_of_service.isna().sum())"
   ]
  },
  {
   "cell_type": "code",
   "execution_count": 221,
   "metadata": {},
   "outputs": [
    {
     "data": {
      "image/png": "[encoded data removed]",
      "text/plain": [
       "<Figure size 432x288 with 1 Axes>"
      ]
     },
     "metadata": {},
     "output_type": "display_data"
    }
   ],
   "source": [
    "fig, ax = plt.subplots()\n",
    "train_data['Time_of_service'].plot.kde(ax=ax, legend=False)\n",
    "train_data['Time_of_service'].plot.hist(density=True, ax=ax)\n",
    "ax.set_facecolor('#d8dcd6')"
   ]
  },
  {
   "cell_type": "code",
   "execution_count": null,
   "metadata": {},
   "outputs": [],
   "source": []
  },
  {
   "cell_type": "markdown",
   "metadata": {},
   "source": [
    "#### As graph for Time_of_service is skewed we will impute missing values with median"
   ]
  },
  {
   "cell_type": "code",
   "execution_count": 222,
   "metadata": {},
   "outputs": [],
   "source": [
    "train_data['Time_of_service'].fillna(train_data['Time_of_service'].mode()[0],inplace=True)\n",
    "test_data['Time_of_service'].fillna(train_data['Time_of_service'].mode()[0],inplace=True)"
   ]
  },
  {
   "cell_type": "code",
   "execution_count": 223,
   "metadata": {},
   "outputs": [
    {
     "data": {
      "image/png": "[encoded data removed]",
      "text/plain": [
       "<Figure size 432x288 with 1 Axes>"
      ]
     },
     "metadata": {},
     "output_type": "display_data"
    }
   ],
   "source": [
    "fig, ax = plt.subplots()\n",
    "train_data['Pay_Scale'].plot.kde(ax=ax, legend=False)\n",
    "train_data['Pay_Scale'].plot.hist(density=True, ax=ax)\n",
    "ax.set_facecolor('#d8dcd6')"
   ]
  },
  {
   "cell_type": "code",
   "execution_count": 224,
   "metadata": {},
   "outputs": [
    {
     "name": "stdout",
     "output_type": "stream",
     "text": [
      "[ 7.  6.  8.  2.  9.  5.  4.  3. 10.  1. nan]\n",
      "9\n",
      "8.0     1392\n",
      "6.0     1284\n",
      "5.0     1160\n",
      "4.0      983\n",
      "7.0      811\n",
      "9.0      464\n",
      "2.0      277\n",
      "3.0      255\n",
      "10.0     209\n",
      "1.0      156\n",
      "Name: Pay_Scale, dtype: int64\n"
     ]
    }
   ],
   "source": [
    "print(train_data.Pay_Scale.unique())\n",
    "print(train_data.Pay_Scale.isna().sum())\n",
    "print(train_data.Pay_Scale.value_counts())"
   ]
  },
  {
   "cell_type": "code",
   "execution_count": 225,
   "metadata": {},
   "outputs": [
    {
     "data": {
      "text/plain": [
       "3"
      ]
     },
     "execution_count": 225,
     "metadata": {},
     "output_type": "execute_result"
    }
   ],
   "source": [
    "test_data.Pay_Scale.isna().sum()"
   ]
  },
  {
   "cell_type": "markdown",
   "metadata": {},
   "source": [
    "#### Histogram for Pay_Scale doesn't follow any kind of normal, uniform or skewed distribution so we will use forward filling for imputing values"
   ]
  },
  {
   "cell_type": "code",
   "execution_count": 226,
   "metadata": {},
   "outputs": [],
   "source": [
    "train_data['Pay_Scale'].fillna(train_data.Pay_Scale.mode()[0],inplace=True)\n",
    "test_data['Pay_Scale'].fillna(train_data.Pay_Scale.mode()[0],inplace=True)"
   ]
  },
  {
   "cell_type": "code",
   "execution_count": 227,
   "metadata": {},
   "outputs": [
    {
     "name": "stdout",
     "output_type": "stream",
     "text": [
      "0\n",
      "0\n"
     ]
    }
   ],
   "source": [
    "print(train_data.Pay_Scale.isna().sum())\n",
    "print(test_data.Pay_Scale.isna().sum())"
   ]
  },
  {
   "cell_type": "code",
   "execution_count": 228,
   "metadata": {},
   "outputs": [
    {
     "data": {
      "image/png": "[encoded data removed]",
      "text/plain": [
       "<Figure size 432x288 with 1 Axes>"
      ]
     },
     "metadata": {},
     "output_type": "display_data"
    }
   ],
   "source": [
    "fig, ax = plt.subplots()\n",
    "train_data['Work_Life_balance'].plot.kde(ax=ax, legend=False)\n",
    "train_data['Work_Life_balance'].plot.hist(density=True, ax=ax)\n",
    "ax.set_facecolor('#d8dcd6')"
   ]
  },
  {
   "cell_type": "code",
   "execution_count": 229,
   "metadata": {},
   "outputs": [
    {
     "data": {
      "text/plain": [
       "1.0    2042\n",
       "3.0    2023\n",
       "2.0    1615\n",
       "4.0    1197\n",
       "5.0     112\n",
       "Name: Work_Life_balance, dtype: int64"
      ]
     },
     "execution_count": 229,
     "metadata": {},
     "output_type": "execute_result"
    }
   ],
   "source": [
    "train_data.Work_Life_balance.value_counts()"
   ]
  },
  {
   "cell_type": "code",
   "execution_count": 230,
   "metadata": {},
   "outputs": [
    {
     "data": {
      "image/png": "[encoded data removed]",
      "text/plain": [
       "<Figure size 432x288 with 1 Axes>"
      ]
     },
     "metadata": {},
     "output_type": "display_data"
    }
   ],
   "source": [
    "fig, ax = plt.subplots()\n",
    "train_data['VAR2'].plot.kde(ax=ax, legend=False)\n",
    "train_data['VAR2'].plot.hist(density=True, ax=ax)\n",
    "ax.set_facecolor('#d8dcd6')"
   ]
  },
  {
   "cell_type": "code",
   "execution_count": 231,
   "metadata": {},
   "outputs": [
    {
     "data": {
      "image/png": "[encoded data removed]",
      "text/plain": [
       "<Figure size 432x288 with 1 Axes>"
      ]
     },
     "metadata": {},
     "output_type": "display_data"
    }
   ],
   "source": [
    "fig, ax = plt.subplots()\n",
    "train_data['VAR4'].plot.kde(ax=ax, legend=False)\n",
    "train_data['VAR4'].plot.hist(density=True, ax=ax)\n",
    "ax.set_facecolor('#d8dcd6')"
   ]
  },
  {
   "cell_type": "markdown",
   "metadata": {},
   "source": [
    "#### As you can see from above graphs, Work_Life_balance,VAR2,VAR4 are numerical columns but their values are discrete.Hence we can impute missing values with their mode."
   ]
  },
  {
   "cell_type": "code",
   "execution_count": 232,
   "metadata": {},
   "outputs": [],
   "source": [
    "train_data['Work_Life_balance'].fillna(train_data['Work_Life_balance'].mode()[0],inplace=True)\n",
    "test_data['Work_Life_balance'].fillna(train_data['Work_Life_balance'].mode()[0],inplace=True)"
   ]
  },
  {
   "cell_type": "code",
   "execution_count": 233,
   "metadata": {},
   "outputs": [],
   "source": [
    "train_data['VAR2'].fillna(train_data['VAR2'].mode()[0],inplace=True)\n",
    "test_data['VAR2'].fillna(train_data['VAR2'].mode()[0],inplace=True)"
   ]
  },
  {
   "cell_type": "code",
   "execution_count": 234,
   "metadata": {},
   "outputs": [],
   "source": [
    "train_data['VAR4'].fillna(train_data['VAR4'].mode()[0],inplace=True)\n",
    "test_data['VAR4'].fillna(train_data['VAR4'].mode()[0],inplace=True)"
   ]
  },
  {
   "cell_type": "code",
   "execution_count": 235,
   "metadata": {},
   "outputs": [
    {
     "data": {
      "text/plain": [
       "Employee_ID                  0\n",
       "Gender                       0\n",
       "Age                          0\n",
       "Education_Level              0\n",
       "Relationship_Status          0\n",
       "Hometown                     0\n",
       "Unit                         0\n",
       "Decision_skill_possess       0\n",
       "Time_of_service              0\n",
       "Time_since_promotion         0\n",
       "growth_rate                  0\n",
       "Travel_Rate                  0\n",
       "Post_Level                   0\n",
       "Pay_Scale                    0\n",
       "Compensation_and_Benefits    0\n",
       "Work_Life_balance            0\n",
       "VAR1                         0\n",
       "VAR2                         0\n",
       "VAR3                         0\n",
       "VAR4                         0\n",
       "VAR5                         0\n",
       "VAR6                         0\n",
       "VAR7                         0\n",
       "Attrition_rate               0\n",
       "dtype: int64"
      ]
     },
     "execution_count": 235,
     "metadata": {},
     "output_type": "execute_result"
    }
   ],
   "source": [
    "train_data.isnull().sum()"
   ]
  },
  {
   "cell_type": "code",
   "execution_count": 236,
   "metadata": {},
   "outputs": [
    {
     "data": {
      "text/plain": [
       "Employee_ID                  0\n",
       "Gender                       0\n",
       "Age                          0\n",
       "Education_Level              0\n",
       "Relationship_Status          0\n",
       "Hometown                     0\n",
       "Unit                         0\n",
       "Decision_skill_possess       0\n",
       "Time_of_service              0\n",
       "Time_since_promotion         0\n",
       "growth_rate                  0\n",
       "Travel_Rate                  0\n",
       "Post_Level                   0\n",
       "Pay_Scale                    0\n",
       "Compensation_and_Benefits    0\n",
       "Work_Life_balance            0\n",
       "VAR1                         0\n",
       "VAR2                         0\n",
       "VAR3                         0\n",
       "VAR4                         0\n",
       "VAR5                         0\n",
       "VAR6                         0\n",
       "VAR7                         0\n",
       "dtype: int64"
      ]
     },
     "execution_count": 236,
     "metadata": {},
     "output_type": "execute_result"
    }
   ],
   "source": [
    "test_data.isnull().sum()"
   ]
  },
  {
   "cell_type": "code",
   "execution_count": 237,
   "metadata": {},
   "outputs": [],
   "source": [
    "train_data_copy=train_data.copy()\n",
    "test_data_copy=test_data.copy()"
   ]
  },
  {
   "cell_type": "markdown",
   "metadata": {},
   "source": [
    "#### Now we will handle categorical columns , select those columns which have object dtype only"
   ]
  },
  {
   "cell_type": "code",
   "execution_count": 238,
   "metadata": {},
   "outputs": [],
   "source": [
    "categorical_data=train_data.select_dtypes(include=['object'])"
   ]
  },
  {
   "cell_type": "code",
   "execution_count": 239,
   "metadata": {},
   "outputs": [
    {
     "data": {
      "text/html": [
       "<div>\n",
       "<style scoped>\n",
       "    .dataframe tbody tr th:only-of-type {\n",
       "        vertical-align: middle;\n",
       "    }\n",
       "\n",
       "    .dataframe tbody tr th {\n",
       "        vertical-align: top;\n",
       "    }\n",
       "\n",
       "    .dataframe thead th {\n",
       "        text-align: right;\n",
       "    }\n",
       "</style>\n",
       "<table border=\"1\" class=\"dataframe\">\n",
       "  <thead>\n",
       "    <tr style=\"text-align: right;\">\n",
       "      <th></th>\n",
       "      <th>Employee_ID</th>\n",
       "      <th>Gender</th>\n",
       "      <th>Relationship_Status</th>\n",
       "      <th>Hometown</th>\n",
       "      <th>Unit</th>\n",
       "      <th>Decision_skill_possess</th>\n",
       "      <th>Compensation_and_Benefits</th>\n",
       "    </tr>\n",
       "  </thead>\n",
       "  <tbody>\n",
       "    <tr>\n",
       "      <td>0</td>\n",
       "      <td>EID_23371</td>\n",
       "      <td>F</td>\n",
       "      <td>Married</td>\n",
       "      <td>Franklin</td>\n",
       "      <td>IT</td>\n",
       "      <td>Conceptual</td>\n",
       "      <td>type2</td>\n",
       "    </tr>\n",
       "    <tr>\n",
       "      <td>1</td>\n",
       "      <td>EID_18000</td>\n",
       "      <td>M</td>\n",
       "      <td>Single</td>\n",
       "      <td>Springfield</td>\n",
       "      <td>Logistics</td>\n",
       "      <td>Analytical</td>\n",
       "      <td>type2</td>\n",
       "    </tr>\n",
       "    <tr>\n",
       "      <td>2</td>\n",
       "      <td>EID_3891</td>\n",
       "      <td>F</td>\n",
       "      <td>Married</td>\n",
       "      <td>Clinton</td>\n",
       "      <td>Quality</td>\n",
       "      <td>Conceptual</td>\n",
       "      <td>type2</td>\n",
       "    </tr>\n",
       "    <tr>\n",
       "      <td>3</td>\n",
       "      <td>EID_17492</td>\n",
       "      <td>F</td>\n",
       "      <td>Single</td>\n",
       "      <td>Lebanon</td>\n",
       "      <td>Human Resource Management</td>\n",
       "      <td>Behavioral</td>\n",
       "      <td>type2</td>\n",
       "    </tr>\n",
       "    <tr>\n",
       "      <td>4</td>\n",
       "      <td>EID_22534</td>\n",
       "      <td>F</td>\n",
       "      <td>Married</td>\n",
       "      <td>Springfield</td>\n",
       "      <td>Logistics</td>\n",
       "      <td>Conceptual</td>\n",
       "      <td>type3</td>\n",
       "    </tr>\n",
       "  </tbody>\n",
       "</table>\n",
       "</div>"
      ],
      "text/plain": [
       "  Employee_ID Gender Relationship_Status     Hometown  \\\n",
       "0   EID_23371      F             Married     Franklin   \n",
       "1   EID_18000      M              Single  Springfield   \n",
       "2    EID_3891      F             Married      Clinton   \n",
       "3   EID_17492      F              Single      Lebanon   \n",
       "4   EID_22534      F             Married  Springfield   \n",
       "\n",
       "                        Unit Decision_skill_possess Compensation_and_Benefits  \n",
       "0                         IT             Conceptual                     type2  \n",
       "1                  Logistics             Analytical                     type2  \n",
       "2                    Quality             Conceptual                     type2  \n",
       "3  Human Resource Management             Behavioral                     type2  \n",
       "4                  Logistics             Conceptual                     type3  "
      ]
     },
     "execution_count": 239,
     "metadata": {},
     "output_type": "execute_result"
    }
   ],
   "source": [
    "categorical_data.head()"
   ]
  },
  {
   "cell_type": "markdown",
   "metadata": {},
   "source": [
    "#### Plot graphs to see frequency distribution of columns"
   ]
  },
  {
   "cell_type": "code",
   "execution_count": 240,
   "metadata": {},
   "outputs": [],
   "source": [
    "def frequency_distribution(value_count):\n",
    "    sns.set(style=\"darkgrid\")\n",
    "    sns.barplot(value_count.index, value_count.values, alpha=0.9)\n",
    "    plt.show()"
   ]
  },
  {
   "cell_type": "code",
   "execution_count": 241,
   "metadata": {},
   "outputs": [
    {
     "data": {
      "image/png": "[encoded data removed]",
      "text/plain": [
       "<Figure size 432x288 with 1 Axes>"
      ]
     },
     "metadata": {},
     "output_type": "display_data"
    }
   ],
   "source": [
    "frequency_distribution(categorical_data['Gender'].value_counts())"
   ]
  },
  {
   "cell_type": "code",
   "execution_count": 242,
   "metadata": {},
   "outputs": [
    {
     "data": {
      "image/png": "[encoded data removed]",
      "text/plain": [
       "<Figure size 432x288 with 1 Axes>"
      ]
     },
     "metadata": {},
     "output_type": "display_data"
    }
   ],
   "source": [
    "frequency_distribution(categorical_data['Relationship_Status'].value_counts())"
   ]
  },
  {
   "cell_type": "code",
   "execution_count": 243,
   "metadata": {},
   "outputs": [
    {
     "data": {
      "image/png": "[encoded data removed]",
      "text/plain": [
       "<Figure size 432x288 with 1 Axes>"
      ]
     },
     "metadata": {},
     "output_type": "display_data"
    }
   ],
   "source": [
    "frequency_distribution(categorical_data['Hometown'].value_counts())"
   ]
  },
  {
   "cell_type": "code",
   "execution_count": 244,
   "metadata": {},
   "outputs": [
    {
     "data": {
      "image/png": "[encoded data removed]",
      "text/plain": [
       "<Figure size 2160x360 with 1 Axes>"
      ]
     },
     "metadata": {},
     "output_type": "display_data"
    },
    {
     "name": "stdout",
     "output_type": "stream",
     "text": [
      "12\n"
     ]
    }
   ],
   "source": [
    "plt.figure(figsize=(30,5))\n",
    "frequency_distribution(categorical_data['Unit'].value_counts())\n",
    "print(categorical_data['Unit'].value_counts().count())"
   ]
  },
  {
   "cell_type": "code",
   "execution_count": 245,
   "metadata": {},
   "outputs": [
    {
     "data": {
      "image/png": "[encoded data removed]",
      "text/plain": [
       "<Figure size 432x288 with 1 Axes>"
      ]
     },
     "metadata": {},
     "output_type": "display_data"
    }
   ],
   "source": [
    "frequency_distribution(categorical_data['Decision_skill_possess'].value_counts())"
   ]
  },
  {
   "cell_type": "code",
   "execution_count": 246,
   "metadata": {},
   "outputs": [
    {
     "data": {
      "image/png": "[encoded data removed]",
      "text/plain": [
       "<Figure size 432x288 with 1 Axes>"
      ]
     },
     "metadata": {},
     "output_type": "display_data"
    }
   ],
   "source": [
    "frequency_distribution(categorical_data['Compensation_and_Benefits'].value_counts())\n"
   ]
  },
  {
   "cell_type": "markdown",
   "metadata": {},
   "source": [
    "#### As Gender and Relationshup_Status have only two categories, we will map them with 0 and 1."
   ]
  },
  {
   "cell_type": "code",
   "execution_count": 247,
   "metadata": {},
   "outputs": [],
   "source": [
    "train_data['Gender']=train_data['Gender'].apply(lambda x : 0 if x=='F' else 1)\n",
    "test_data['Gender']=test_data['Gender'].apply(lambda x : 0 if x=='F' else 1)"
   ]
  },
  {
   "cell_type": "code",
   "execution_count": 248,
   "metadata": {},
   "outputs": [],
   "source": [
    "train_data['Relationship_Status']=train_data['Relationship_Status'].apply(lambda x : 0 if x=='Married' else 1)\n",
    "test_data['Relationship_Status']=test_data['Relationship_Status'].apply(lambda x : 0 if x=='Married' else 1)"
   ]
  },
  {
   "cell_type": "code",
   "execution_count": 249,
   "metadata": {},
   "outputs": [
    {
     "data": {
      "text/html": [
       "<div>\n",
       "<style scoped>\n",
       "    .dataframe tbody tr th:only-of-type {\n",
       "        vertical-align: middle;\n",
       "    }\n",
       "\n",
       "    .dataframe tbody tr th {\n",
       "        vertical-align: top;\n",
       "    }\n",
       "\n",
       "    .dataframe thead th {\n",
       "        text-align: right;\n",
       "    }\n",
       "</style>\n",
       "<table border=\"1\" class=\"dataframe\">\n",
       "  <thead>\n",
       "    <tr style=\"text-align: right;\">\n",
       "      <th></th>\n",
       "      <th>Employee_ID</th>\n",
       "      <th>Gender</th>\n",
       "      <th>Age</th>\n",
       "      <th>Education_Level</th>\n",
       "      <th>Relationship_Status</th>\n",
       "      <th>Hometown</th>\n",
       "      <th>Unit</th>\n",
       "      <th>Decision_skill_possess</th>\n",
       "      <th>Time_of_service</th>\n",
       "      <th>Time_since_promotion</th>\n",
       "      <th>...</th>\n",
       "      <th>Compensation_and_Benefits</th>\n",
       "      <th>Work_Life_balance</th>\n",
       "      <th>VAR1</th>\n",
       "      <th>VAR2</th>\n",
       "      <th>VAR3</th>\n",
       "      <th>VAR4</th>\n",
       "      <th>VAR5</th>\n",
       "      <th>VAR6</th>\n",
       "      <th>VAR7</th>\n",
       "      <th>Attrition_rate</th>\n",
       "    </tr>\n",
       "  </thead>\n",
       "  <tbody>\n",
       "    <tr>\n",
       "      <td>0</td>\n",
       "      <td>EID_23371</td>\n",
       "      <td>0</td>\n",
       "      <td>42.0</td>\n",
       "      <td>4</td>\n",
       "      <td>0</td>\n",
       "      <td>Franklin</td>\n",
       "      <td>IT</td>\n",
       "      <td>Conceptual</td>\n",
       "      <td>4.0</td>\n",
       "      <td>4</td>\n",
       "      <td>...</td>\n",
       "      <td>type2</td>\n",
       "      <td>3.0</td>\n",
       "      <td>4</td>\n",
       "      <td>0.7516</td>\n",
       "      <td>1.8688</td>\n",
       "      <td>2.0</td>\n",
       "      <td>4</td>\n",
       "      <td>5</td>\n",
       "      <td>3</td>\n",
       "      <td>0.1841</td>\n",
       "    </tr>\n",
       "    <tr>\n",
       "      <td>1</td>\n",
       "      <td>EID_18000</td>\n",
       "      <td>1</td>\n",
       "      <td>24.0</td>\n",
       "      <td>3</td>\n",
       "      <td>1</td>\n",
       "      <td>Springfield</td>\n",
       "      <td>Logistics</td>\n",
       "      <td>Analytical</td>\n",
       "      <td>5.0</td>\n",
       "      <td>4</td>\n",
       "      <td>...</td>\n",
       "      <td>type2</td>\n",
       "      <td>4.0</td>\n",
       "      <td>3</td>\n",
       "      <td>-0.9612</td>\n",
       "      <td>-0.4537</td>\n",
       "      <td>2.0</td>\n",
       "      <td>3</td>\n",
       "      <td>5</td>\n",
       "      <td>3</td>\n",
       "      <td>0.0670</td>\n",
       "    </tr>\n",
       "    <tr>\n",
       "      <td>2</td>\n",
       "      <td>EID_3891</td>\n",
       "      <td>0</td>\n",
       "      <td>58.0</td>\n",
       "      <td>3</td>\n",
       "      <td>0</td>\n",
       "      <td>Clinton</td>\n",
       "      <td>Quality</td>\n",
       "      <td>Conceptual</td>\n",
       "      <td>27.0</td>\n",
       "      <td>3</td>\n",
       "      <td>...</td>\n",
       "      <td>type2</td>\n",
       "      <td>1.0</td>\n",
       "      <td>4</td>\n",
       "      <td>-0.9612</td>\n",
       "      <td>-0.4537</td>\n",
       "      <td>3.0</td>\n",
       "      <td>3</td>\n",
       "      <td>8</td>\n",
       "      <td>3</td>\n",
       "      <td>0.0851</td>\n",
       "    </tr>\n",
       "    <tr>\n",
       "      <td>3</td>\n",
       "      <td>EID_17492</td>\n",
       "      <td>0</td>\n",
       "      <td>26.0</td>\n",
       "      <td>3</td>\n",
       "      <td>1</td>\n",
       "      <td>Lebanon</td>\n",
       "      <td>Human Resource Management</td>\n",
       "      <td>Behavioral</td>\n",
       "      <td>4.0</td>\n",
       "      <td>3</td>\n",
       "      <td>...</td>\n",
       "      <td>type2</td>\n",
       "      <td>1.0</td>\n",
       "      <td>3</td>\n",
       "      <td>-1.8176</td>\n",
       "      <td>-0.4537</td>\n",
       "      <td>2.0</td>\n",
       "      <td>3</td>\n",
       "      <td>7</td>\n",
       "      <td>3</td>\n",
       "      <td>0.0668</td>\n",
       "    </tr>\n",
       "    <tr>\n",
       "      <td>4</td>\n",
       "      <td>EID_22534</td>\n",
       "      <td>0</td>\n",
       "      <td>31.0</td>\n",
       "      <td>1</td>\n",
       "      <td>0</td>\n",
       "      <td>Springfield</td>\n",
       "      <td>Logistics</td>\n",
       "      <td>Conceptual</td>\n",
       "      <td>5.0</td>\n",
       "      <td>4</td>\n",
       "      <td>...</td>\n",
       "      <td>type3</td>\n",
       "      <td>3.0</td>\n",
       "      <td>1</td>\n",
       "      <td>0.7516</td>\n",
       "      <td>-0.4537</td>\n",
       "      <td>2.0</td>\n",
       "      <td>2</td>\n",
       "      <td>8</td>\n",
       "      <td>2</td>\n",
       "      <td>0.1827</td>\n",
       "    </tr>\n",
       "  </tbody>\n",
       "</table>\n",
       "<p>5 rows × 24 columns</p>\n",
       "</div>"
      ],
      "text/plain": [
       "  Employee_ID  Gender   Age  Education_Level  Relationship_Status  \\\n",
       "0   EID_23371       0  42.0                4                    0   \n",
       "1   EID_18000       1  24.0                3                    1   \n",
       "2    EID_3891       0  58.0                3                    0   \n",
       "3   EID_17492       0  26.0                3                    1   \n",
       "4   EID_22534       0  31.0                1                    0   \n",
       "\n",
       "      Hometown                       Unit Decision_skill_possess  \\\n",
       "0     Franklin                         IT             Conceptual   \n",
       "1  Springfield                  Logistics             Analytical   \n",
       "2      Clinton                    Quality             Conceptual   \n",
       "3      Lebanon  Human Resource Management             Behavioral   \n",
       "4  Springfield                  Logistics             Conceptual   \n",
       "\n",
       "   Time_of_service  Time_since_promotion  ...  Compensation_and_Benefits  \\\n",
       "0              4.0                     4  ...                      type2   \n",
       "1              5.0                     4  ...                      type2   \n",
       "2             27.0                     3  ...                      type2   \n",
       "3              4.0                     3  ...                      type2   \n",
       "4              5.0                     4  ...                      type3   \n",
       "\n",
       "   Work_Life_balance  VAR1    VAR2    VAR3  VAR4  VAR5  VAR6  VAR7  \\\n",
       "0                3.0     4  0.7516  1.8688   2.0     4     5     3   \n",
       "1                4.0     3 -0.9612 -0.4537   2.0     3     5     3   \n",
       "2                1.0     4 -0.9612 -0.4537   3.0     3     8     3   \n",
       "3                1.0     3 -1.8176 -0.4537   2.0     3     7     3   \n",
       "4                3.0     1  0.7516 -0.4537   2.0     2     8     2   \n",
       "\n",
       "   Attrition_rate  \n",
       "0          0.1841  \n",
       "1          0.0670  \n",
       "2          0.0851  \n",
       "3          0.0668  \n",
       "4          0.1827  \n",
       "\n",
       "[5 rows x 24 columns]"
      ]
     },
     "execution_count": 249,
     "metadata": {},
     "output_type": "execute_result"
    }
   ],
   "source": [
    "train_data.head()"
   ]
  },
  {
   "cell_type": "markdown",
   "metadata": {},
   "source": [
    "#### Hometown and Decision_skill_possess  are nominal variables with 5  and 4 different values respectively so we will use one hot encoding."
   ]
  },
  {
   "cell_type": "code",
   "execution_count": 250,
   "metadata": {},
   "outputs": [],
   "source": [
    "hometown_df_train = pd.get_dummies(train_data.Hometown)\n",
    "hometown_df_test = pd.get_dummies(test_data.Hometown)\n",
    "\n",
    "train_data = train_data.join(hometown_df_train)\n",
    "test_data = test_data.join(hometown_df_test)"
   ]
  },
  {
   "cell_type": "code",
   "execution_count": 251,
   "metadata": {},
   "outputs": [],
   "source": [
    "dskill_df_train = pd.get_dummies(train_data.Decision_skill_possess)\n",
    "dskill_df_test = pd.get_dummies(test_data.Decision_skill_possess)\n",
    "\n",
    "train_data = train_data.join(dskill_df_train)\n",
    "test_data = test_data.join(dskill_df_test)"
   ]
  },
  {
   "cell_type": "code",
   "execution_count": 252,
   "metadata": {},
   "outputs": [
    {
     "data": {
      "text/html": [
       "<div>\n",
       "<style scoped>\n",
       "    .dataframe tbody tr th:only-of-type {\n",
       "        vertical-align: middle;\n",
       "    }\n",
       "\n",
       "    .dataframe tbody tr th {\n",
       "        vertical-align: top;\n",
       "    }\n",
       "\n",
       "    .dataframe thead th {\n",
       "        text-align: right;\n",
       "    }\n",
       "</style>\n",
       "<table border=\"1\" class=\"dataframe\">\n",
       "  <thead>\n",
       "    <tr style=\"text-align: right;\">\n",
       "      <th></th>\n",
       "      <th>Employee_ID</th>\n",
       "      <th>Gender</th>\n",
       "      <th>Age</th>\n",
       "      <th>Education_Level</th>\n",
       "      <th>Relationship_Status</th>\n",
       "      <th>Hometown</th>\n",
       "      <th>Unit</th>\n",
       "      <th>Decision_skill_possess</th>\n",
       "      <th>Time_of_service</th>\n",
       "      <th>Time_since_promotion</th>\n",
       "      <th>...</th>\n",
       "      <th>Attrition_rate</th>\n",
       "      <th>Clinton</th>\n",
       "      <th>Franklin</th>\n",
       "      <th>Lebanon</th>\n",
       "      <th>Springfield</th>\n",
       "      <th>Washington</th>\n",
       "      <th>Analytical</th>\n",
       "      <th>Behavioral</th>\n",
       "      <th>Conceptual</th>\n",
       "      <th>Directive</th>\n",
       "    </tr>\n",
       "  </thead>\n",
       "  <tbody>\n",
       "    <tr>\n",
       "      <td>0</td>\n",
       "      <td>EID_23371</td>\n",
       "      <td>0</td>\n",
       "      <td>42.0</td>\n",
       "      <td>4</td>\n",
       "      <td>0</td>\n",
       "      <td>Franklin</td>\n",
       "      <td>IT</td>\n",
       "      <td>Conceptual</td>\n",
       "      <td>4.0</td>\n",
       "      <td>4</td>\n",
       "      <td>...</td>\n",
       "      <td>0.1841</td>\n",
       "      <td>0</td>\n",
       "      <td>1</td>\n",
       "      <td>0</td>\n",
       "      <td>0</td>\n",
       "      <td>0</td>\n",
       "      <td>0</td>\n",
       "      <td>0</td>\n",
       "      <td>1</td>\n",
       "      <td>0</td>\n",
       "    </tr>\n",
       "    <tr>\n",
       "      <td>1</td>\n",
       "      <td>EID_18000</td>\n",
       "      <td>1</td>\n",
       "      <td>24.0</td>\n",
       "      <td>3</td>\n",
       "      <td>1</td>\n",
       "      <td>Springfield</td>\n",
       "      <td>Logistics</td>\n",
       "      <td>Analytical</td>\n",
       "      <td>5.0</td>\n",
       "      <td>4</td>\n",
       "      <td>...</td>\n",
       "      <td>0.0670</td>\n",
       "      <td>0</td>\n",
       "      <td>0</td>\n",
       "      <td>0</td>\n",
       "      <td>1</td>\n",
       "      <td>0</td>\n",
       "      <td>1</td>\n",
       "      <td>0</td>\n",
       "      <td>0</td>\n",
       "      <td>0</td>\n",
       "    </tr>\n",
       "    <tr>\n",
       "      <td>2</td>\n",
       "      <td>EID_3891</td>\n",
       "      <td>0</td>\n",
       "      <td>58.0</td>\n",
       "      <td>3</td>\n",
       "      <td>0</td>\n",
       "      <td>Clinton</td>\n",
       "      <td>Quality</td>\n",
       "      <td>Conceptual</td>\n",
       "      <td>27.0</td>\n",
       "      <td>3</td>\n",
       "      <td>...</td>\n",
       "      <td>0.0851</td>\n",
       "      <td>1</td>\n",
       "      <td>0</td>\n",
       "      <td>0</td>\n",
       "      <td>0</td>\n",
       "      <td>0</td>\n",
       "      <td>0</td>\n",
       "      <td>0</td>\n",
       "      <td>1</td>\n",
       "      <td>0</td>\n",
       "    </tr>\n",
       "    <tr>\n",
       "      <td>3</td>\n",
       "      <td>EID_17492</td>\n",
       "      <td>0</td>\n",
       "      <td>26.0</td>\n",
       "      <td>3</td>\n",
       "      <td>1</td>\n",
       "      <td>Lebanon</td>\n",
       "      <td>Human Resource Management</td>\n",
       "      <td>Behavioral</td>\n",
       "      <td>4.0</td>\n",
       "      <td>3</td>\n",
       "      <td>...</td>\n",
       "      <td>0.0668</td>\n",
       "      <td>0</td>\n",
       "      <td>0</td>\n",
       "      <td>1</td>\n",
       "      <td>0</td>\n",
       "      <td>0</td>\n",
       "      <td>0</td>\n",
       "      <td>1</td>\n",
       "      <td>0</td>\n",
       "      <td>0</td>\n",
       "    </tr>\n",
       "    <tr>\n",
       "      <td>4</td>\n",
       "      <td>EID_22534</td>\n",
       "      <td>0</td>\n",
       "      <td>31.0</td>\n",
       "      <td>1</td>\n",
       "      <td>0</td>\n",
       "      <td>Springfield</td>\n",
       "      <td>Logistics</td>\n",
       "      <td>Conceptual</td>\n",
       "      <td>5.0</td>\n",
       "      <td>4</td>\n",
       "      <td>...</td>\n",
       "      <td>0.1827</td>\n",
       "      <td>0</td>\n",
       "      <td>0</td>\n",
       "      <td>0</td>\n",
       "      <td>1</td>\n",
       "      <td>0</td>\n",
       "      <td>0</td>\n",
       "      <td>0</td>\n",
       "      <td>1</td>\n",
       "      <td>0</td>\n",
       "    </tr>\n",
       "  </tbody>\n",
       "</table>\n",
       "<p>5 rows × 33 columns</p>\n",
       "</div>"
      ],
      "text/plain": [
       "  Employee_ID  Gender   Age  Education_Level  Relationship_Status  \\\n",
       "0   EID_23371       0  42.0                4                    0   \n",
       "1   EID_18000       1  24.0                3                    1   \n",
       "2    EID_3891       0  58.0                3                    0   \n",
       "3   EID_17492       0  26.0                3                    1   \n",
       "4   EID_22534       0  31.0                1                    0   \n",
       "\n",
       "      Hometown                       Unit Decision_skill_possess  \\\n",
       "0     Franklin                         IT             Conceptual   \n",
       "1  Springfield                  Logistics             Analytical   \n",
       "2      Clinton                    Quality             Conceptual   \n",
       "3      Lebanon  Human Resource Management             Behavioral   \n",
       "4  Springfield                  Logistics             Conceptual   \n",
       "\n",
       "   Time_of_service  Time_since_promotion  ...  Attrition_rate  Clinton  \\\n",
       "0              4.0                     4  ...          0.1841        0   \n",
       "1              5.0                     4  ...          0.0670        0   \n",
       "2             27.0                     3  ...          0.0851        1   \n",
       "3              4.0                     3  ...          0.0668        0   \n",
       "4              5.0                     4  ...          0.1827        0   \n",
       "\n",
       "   Franklin  Lebanon Springfield  Washington  Analytical  Behavioral  \\\n",
       "0         1        0           0           0           0           0   \n",
       "1         0        0           1           0           1           0   \n",
       "2         0        0           0           0           0           0   \n",
       "3         0        1           0           0           0           1   \n",
       "4         0        0           1           0           0           0   \n",
       "\n",
       "   Conceptual  Directive  \n",
       "0           1          0  \n",
       "1           0          0  \n",
       "2           1          0  \n",
       "3           0          0  \n",
       "4           1          0  \n",
       "\n",
       "[5 rows x 33 columns]"
      ]
     },
     "execution_count": 252,
     "metadata": {},
     "output_type": "execute_result"
    }
   ],
   "source": [
    "train_data.head()"
   ]
  },
  {
   "cell_type": "code",
   "execution_count": 253,
   "metadata": {},
   "outputs": [],
   "source": [
    "train_data.drop(['Hometown','Decision_skill_possess'],axis=1,inplace=True)\n",
    "test_data.drop(['Hometown','Decision_skill_possess'],axis=1,inplace=True)"
   ]
  },
  {
   "cell_type": "code",
   "execution_count": 254,
   "metadata": {},
   "outputs": [
    {
     "data": {
      "text/html": [
       "<div>\n",
       "<style scoped>\n",
       "    .dataframe tbody tr th:only-of-type {\n",
       "        vertical-align: middle;\n",
       "    }\n",
       "\n",
       "    .dataframe tbody tr th {\n",
       "        vertical-align: top;\n",
       "    }\n",
       "\n",
       "    .dataframe thead th {\n",
       "        text-align: right;\n",
       "    }\n",
       "</style>\n",
       "<table border=\"1\" class=\"dataframe\">\n",
       "  <thead>\n",
       "    <tr style=\"text-align: right;\">\n",
       "      <th></th>\n",
       "      <th>Employee_ID</th>\n",
       "      <th>Gender</th>\n",
       "      <th>Age</th>\n",
       "      <th>Education_Level</th>\n",
       "      <th>Relationship_Status</th>\n",
       "      <th>Unit</th>\n",
       "      <th>Time_of_service</th>\n",
       "      <th>Time_since_promotion</th>\n",
       "      <th>growth_rate</th>\n",
       "      <th>Travel_Rate</th>\n",
       "      <th>...</th>\n",
       "      <th>Attrition_rate</th>\n",
       "      <th>Clinton</th>\n",
       "      <th>Franklin</th>\n",
       "      <th>Lebanon</th>\n",
       "      <th>Springfield</th>\n",
       "      <th>Washington</th>\n",
       "      <th>Analytical</th>\n",
       "      <th>Behavioral</th>\n",
       "      <th>Conceptual</th>\n",
       "      <th>Directive</th>\n",
       "    </tr>\n",
       "  </thead>\n",
       "  <tbody>\n",
       "    <tr>\n",
       "      <td>0</td>\n",
       "      <td>EID_23371</td>\n",
       "      <td>0</td>\n",
       "      <td>42.0</td>\n",
       "      <td>4</td>\n",
       "      <td>0</td>\n",
       "      <td>IT</td>\n",
       "      <td>4.0</td>\n",
       "      <td>4</td>\n",
       "      <td>33</td>\n",
       "      <td>1</td>\n",
       "      <td>...</td>\n",
       "      <td>0.1841</td>\n",
       "      <td>0</td>\n",
       "      <td>1</td>\n",
       "      <td>0</td>\n",
       "      <td>0</td>\n",
       "      <td>0</td>\n",
       "      <td>0</td>\n",
       "      <td>0</td>\n",
       "      <td>1</td>\n",
       "      <td>0</td>\n",
       "    </tr>\n",
       "    <tr>\n",
       "      <td>1</td>\n",
       "      <td>EID_18000</td>\n",
       "      <td>1</td>\n",
       "      <td>24.0</td>\n",
       "      <td>3</td>\n",
       "      <td>1</td>\n",
       "      <td>Logistics</td>\n",
       "      <td>5.0</td>\n",
       "      <td>4</td>\n",
       "      <td>36</td>\n",
       "      <td>0</td>\n",
       "      <td>...</td>\n",
       "      <td>0.0670</td>\n",
       "      <td>0</td>\n",
       "      <td>0</td>\n",
       "      <td>0</td>\n",
       "      <td>1</td>\n",
       "      <td>0</td>\n",
       "      <td>1</td>\n",
       "      <td>0</td>\n",
       "      <td>0</td>\n",
       "      <td>0</td>\n",
       "    </tr>\n",
       "    <tr>\n",
       "      <td>2</td>\n",
       "      <td>EID_3891</td>\n",
       "      <td>0</td>\n",
       "      <td>58.0</td>\n",
       "      <td>3</td>\n",
       "      <td>0</td>\n",
       "      <td>Quality</td>\n",
       "      <td>27.0</td>\n",
       "      <td>3</td>\n",
       "      <td>51</td>\n",
       "      <td>0</td>\n",
       "      <td>...</td>\n",
       "      <td>0.0851</td>\n",
       "      <td>1</td>\n",
       "      <td>0</td>\n",
       "      <td>0</td>\n",
       "      <td>0</td>\n",
       "      <td>0</td>\n",
       "      <td>0</td>\n",
       "      <td>0</td>\n",
       "      <td>1</td>\n",
       "      <td>0</td>\n",
       "    </tr>\n",
       "    <tr>\n",
       "      <td>3</td>\n",
       "      <td>EID_17492</td>\n",
       "      <td>0</td>\n",
       "      <td>26.0</td>\n",
       "      <td>3</td>\n",
       "      <td>1</td>\n",
       "      <td>Human Resource Management</td>\n",
       "      <td>4.0</td>\n",
       "      <td>3</td>\n",
       "      <td>56</td>\n",
       "      <td>1</td>\n",
       "      <td>...</td>\n",
       "      <td>0.0668</td>\n",
       "      <td>0</td>\n",
       "      <td>0</td>\n",
       "      <td>1</td>\n",
       "      <td>0</td>\n",
       "      <td>0</td>\n",
       "      <td>0</td>\n",
       "      <td>1</td>\n",
       "      <td>0</td>\n",
       "      <td>0</td>\n",
       "    </tr>\n",
       "    <tr>\n",
       "      <td>4</td>\n",
       "      <td>EID_22534</td>\n",
       "      <td>0</td>\n",
       "      <td>31.0</td>\n",
       "      <td>1</td>\n",
       "      <td>0</td>\n",
       "      <td>Logistics</td>\n",
       "      <td>5.0</td>\n",
       "      <td>4</td>\n",
       "      <td>62</td>\n",
       "      <td>1</td>\n",
       "      <td>...</td>\n",
       "      <td>0.1827</td>\n",
       "      <td>0</td>\n",
       "      <td>0</td>\n",
       "      <td>0</td>\n",
       "      <td>1</td>\n",
       "      <td>0</td>\n",
       "      <td>0</td>\n",
       "      <td>0</td>\n",
       "      <td>1</td>\n",
       "      <td>0</td>\n",
       "    </tr>\n",
       "  </tbody>\n",
       "</table>\n",
       "<p>5 rows × 31 columns</p>\n",
       "</div>"
      ],
      "text/plain": [
       "  Employee_ID  Gender   Age  Education_Level  Relationship_Status  \\\n",
       "0   EID_23371       0  42.0                4                    0   \n",
       "1   EID_18000       1  24.0                3                    1   \n",
       "2    EID_3891       0  58.0                3                    0   \n",
       "3   EID_17492       0  26.0                3                    1   \n",
       "4   EID_22534       0  31.0                1                    0   \n",
       "\n",
       "                        Unit  Time_of_service  Time_since_promotion  \\\n",
       "0                         IT              4.0                     4   \n",
       "1                  Logistics              5.0                     4   \n",
       "2                    Quality             27.0                     3   \n",
       "3  Human Resource Management              4.0                     3   \n",
       "4                  Logistics              5.0                     4   \n",
       "\n",
       "   growth_rate  Travel_Rate  ...  Attrition_rate  Clinton Franklin  Lebanon  \\\n",
       "0           33            1  ...          0.1841        0        1        0   \n",
       "1           36            0  ...          0.0670        0        0        0   \n",
       "2           51            0  ...          0.0851        1        0        0   \n",
       "3           56            1  ...          0.0668        0        0        1   \n",
       "4           62            1  ...          0.1827        0        0        0   \n",
       "\n",
       "   Springfield  Washington  Analytical  Behavioral  Conceptual  Directive  \n",
       "0            0           0           0           0           1          0  \n",
       "1            1           0           1           0           0          0  \n",
       "2            0           0           0           0           1          0  \n",
       "3            0           0           0           1           0          0  \n",
       "4            1           0           0           0           1          0  \n",
       "\n",
       "[5 rows x 31 columns]"
      ]
     },
     "execution_count": 254,
     "metadata": {},
     "output_type": "execute_result"
    }
   ],
   "source": [
    "train_data.head()"
   ]
  },
  {
   "cell_type": "code",
   "execution_count": 255,
   "metadata": {},
   "outputs": [
    {
     "data": {
      "text/html": [
       "<div>\n",
       "<style scoped>\n",
       "    .dataframe tbody tr th:only-of-type {\n",
       "        vertical-align: middle;\n",
       "    }\n",
       "\n",
       "    .dataframe tbody tr th {\n",
       "        vertical-align: top;\n",
       "    }\n",
       "\n",
       "    .dataframe thead th {\n",
       "        text-align: right;\n",
       "    }\n",
       "</style>\n",
       "<table border=\"1\" class=\"dataframe\">\n",
       "  <thead>\n",
       "    <tr style=\"text-align: right;\">\n",
       "      <th></th>\n",
       "      <th>Employee_ID</th>\n",
       "      <th>Gender</th>\n",
       "      <th>Age</th>\n",
       "      <th>Education_Level</th>\n",
       "      <th>Relationship_Status</th>\n",
       "      <th>Unit</th>\n",
       "      <th>Time_of_service</th>\n",
       "      <th>Time_since_promotion</th>\n",
       "      <th>growth_rate</th>\n",
       "      <th>Travel_Rate</th>\n",
       "      <th>...</th>\n",
       "      <th>VAR7</th>\n",
       "      <th>Clinton</th>\n",
       "      <th>Franklin</th>\n",
       "      <th>Lebanon</th>\n",
       "      <th>Springfield</th>\n",
       "      <th>Washington</th>\n",
       "      <th>Analytical</th>\n",
       "      <th>Behavioral</th>\n",
       "      <th>Conceptual</th>\n",
       "      <th>Directive</th>\n",
       "    </tr>\n",
       "  </thead>\n",
       "  <tbody>\n",
       "    <tr>\n",
       "      <td>0</td>\n",
       "      <td>EID_22713</td>\n",
       "      <td>0</td>\n",
       "      <td>32.0</td>\n",
       "      <td>5</td>\n",
       "      <td>1</td>\n",
       "      <td>R&amp;D</td>\n",
       "      <td>7.0</td>\n",
       "      <td>4</td>\n",
       "      <td>30</td>\n",
       "      <td>1</td>\n",
       "      <td>...</td>\n",
       "      <td>4</td>\n",
       "      <td>0</td>\n",
       "      <td>0</td>\n",
       "      <td>0</td>\n",
       "      <td>1</td>\n",
       "      <td>0</td>\n",
       "      <td>0</td>\n",
       "      <td>0</td>\n",
       "      <td>1</td>\n",
       "      <td>0</td>\n",
       "    </tr>\n",
       "    <tr>\n",
       "      <td>1</td>\n",
       "      <td>EID_9658</td>\n",
       "      <td>1</td>\n",
       "      <td>65.0</td>\n",
       "      <td>2</td>\n",
       "      <td>1</td>\n",
       "      <td>IT</td>\n",
       "      <td>41.0</td>\n",
       "      <td>2</td>\n",
       "      <td>72</td>\n",
       "      <td>1</td>\n",
       "      <td>...</td>\n",
       "      <td>2</td>\n",
       "      <td>0</td>\n",
       "      <td>0</td>\n",
       "      <td>1</td>\n",
       "      <td>0</td>\n",
       "      <td>0</td>\n",
       "      <td>0</td>\n",
       "      <td>0</td>\n",
       "      <td>0</td>\n",
       "      <td>1</td>\n",
       "    </tr>\n",
       "    <tr>\n",
       "      <td>2</td>\n",
       "      <td>EID_22203</td>\n",
       "      <td>1</td>\n",
       "      <td>52.0</td>\n",
       "      <td>3</td>\n",
       "      <td>0</td>\n",
       "      <td>Sales</td>\n",
       "      <td>21.0</td>\n",
       "      <td>3</td>\n",
       "      <td>25</td>\n",
       "      <td>0</td>\n",
       "      <td>...</td>\n",
       "      <td>3</td>\n",
       "      <td>0</td>\n",
       "      <td>0</td>\n",
       "      <td>0</td>\n",
       "      <td>1</td>\n",
       "      <td>0</td>\n",
       "      <td>0</td>\n",
       "      <td>0</td>\n",
       "      <td>0</td>\n",
       "      <td>1</td>\n",
       "    </tr>\n",
       "    <tr>\n",
       "      <td>3</td>\n",
       "      <td>EID_7652</td>\n",
       "      <td>1</td>\n",
       "      <td>50.0</td>\n",
       "      <td>5</td>\n",
       "      <td>1</td>\n",
       "      <td>Marketing</td>\n",
       "      <td>11.0</td>\n",
       "      <td>4</td>\n",
       "      <td>28</td>\n",
       "      <td>1</td>\n",
       "      <td>...</td>\n",
       "      <td>3</td>\n",
       "      <td>0</td>\n",
       "      <td>0</td>\n",
       "      <td>0</td>\n",
       "      <td>0</td>\n",
       "      <td>1</td>\n",
       "      <td>1</td>\n",
       "      <td>0</td>\n",
       "      <td>0</td>\n",
       "      <td>0</td>\n",
       "    </tr>\n",
       "    <tr>\n",
       "      <td>4</td>\n",
       "      <td>EID_6516</td>\n",
       "      <td>0</td>\n",
       "      <td>44.0</td>\n",
       "      <td>3</td>\n",
       "      <td>0</td>\n",
       "      <td>R&amp;D</td>\n",
       "      <td>12.0</td>\n",
       "      <td>4</td>\n",
       "      <td>47</td>\n",
       "      <td>1</td>\n",
       "      <td>...</td>\n",
       "      <td>4</td>\n",
       "      <td>0</td>\n",
       "      <td>1</td>\n",
       "      <td>0</td>\n",
       "      <td>0</td>\n",
       "      <td>0</td>\n",
       "      <td>0</td>\n",
       "      <td>0</td>\n",
       "      <td>1</td>\n",
       "      <td>0</td>\n",
       "    </tr>\n",
       "  </tbody>\n",
       "</table>\n",
       "<p>5 rows × 30 columns</p>\n",
       "</div>"
      ],
      "text/plain": [
       "  Employee_ID  Gender   Age  Education_Level  Relationship_Status       Unit  \\\n",
       "0   EID_22713       0  32.0                5                    1        R&D   \n",
       "1    EID_9658       1  65.0                2                    1         IT   \n",
       "2   EID_22203       1  52.0                3                    0      Sales   \n",
       "3    EID_7652       1  50.0                5                    1  Marketing   \n",
       "4    EID_6516       0  44.0                3                    0        R&D   \n",
       "\n",
       "   Time_of_service  Time_since_promotion  growth_rate  Travel_Rate  ...  VAR7  \\\n",
       "0              7.0                     4           30            1  ...     4   \n",
       "1             41.0                     2           72            1  ...     2   \n",
       "2             21.0                     3           25            0  ...     3   \n",
       "3             11.0                     4           28            1  ...     3   \n",
       "4             12.0                     4           47            1  ...     4   \n",
       "\n",
       "   Clinton Franklin  Lebanon  Springfield  Washington  Analytical  Behavioral  \\\n",
       "0        0        0        0            1           0           0           0   \n",
       "1        0        0        1            0           0           0           0   \n",
       "2        0        0        0            1           0           0           0   \n",
       "3        0        0        0            0           1           1           0   \n",
       "4        0        1        0            0           0           0           0   \n",
       "\n",
       "   Conceptual  Directive  \n",
       "0           1          0  \n",
       "1           0          1  \n",
       "2           0          1  \n",
       "3           0          0  \n",
       "4           1          0  \n",
       "\n",
       "[5 rows x 30 columns]"
      ]
     },
     "execution_count": 255,
     "metadata": {},
     "output_type": "execute_result"
    }
   ],
   "source": [
    "test_data.head()"
   ]
  },
  {
   "cell_type": "markdown",
   "metadata": {},
   "source": [
    "#### Compensation_and_Benefits have some order so we will use label encdoing."
   ]
  },
  {
   "cell_type": "code",
   "execution_count": 256,
   "metadata": {},
   "outputs": [],
   "source": [
    "label_enc=LabelEncoder()\n",
    "train_data['Compensation_and_Benefits']=label_enc.fit_transform(train_data['Compensation_and_Benefits'])"
   ]
  },
  {
   "cell_type": "code",
   "execution_count": 257,
   "metadata": {},
   "outputs": [],
   "source": [
    "test_data['Compensation_and_Benefits']=label_enc.transform(test_data['Compensation_and_Benefits'])"
   ]
  },
  {
   "cell_type": "markdown",
   "metadata": {},
   "source": [
    "#### Unit column has 12 different categories, we will use Binary Encoding"
   ]
  },
  {
   "cell_type": "code",
   "execution_count": 258,
   "metadata": {},
   "outputs": [],
   "source": [
    "#!python3 -m pip install category_encoders"
   ]
  },
  {
   "cell_type": "code",
   "execution_count": 259,
   "metadata": {},
   "outputs": [],
   "source": [
    "# import category_encoders as ce\n",
    "# enc=ce.BinaryEncoder(cols=['Unit'])\n",
    "# enc_data=enc.fit_transform(train_data['Unit'])\n",
    "# train_data=pd.concat([train_data,enc_data],axis=1)"
   ]
  },
  {
   "cell_type": "code",
   "execution_count": 260,
   "metadata": {},
   "outputs": [],
   "source": [
    "# enc_data=enc.transform(test_data['Unit'])\n",
    "# test_data=pd.concat([test_data,enc_data],axis=1)"
   ]
  },
  {
   "cell_type": "code",
   "execution_count": 261,
   "metadata": {},
   "outputs": [
    {
     "data": {
      "text/plain": [
       "array(['IT', 'Logistics', 'Quality', 'Human Resource Management',\n",
       "       'Purchasing', 'Sales', 'Production', 'Operarions',\n",
       "       'Accounting and Finance', 'Marketing', 'R&D', 'Security'],\n",
       "      dtype=object)"
      ]
     },
     "execution_count": 261,
     "metadata": {},
     "output_type": "execute_result"
    }
   ],
   "source": [
    "train_data.Unit.unique()"
   ]
  },
  {
   "cell_type": "markdown",
   "metadata": {},
   "source": [
    "#### Giving order to Unit variable because R&D is on higher level than Sales, and so. "
   ]
  },
  {
   "cell_type": "code",
   "execution_count": 262,
   "metadata": {},
   "outputs": [],
   "source": [
    "unit_dict = {'IT':2, 'Logistics':5, 'Quality':4, 'Human Resource Management':9,\n",
    "       'Purchasing':10, 'Sales':6, 'Production':3, 'Operarions':8,\n",
    "       'Accounting and Finance':8, 'Marketing':7, 'R&D':1, 'Security':11}"
   ]
  },
  {
   "cell_type": "code",
   "execution_count": 263,
   "metadata": {},
   "outputs": [
    {
     "data": {
      "text/plain": [
       "0                              IT\n",
       "1                       Logistics\n",
       "2                         Quality\n",
       "3       Human Resource Management\n",
       "4                       Logistics\n",
       "                  ...            \n",
       "6995                   Operarions\n",
       "6996                          R&D\n",
       "6997                           IT\n",
       "6998                        Sales\n",
       "6999                           IT\n",
       "Name: Unit, Length: 7000, dtype: object"
      ]
     },
     "execution_count": 263,
     "metadata": {},
     "output_type": "execute_result"
    }
   ],
   "source": [
    "train_data.Unit"
   ]
  },
  {
   "cell_type": "code",
   "execution_count": 264,
   "metadata": {},
   "outputs": [],
   "source": [
    "train_data.Unit = train_data.Unit.map(unit_dict)"
   ]
  },
  {
   "cell_type": "code",
   "execution_count": 265,
   "metadata": {},
   "outputs": [
    {
     "data": {
      "text/plain": [
       "0       2\n",
       "1       5\n",
       "2       4\n",
       "3       9\n",
       "4       5\n",
       "       ..\n",
       "6995    8\n",
       "6996    1\n",
       "6997    2\n",
       "6998    6\n",
       "6999    2\n",
       "Name: Unit, Length: 7000, dtype: int64"
      ]
     },
     "execution_count": 265,
     "metadata": {},
     "output_type": "execute_result"
    }
   ],
   "source": [
    "train_data.Unit"
   ]
  },
  {
   "cell_type": "code",
   "execution_count": 266,
   "metadata": {},
   "outputs": [],
   "source": [
    "test_data.Unit = test_data.Unit.map(unit_dict)"
   ]
  },
  {
   "cell_type": "markdown",
   "metadata": {},
   "source": [
    "#### As you can see Binary Encoder has made only 4 new columns out of 12 categories unlike One Hot Encoding which had made 12 new columns."
   ]
  },
  {
   "cell_type": "markdown",
   "metadata": {},
   "source": [
    "#### We can remove Unit from train and test data and we don't need Empolyee_ID also because each Employee_ID is unique and it won't be useful for the model."
   ]
  },
  {
   "cell_type": "code",
   "execution_count": 267,
   "metadata": {},
   "outputs": [],
   "source": [
    "train_data.drop(['Employee_ID'],axis=1,inplace=True)\n",
    "test_data.drop(['Employee_ID'],axis=1,inplace=True)"
   ]
  },
  {
   "cell_type": "code",
   "execution_count": 268,
   "metadata": {},
   "outputs": [
    {
     "data": {
      "text/plain": [
       "(7000, 30)"
      ]
     },
     "execution_count": 268,
     "metadata": {},
     "output_type": "execute_result"
    }
   ],
   "source": [
    "train_data.shape"
   ]
  },
  {
   "cell_type": "code",
   "execution_count": 269,
   "metadata": {},
   "outputs": [
    {
     "data": {
      "text/plain": [
       "(3000, 29)"
      ]
     },
     "execution_count": 269,
     "metadata": {},
     "output_type": "execute_result"
    }
   ],
   "source": [
    "test_data.shape"
   ]
  },
  {
   "cell_type": "markdown",
   "metadata": {},
   "source": [
    "#### Print description of data to check if data is on same scale or not."
   ]
  },
  {
   "cell_type": "code",
   "execution_count": 270,
   "metadata": {},
   "outputs": [
    {
     "data": {
      "text/html": [
       "<div>\n",
       "<style scoped>\n",
       "    .dataframe tbody tr th:only-of-type {\n",
       "        vertical-align: middle;\n",
       "    }\n",
       "\n",
       "    .dataframe tbody tr th {\n",
       "        vertical-align: top;\n",
       "    }\n",
       "\n",
       "    .dataframe thead th {\n",
       "        text-align: right;\n",
       "    }\n",
       "</style>\n",
       "<table border=\"1\" class=\"dataframe\">\n",
       "  <thead>\n",
       "    <tr style=\"text-align: right;\">\n",
       "      <th></th>\n",
       "      <th>Gender</th>\n",
       "      <th>Age</th>\n",
       "      <th>Education_Level</th>\n",
       "      <th>Relationship_Status</th>\n",
       "      <th>Unit</th>\n",
       "      <th>Time_of_service</th>\n",
       "      <th>Time_since_promotion</th>\n",
       "      <th>growth_rate</th>\n",
       "      <th>Travel_Rate</th>\n",
       "      <th>Post_Level</th>\n",
       "      <th>...</th>\n",
       "      <th>Attrition_rate</th>\n",
       "      <th>Clinton</th>\n",
       "      <th>Franklin</th>\n",
       "      <th>Lebanon</th>\n",
       "      <th>Springfield</th>\n",
       "      <th>Washington</th>\n",
       "      <th>Analytical</th>\n",
       "      <th>Behavioral</th>\n",
       "      <th>Conceptual</th>\n",
       "      <th>Directive</th>\n",
       "    </tr>\n",
       "  </thead>\n",
       "  <tbody>\n",
       "    <tr>\n",
       "      <td>count</td>\n",
       "      <td>7000.000000</td>\n",
       "      <td>7000.000000</td>\n",
       "      <td>7000.000000</td>\n",
       "      <td>7000.000000</td>\n",
       "      <td>7000.000000</td>\n",
       "      <td>7000.000000</td>\n",
       "      <td>7000.000000</td>\n",
       "      <td>7000.000000</td>\n",
       "      <td>7000.000000</td>\n",
       "      <td>7000.000000</td>\n",
       "      <td>...</td>\n",
       "      <td>7000.000000</td>\n",
       "      <td>7000.000000</td>\n",
       "      <td>7000.000000</td>\n",
       "      <td>7000.000000</td>\n",
       "      <td>7000.000000</td>\n",
       "      <td>7000.000000</td>\n",
       "      <td>7000.000000</td>\n",
       "      <td>7000.000000</td>\n",
       "      <td>7000.000000</td>\n",
       "      <td>7000.000000</td>\n",
       "    </tr>\n",
       "    <tr>\n",
       "      <td>mean</td>\n",
       "      <td>0.412286</td>\n",
       "      <td>39.599286</td>\n",
       "      <td>3.187857</td>\n",
       "      <td>0.354286</td>\n",
       "      <td>5.316571</td>\n",
       "      <td>13.233143</td>\n",
       "      <td>2.367143</td>\n",
       "      <td>47.064286</td>\n",
       "      <td>0.817857</td>\n",
       "      <td>2.798000</td>\n",
       "      <td>...</td>\n",
       "      <td>0.189376</td>\n",
       "      <td>0.080714</td>\n",
       "      <td>0.217571</td>\n",
       "      <td>0.295714</td>\n",
       "      <td>0.248000</td>\n",
       "      <td>0.158000</td>\n",
       "      <td>0.250714</td>\n",
       "      <td>0.248000</td>\n",
       "      <td>0.250857</td>\n",
       "      <td>0.250429</td>\n",
       "    </tr>\n",
       "    <tr>\n",
       "      <td>std</td>\n",
       "      <td>0.492281</td>\n",
       "      <td>13.611184</td>\n",
       "      <td>1.065102</td>\n",
       "      <td>0.478330</td>\n",
       "      <td>2.919565</td>\n",
       "      <td>10.310451</td>\n",
       "      <td>1.149395</td>\n",
       "      <td>15.761406</td>\n",
       "      <td>0.648205</td>\n",
       "      <td>1.163721</td>\n",
       "      <td>...</td>\n",
       "      <td>0.185753</td>\n",
       "      <td>0.272415</td>\n",
       "      <td>0.412624</td>\n",
       "      <td>0.456396</td>\n",
       "      <td>0.431883</td>\n",
       "      <td>0.364767</td>\n",
       "      <td>0.433455</td>\n",
       "      <td>0.431883</td>\n",
       "      <td>0.433537</td>\n",
       "      <td>0.433291</td>\n",
       "    </tr>\n",
       "    <tr>\n",
       "      <td>min</td>\n",
       "      <td>0.000000</td>\n",
       "      <td>19.000000</td>\n",
       "      <td>1.000000</td>\n",
       "      <td>0.000000</td>\n",
       "      <td>1.000000</td>\n",
       "      <td>0.000000</td>\n",
       "      <td>0.000000</td>\n",
       "      <td>20.000000</td>\n",
       "      <td>0.000000</td>\n",
       "      <td>1.000000</td>\n",
       "      <td>...</td>\n",
       "      <td>0.000000</td>\n",
       "      <td>0.000000</td>\n",
       "      <td>0.000000</td>\n",
       "      <td>0.000000</td>\n",
       "      <td>0.000000</td>\n",
       "      <td>0.000000</td>\n",
       "      <td>0.000000</td>\n",
       "      <td>0.000000</td>\n",
       "      <td>0.000000</td>\n",
       "      <td>0.000000</td>\n",
       "    </tr>\n",
       "    <tr>\n",
       "      <td>25%</td>\n",
       "      <td>0.000000</td>\n",
       "      <td>27.000000</td>\n",
       "      <td>3.000000</td>\n",
       "      <td>0.000000</td>\n",
       "      <td>2.000000</td>\n",
       "      <td>5.000000</td>\n",
       "      <td>1.000000</td>\n",
       "      <td>33.000000</td>\n",
       "      <td>0.000000</td>\n",
       "      <td>2.000000</td>\n",
       "      <td>...</td>\n",
       "      <td>0.070400</td>\n",
       "      <td>0.000000</td>\n",
       "      <td>0.000000</td>\n",
       "      <td>0.000000</td>\n",
       "      <td>0.000000</td>\n",
       "      <td>0.000000</td>\n",
       "      <td>0.000000</td>\n",
       "      <td>0.000000</td>\n",
       "      <td>0.000000</td>\n",
       "      <td>0.000000</td>\n",
       "    </tr>\n",
       "    <tr>\n",
       "      <td>50%</td>\n",
       "      <td>0.000000</td>\n",
       "      <td>37.000000</td>\n",
       "      <td>3.000000</td>\n",
       "      <td>0.000000</td>\n",
       "      <td>5.000000</td>\n",
       "      <td>10.000000</td>\n",
       "      <td>2.000000</td>\n",
       "      <td>47.000000</td>\n",
       "      <td>1.000000</td>\n",
       "      <td>3.000000</td>\n",
       "      <td>...</td>\n",
       "      <td>0.142650</td>\n",
       "      <td>0.000000</td>\n",
       "      <td>0.000000</td>\n",
       "      <td>0.000000</td>\n",
       "      <td>0.000000</td>\n",
       "      <td>0.000000</td>\n",
       "      <td>0.000000</td>\n",
       "      <td>0.000000</td>\n",
       "      <td>0.000000</td>\n",
       "      <td>0.000000</td>\n",
       "    </tr>\n",
       "    <tr>\n",
       "      <td>75%</td>\n",
       "      <td>1.000000</td>\n",
       "      <td>52.000000</td>\n",
       "      <td>4.000000</td>\n",
       "      <td>1.000000</td>\n",
       "      <td>8.000000</td>\n",
       "      <td>20.000000</td>\n",
       "      <td>3.000000</td>\n",
       "      <td>61.000000</td>\n",
       "      <td>1.000000</td>\n",
       "      <td>3.000000</td>\n",
       "      <td>...</td>\n",
       "      <td>0.235000</td>\n",
       "      <td>0.000000</td>\n",
       "      <td>0.000000</td>\n",
       "      <td>1.000000</td>\n",
       "      <td>0.000000</td>\n",
       "      <td>0.000000</td>\n",
       "      <td>1.000000</td>\n",
       "      <td>0.000000</td>\n",
       "      <td>1.000000</td>\n",
       "      <td>1.000000</td>\n",
       "    </tr>\n",
       "    <tr>\n",
       "      <td>max</td>\n",
       "      <td>1.000000</td>\n",
       "      <td>65.000000</td>\n",
       "      <td>5.000000</td>\n",
       "      <td>1.000000</td>\n",
       "      <td>11.000000</td>\n",
       "      <td>43.000000</td>\n",
       "      <td>4.000000</td>\n",
       "      <td>74.000000</td>\n",
       "      <td>2.000000</td>\n",
       "      <td>5.000000</td>\n",
       "      <td>...</td>\n",
       "      <td>0.995900</td>\n",
       "      <td>1.000000</td>\n",
       "      <td>1.000000</td>\n",
       "      <td>1.000000</td>\n",
       "      <td>1.000000</td>\n",
       "      <td>1.000000</td>\n",
       "      <td>1.000000</td>\n",
       "      <td>1.000000</td>\n",
       "      <td>1.000000</td>\n",
       "      <td>1.000000</td>\n",
       "    </tr>\n",
       "  </tbody>\n",
       "</table>\n",
       "<p>8 rows × 30 columns</p>\n",
       "</div>"
      ],
      "text/plain": [
       "            Gender          Age  Education_Level  Relationship_Status  \\\n",
       "count  7000.000000  7000.000000      7000.000000          7000.000000   \n",
       "mean      0.412286    39.599286         3.187857             0.354286   \n",
       "std       0.492281    13.611184         1.065102             0.478330   \n",
       "min       0.000000    19.000000         1.000000             0.000000   \n",
       "25%       0.000000    27.000000         3.000000             0.000000   \n",
       "50%       0.000000    37.000000         3.000000             0.000000   \n",
       "75%       1.000000    52.000000         4.000000             1.000000   \n",
       "max       1.000000    65.000000         5.000000             1.000000   \n",
       "\n",
       "              Unit  Time_of_service  Time_since_promotion  growth_rate  \\\n",
       "count  7000.000000      7000.000000           7000.000000  7000.000000   \n",
       "mean      5.316571        13.233143              2.367143    47.064286   \n",
       "std       2.919565        10.310451              1.149395    15.761406   \n",
       "min       1.000000         0.000000              0.000000    20.000000   \n",
       "25%       2.000000         5.000000              1.000000    33.000000   \n",
       "50%       5.000000        10.000000              2.000000    47.000000   \n",
       "75%       8.000000        20.000000              3.000000    61.000000   \n",
       "max      11.000000        43.000000              4.000000    74.000000   \n",
       "\n",
       "       Travel_Rate   Post_Level  ...  Attrition_rate      Clinton  \\\n",
       "count  7000.000000  7000.000000  ...     7000.000000  7000.000000   \n",
       "mean      0.817857     2.798000  ...        0.189376     0.080714   \n",
       "std       0.648205     1.163721  ...        0.185753     0.272415   \n",
       "min       0.000000     1.000000  ...        0.000000     0.000000   \n",
       "25%       0.000000     2.000000  ...        0.070400     0.000000   \n",
       "50%       1.000000     3.000000  ...        0.142650     0.000000   \n",
       "75%       1.000000     3.000000  ...        0.235000     0.000000   \n",
       "max       2.000000     5.000000  ...        0.995900     1.000000   \n",
       "\n",
       "          Franklin      Lebanon  Springfield   Washington   Analytical  \\\n",
       "count  7000.000000  7000.000000  7000.000000  7000.000000  7000.000000   \n",
       "mean      0.217571     0.295714     0.248000     0.158000     0.250714   \n",
       "std       0.412624     0.456396     0.431883     0.364767     0.433455   \n",
       "min       0.000000     0.000000     0.000000     0.000000     0.000000   \n",
       "25%       0.000000     0.000000     0.000000     0.000000     0.000000   \n",
       "50%       0.000000     0.000000     0.000000     0.000000     0.000000   \n",
       "75%       0.000000     1.000000     0.000000     0.000000     1.000000   \n",
       "max       1.000000     1.000000     1.000000     1.000000     1.000000   \n",
       "\n",
       "        Behavioral   Conceptual    Directive  \n",
       "count  7000.000000  7000.000000  7000.000000  \n",
       "mean      0.248000     0.250857     0.250429  \n",
       "std       0.431883     0.433537     0.433291  \n",
       "min       0.000000     0.000000     0.000000  \n",
       "25%       0.000000     0.000000     0.000000  \n",
       "50%       0.000000     0.000000     0.000000  \n",
       "75%       0.000000     1.000000     1.000000  \n",
       "max       1.000000     1.000000     1.000000  \n",
       "\n",
       "[8 rows x 30 columns]"
      ]
     },
     "execution_count": 270,
     "metadata": {},
     "output_type": "execute_result"
    }
   ],
   "source": [
    "train_data.describe()"
   ]
  },
  {
   "cell_type": "markdown",
   "metadata": {},
   "source": [
    "#### As you can see data is not on same scale so we will first scale the data using StandardScaler.\n",
    "#### There is no need to scale target column so we will first drop it from train_data "
   ]
  },
  {
   "cell_type": "code",
   "execution_count": 271,
   "metadata": {},
   "outputs": [],
   "source": [
    "scaler=StandardScaler()\n",
    "train_data_labels=train_data['Attrition_rate']\n",
    "train_data=train_data.drop(['Attrition_rate'],axis=1)"
   ]
  },
  {
   "cell_type": "code",
   "execution_count": 272,
   "metadata": {},
   "outputs": [],
   "source": [
    "train_df= scaler.fit_transform(train_data)\n",
    "test_df = scaler.transform(test_data)"
   ]
  },
  {
   "cell_type": "code",
   "execution_count": 273,
   "metadata": {},
   "outputs": [],
   "source": [
    "train_df = pd.DataFrame(train_df,columns=train_data.columns,index=train_data.index)\n",
    "test_df = pd.DataFrame(test_df,columns=test_data.columns,index=test_data.index)"
   ]
  },
  {
   "cell_type": "code",
   "execution_count": 275,
   "metadata": {},
   "outputs": [
    {
     "data": {
      "text/html": [
       "<div>\n",
       "<style scoped>\n",
       "    .dataframe tbody tr th:only-of-type {\n",
       "        vertical-align: middle;\n",
       "    }\n",
       "\n",
       "    .dataframe tbody tr th {\n",
       "        vertical-align: top;\n",
       "    }\n",
       "\n",
       "    .dataframe thead th {\n",
       "        text-align: right;\n",
       "    }\n",
       "</style>\n",
       "<table border=\"1\" class=\"dataframe\">\n",
       "  <thead>\n",
       "    <tr style=\"text-align: right;\">\n",
       "      <th></th>\n",
       "      <th>Gender</th>\n",
       "      <th>Age</th>\n",
       "      <th>Education_Level</th>\n",
       "      <th>Relationship_Status</th>\n",
       "      <th>Unit</th>\n",
       "      <th>Time_of_service</th>\n",
       "      <th>Time_since_promotion</th>\n",
       "      <th>growth_rate</th>\n",
       "      <th>Travel_Rate</th>\n",
       "      <th>Post_Level</th>\n",
       "      <th>...</th>\n",
       "      <th>VAR7</th>\n",
       "      <th>Clinton</th>\n",
       "      <th>Franklin</th>\n",
       "      <th>Lebanon</th>\n",
       "      <th>Springfield</th>\n",
       "      <th>Washington</th>\n",
       "      <th>Analytical</th>\n",
       "      <th>Behavioral</th>\n",
       "      <th>Conceptual</th>\n",
       "      <th>Directive</th>\n",
       "    </tr>\n",
       "  </thead>\n",
       "  <tbody>\n",
       "    <tr>\n",
       "      <td>count</td>\n",
       "      <td>7.000000e+03</td>\n",
       "      <td>7.000000e+03</td>\n",
       "      <td>7.000000e+03</td>\n",
       "      <td>7.000000e+03</td>\n",
       "      <td>7.000000e+03</td>\n",
       "      <td>7.000000e+03</td>\n",
       "      <td>7.000000e+03</td>\n",
       "      <td>7.000000e+03</td>\n",
       "      <td>7.000000e+03</td>\n",
       "      <td>7.000000e+03</td>\n",
       "      <td>...</td>\n",
       "      <td>7.000000e+03</td>\n",
       "      <td>7.000000e+03</td>\n",
       "      <td>7.000000e+03</td>\n",
       "      <td>7.000000e+03</td>\n",
       "      <td>7.000000e+03</td>\n",
       "      <td>7.000000e+03</td>\n",
       "      <td>7.000000e+03</td>\n",
       "      <td>7.000000e+03</td>\n",
       "      <td>7.000000e+03</td>\n",
       "      <td>7.000000e+03</td>\n",
       "    </tr>\n",
       "    <tr>\n",
       "      <td>mean</td>\n",
       "      <td>-1.968901e-16</td>\n",
       "      <td>6.474186e-17</td>\n",
       "      <td>3.454776e-16</td>\n",
       "      <td>-5.938107e-17</td>\n",
       "      <td>-1.313870e-16</td>\n",
       "      <td>1.770013e-17</td>\n",
       "      <td>-6.548333e-16</td>\n",
       "      <td>4.891008e-16</td>\n",
       "      <td>-5.941279e-17</td>\n",
       "      <td>-1.387144e-16</td>\n",
       "      <td>...</td>\n",
       "      <td>2.821077e-16</td>\n",
       "      <td>6.789648e-16</td>\n",
       "      <td>-1.765255e-16</td>\n",
       "      <td>-2.918301e-18</td>\n",
       "      <td>-2.810450e-17</td>\n",
       "      <td>5.909559e-16</td>\n",
       "      <td>-6.990281e-16</td>\n",
       "      <td>-8.353001e-16</td>\n",
       "      <td>2.066157e-15</td>\n",
       "      <td>-4.099261e-16</td>\n",
       "    </tr>\n",
       "    <tr>\n",
       "      <td>std</td>\n",
       "      <td>1.000071e+00</td>\n",
       "      <td>1.000071e+00</td>\n",
       "      <td>1.000071e+00</td>\n",
       "      <td>1.000071e+00</td>\n",
       "      <td>1.000071e+00</td>\n",
       "      <td>1.000071e+00</td>\n",
       "      <td>1.000071e+00</td>\n",
       "      <td>1.000071e+00</td>\n",
       "      <td>1.000071e+00</td>\n",
       "      <td>1.000071e+00</td>\n",
       "      <td>...</td>\n",
       "      <td>1.000071e+00</td>\n",
       "      <td>1.000071e+00</td>\n",
       "      <td>1.000071e+00</td>\n",
       "      <td>1.000071e+00</td>\n",
       "      <td>1.000071e+00</td>\n",
       "      <td>1.000071e+00</td>\n",
       "      <td>1.000071e+00</td>\n",
       "      <td>1.000071e+00</td>\n",
       "      <td>1.000071e+00</td>\n",
       "      <td>1.000071e+00</td>\n",
       "    </tr>\n",
       "    <tr>\n",
       "      <td>min</td>\n",
       "      <td>-8.375602e-01</td>\n",
       "      <td>-1.513517e+00</td>\n",
       "      <td>-2.054275e+00</td>\n",
       "      <td>-7.407244e-01</td>\n",
       "      <td>-1.478604e+00</td>\n",
       "      <td>-1.283561e+00</td>\n",
       "      <td>-2.059615e+00</td>\n",
       "      <td>-1.717246e+00</td>\n",
       "      <td>-1.261816e+00</td>\n",
       "      <td>-1.545154e+00</td>\n",
       "      <td>...</td>\n",
       "      <td>-2.439332e+00</td>\n",
       "      <td>-2.963125e-01</td>\n",
       "      <td>-5.273253e-01</td>\n",
       "      <td>-6.479802e-01</td>\n",
       "      <td>-5.742710e-01</td>\n",
       "      <td>-4.331841e-01</td>\n",
       "      <td>-5.784500e-01</td>\n",
       "      <td>-5.742710e-01</td>\n",
       "      <td>-5.786699e-01</td>\n",
       "      <td>-5.780101e-01</td>\n",
       "    </tr>\n",
       "    <tr>\n",
       "      <td>25%</td>\n",
       "      <td>-8.375602e-01</td>\n",
       "      <td>-9.257230e-01</td>\n",
       "      <td>-1.763873e-01</td>\n",
       "      <td>-7.407244e-01</td>\n",
       "      <td>-1.136063e+00</td>\n",
       "      <td>-7.985811e-01</td>\n",
       "      <td>-1.189530e+00</td>\n",
       "      <td>-8.923880e-01</td>\n",
       "      <td>-1.261816e+00</td>\n",
       "      <td>-6.857803e-01</td>\n",
       "      <td>...</td>\n",
       "      <td>-2.777617e-01</td>\n",
       "      <td>-2.963125e-01</td>\n",
       "      <td>-5.273253e-01</td>\n",
       "      <td>-6.479802e-01</td>\n",
       "      <td>-5.742710e-01</td>\n",
       "      <td>-4.331841e-01</td>\n",
       "      <td>-5.784500e-01</td>\n",
       "      <td>-5.742710e-01</td>\n",
       "      <td>-5.786699e-01</td>\n",
       "      <td>-5.780101e-01</td>\n",
       "    </tr>\n",
       "    <tr>\n",
       "      <td>50%</td>\n",
       "      <td>-8.375602e-01</td>\n",
       "      <td>-1.909806e-01</td>\n",
       "      <td>-1.763873e-01</td>\n",
       "      <td>-7.407244e-01</td>\n",
       "      <td>-1.084388e-01</td>\n",
       "      <td>-3.136016e-01</td>\n",
       "      <td>-3.194455e-01</td>\n",
       "      <td>-4.078970e-03</td>\n",
       "      <td>2.810158e-01</td>\n",
       "      <td>1.735935e-01</td>\n",
       "      <td>...</td>\n",
       "      <td>-2.777617e-01</td>\n",
       "      <td>-2.963125e-01</td>\n",
       "      <td>-5.273253e-01</td>\n",
       "      <td>-6.479802e-01</td>\n",
       "      <td>-5.742710e-01</td>\n",
       "      <td>-4.331841e-01</td>\n",
       "      <td>-5.784500e-01</td>\n",
       "      <td>-5.742710e-01</td>\n",
       "      <td>-5.786699e-01</td>\n",
       "      <td>-5.780101e-01</td>\n",
       "    </tr>\n",
       "    <tr>\n",
       "      <td>75%</td>\n",
       "      <td>1.193944e+00</td>\n",
       "      <td>9.111331e-01</td>\n",
       "      <td>7.625566e-01</td>\n",
       "      <td>1.350030e+00</td>\n",
       "      <td>9.191851e-01</td>\n",
       "      <td>6.563574e-01</td>\n",
       "      <td>5.506395e-01</td>\n",
       "      <td>8.842301e-01</td>\n",
       "      <td>2.810158e-01</td>\n",
       "      <td>1.735935e-01</td>\n",
       "      <td>...</td>\n",
       "      <td>8.030233e-01</td>\n",
       "      <td>-2.963125e-01</td>\n",
       "      <td>-5.273253e-01</td>\n",
       "      <td>1.543257e+00</td>\n",
       "      <td>-5.742710e-01</td>\n",
       "      <td>-4.331841e-01</td>\n",
       "      <td>1.728758e+00</td>\n",
       "      <td>-5.742710e-01</td>\n",
       "      <td>1.728101e+00</td>\n",
       "      <td>1.730074e+00</td>\n",
       "    </tr>\n",
       "    <tr>\n",
       "      <td>max</td>\n",
       "      <td>1.193944e+00</td>\n",
       "      <td>1.866298e+00</td>\n",
       "      <td>1.701500e+00</td>\n",
       "      <td>1.350030e+00</td>\n",
       "      <td>1.946809e+00</td>\n",
       "      <td>2.887263e+00</td>\n",
       "      <td>1.420724e+00</td>\n",
       "      <td>1.709089e+00</td>\n",
       "      <td>1.823848e+00</td>\n",
       "      <td>1.892341e+00</td>\n",
       "      <td>...</td>\n",
       "      <td>1.883808e+00</td>\n",
       "      <td>3.374816e+00</td>\n",
       "      <td>1.896363e+00</td>\n",
       "      <td>1.543257e+00</td>\n",
       "      <td>1.741338e+00</td>\n",
       "      <td>2.308487e+00</td>\n",
       "      <td>1.728758e+00</td>\n",
       "      <td>1.741338e+00</td>\n",
       "      <td>1.728101e+00</td>\n",
       "      <td>1.730074e+00</td>\n",
       "    </tr>\n",
       "  </tbody>\n",
       "</table>\n",
       "<p>8 rows × 29 columns</p>\n",
       "</div>"
      ],
      "text/plain": [
       "             Gender           Age  Education_Level  Relationship_Status  \\\n",
       "count  7.000000e+03  7.000000e+03     7.000000e+03         7.000000e+03   \n",
       "mean  -1.968901e-16  6.474186e-17     3.454776e-16        -5.938107e-17   \n",
       "std    1.000071e+00  1.000071e+00     1.000071e+00         1.000071e+00   \n",
       "min   -8.375602e-01 -1.513517e+00    -2.054275e+00        -7.407244e-01   \n",
       "25%   -8.375602e-01 -9.257230e-01    -1.763873e-01        -7.407244e-01   \n",
       "50%   -8.375602e-01 -1.909806e-01    -1.763873e-01        -7.407244e-01   \n",
       "75%    1.193944e+00  9.111331e-01     7.625566e-01         1.350030e+00   \n",
       "max    1.193944e+00  1.866298e+00     1.701500e+00         1.350030e+00   \n",
       "\n",
       "               Unit  Time_of_service  Time_since_promotion   growth_rate  \\\n",
       "count  7.000000e+03     7.000000e+03          7.000000e+03  7.000000e+03   \n",
       "mean  -1.313870e-16     1.770013e-17         -6.548333e-16  4.891008e-16   \n",
       "std    1.000071e+00     1.000071e+00          1.000071e+00  1.000071e+00   \n",
       "min   -1.478604e+00    -1.283561e+00         -2.059615e+00 -1.717246e+00   \n",
       "25%   -1.136063e+00    -7.985811e-01         -1.189530e+00 -8.923880e-01   \n",
       "50%   -1.084388e-01    -3.136016e-01         -3.194455e-01 -4.078970e-03   \n",
       "75%    9.191851e-01     6.563574e-01          5.506395e-01  8.842301e-01   \n",
       "max    1.946809e+00     2.887263e+00          1.420724e+00  1.709089e+00   \n",
       "\n",
       "        Travel_Rate    Post_Level  ...          VAR7       Clinton  \\\n",
       "count  7.000000e+03  7.000000e+03  ...  7.000000e+03  7.000000e+03   \n",
       "mean  -5.941279e-17 -1.387144e-16  ...  2.821077e-16  6.789648e-16   \n",
       "std    1.000071e+00  1.000071e+00  ...  1.000071e+00  1.000071e+00   \n",
       "min   -1.261816e+00 -1.545154e+00  ... -2.439332e+00 -2.963125e-01   \n",
       "25%   -1.261816e+00 -6.857803e-01  ... -2.777617e-01 -2.963125e-01   \n",
       "50%    2.810158e-01  1.735935e-01  ... -2.777617e-01 -2.963125e-01   \n",
       "75%    2.810158e-01  1.735935e-01  ...  8.030233e-01 -2.963125e-01   \n",
       "max    1.823848e+00  1.892341e+00  ...  1.883808e+00  3.374816e+00   \n",
       "\n",
       "           Franklin       Lebanon   Springfield    Washington    Analytical  \\\n",
       "count  7.000000e+03  7.000000e+03  7.000000e+03  7.000000e+03  7.000000e+03   \n",
       "mean  -1.765255e-16 -2.918301e-18 -2.810450e-17  5.909559e-16 -6.990281e-16   \n",
       "std    1.000071e+00  1.000071e+00  1.000071e+00  1.000071e+00  1.000071e+00   \n",
       "min   -5.273253e-01 -6.479802e-01 -5.742710e-01 -4.331841e-01 -5.784500e-01   \n",
       "25%   -5.273253e-01 -6.479802e-01 -5.742710e-01 -4.331841e-01 -5.784500e-01   \n",
       "50%   -5.273253e-01 -6.479802e-01 -5.742710e-01 -4.331841e-01 -5.784500e-01   \n",
       "75%   -5.273253e-01  1.543257e+00 -5.742710e-01 -4.331841e-01  1.728758e+00   \n",
       "max    1.896363e+00  1.543257e+00  1.741338e+00  2.308487e+00  1.728758e+00   \n",
       "\n",
       "         Behavioral    Conceptual     Directive  \n",
       "count  7.000000e+03  7.000000e+03  7.000000e+03  \n",
       "mean  -8.353001e-16  2.066157e-15 -4.099261e-16  \n",
       "std    1.000071e+00  1.000071e+00  1.000071e+00  \n",
       "min   -5.742710e-01 -5.786699e-01 -5.780101e-01  \n",
       "25%   -5.742710e-01 -5.786699e-01 -5.780101e-01  \n",
       "50%   -5.742710e-01 -5.786699e-01 -5.780101e-01  \n",
       "75%   -5.742710e-01  1.728101e+00  1.730074e+00  \n",
       "max    1.741338e+00  1.728101e+00  1.730074e+00  \n",
       "\n",
       "[8 rows x 29 columns]"
      ]
     },
     "execution_count": 275,
     "metadata": {},
     "output_type": "execute_result"
    }
   ],
   "source": [
    "train_df.describe()"
   ]
  },
  {
   "cell_type": "markdown",
   "metadata": {},
   "source": [
    "## Machine Learning algorithms\n",
    "\n",
    "---"
   ]
  },
  {
   "cell_type": "code",
   "execution_count": 325,
   "metadata": {},
   "outputs": [],
   "source": [
    "def makeSubmission(estimator,filename,username):\n",
    "    predictions=estimator.predict(test_df)\n",
    "    Employee_ID=pd.read_csv(os.path.join(dataset_dir,'Test.csv'))['Employee_ID']\n",
    "    submissions=pd.DataFrame({'Employee_ID':Employee_ID,'Attrition_rate':predictions})\n",
    "    savedAs = 'submission'+'_'+filename+'_'+username\n",
    "    submissions.to_csv(savedAs+'.csv',index=False)\n",
    "    print(\"File saved as {}\".format(savedAs))"
   ]
  },
  {
   "cell_type": "markdown",
   "metadata": {},
   "source": [
    "### Linear regression"
   ]
  },
  {
   "cell_type": "code",
   "execution_count": 326,
   "metadata": {},
   "outputs": [],
   "source": [
    "#train_X,test_X,train_y,test_y=train_test_split(train_df,train_data_labels,test_size=0.1)\n",
    "from sklearn.model_selection import cross_validate, cross_val_score"
   ]
  },
  {
   "cell_type": "code",
   "execution_count": 327,
   "metadata": {},
   "outputs": [],
   "source": [
    "lr=LinearRegression()"
   ]
  },
  {
   "cell_type": "code",
   "execution_count": 328,
   "metadata": {},
   "outputs": [
    {
     "data": {
      "text/plain": [
       "array([ 0.00715824, -0.01186998, -0.00220851, -0.00873328,  0.00158395])"
      ]
     },
     "execution_count": 328,
     "metadata": {},
     "output_type": "execute_result"
    }
   ],
   "source": [
    "cross_val_score(estimator=lr,X=train_df,y=train_data_labels,cv=5)"
   ]
  },
  {
   "cell_type": "code",
   "execution_count": 329,
   "metadata": {},
   "outputs": [
    {
     "data": {
      "text/plain": [
       "LinearRegression(copy_X=True, fit_intercept=True, n_jobs=None, normalize=False)"
      ]
     },
     "execution_count": 329,
     "metadata": {},
     "output_type": "execute_result"
    }
   ],
   "source": [
    "lr.fit(train_df,train_data_labels)"
   ]
  },
  {
   "cell_type": "markdown",
   "metadata": {},
   "source": [
    "##### Linear Regression submission"
   ]
  },
  {
   "cell_type": "code",
   "execution_count": 330,
   "metadata": {},
   "outputs": [
    {
     "name": "stdout",
     "output_type": "stream",
     "text": [
      "File saved as submission_linear__samar\n"
     ]
    }
   ],
   "source": [
    "makeSubmission(estimator=lr,filename='linear',username='_samar')"
   ]
  },
  {
   "cell_type": "markdown",
   "metadata": {},
   "source": [
    "### XGBOOST"
   ]
  },
  {
   "cell_type": "code",
   "execution_count": 331,
   "metadata": {},
   "outputs": [],
   "source": [
    "from sklearn.ensemble import GradientBoostingRegressor"
   ]
  },
  {
   "cell_type": "code",
   "execution_count": 332,
   "metadata": {},
   "outputs": [],
   "source": [
    "xgb = GradientBoostingRegressor()"
   ]
  },
  {
   "cell_type": "code",
   "execution_count": 333,
   "metadata": {},
   "outputs": [
    {
     "data": {
      "text/plain": [
       "GradientBoostingRegressor(alpha=0.9, criterion='friedman_mse', init=None,\n",
       "                          learning_rate=0.1, loss='ls', max_depth=3,\n",
       "                          max_features=None, max_leaf_nodes=None,\n",
       "                          min_impurity_decrease=0.0, min_impurity_split=None,\n",
       "                          min_samples_leaf=1, min_samples_split=2,\n",
       "                          min_weight_fraction_leaf=0.0, n_estimators=100,\n",
       "                          n_iter_no_change=None, presort='auto',\n",
       "                          random_state=None, subsample=1.0, tol=0.0001,\n",
       "                          validation_fraction=0.1, verbose=0, warm_start=False)"
      ]
     },
     "execution_count": 333,
     "metadata": {},
     "output_type": "execute_result"
    }
   ],
   "source": [
    "xgb.fit(train_df,train_data_labels)"
   ]
  },
  {
   "cell_type": "markdown",
   "metadata": {},
   "source": [
    "#### 2nd submission"
   ]
  },
  {
   "cell_type": "code",
   "execution_count": 334,
   "metadata": {},
   "outputs": [
    {
     "name": "stdout",
     "output_type": "stream",
     "text": [
      "File saved as submission_xgb__samar\n"
     ]
    }
   ],
   "source": [
    "makeSubmission(estimator=xgb,filename='xgb',username='_samar')"
   ]
  },
  {
   "cell_type": "markdown",
   "metadata": {},
   "source": [
    "### Lasso Regression"
   ]
  },
  {
   "cell_type": "code",
   "execution_count": 335,
   "metadata": {},
   "outputs": [],
   "source": [
    "from sklearn.linear_model import Lasso"
   ]
  },
  {
   "cell_type": "code",
   "execution_count": 336,
   "metadata": {},
   "outputs": [],
   "source": [
    "lasso_reg = Lasso()"
   ]
  },
  {
   "cell_type": "code",
   "execution_count": 337,
   "metadata": {},
   "outputs": [
    {
     "data": {
      "text/plain": [
       "Lasso(alpha=1.0, copy_X=True, fit_intercept=True, max_iter=1000,\n",
       "      normalize=False, positive=False, precompute=False, random_state=None,\n",
       "      selection='cyclic', tol=0.0001, warm_start=False)"
      ]
     },
     "execution_count": 337,
     "metadata": {},
     "output_type": "execute_result"
    }
   ],
   "source": [
    "lasso_reg.fit(train_df,train_data_labels)"
   ]
  },
  {
   "cell_type": "code",
   "execution_count": 338,
   "metadata": {},
   "outputs": [
    {
     "data": {
      "text/html": [
       "<div>\n",
       "<style scoped>\n",
       "    .dataframe tbody tr th:only-of-type {\n",
       "        vertical-align: middle;\n",
       "    }\n",
       "\n",
       "    .dataframe tbody tr th {\n",
       "        vertical-align: top;\n",
       "    }\n",
       "\n",
       "    .dataframe thead th {\n",
       "        text-align: right;\n",
       "    }\n",
       "</style>\n",
       "<table border=\"1\" class=\"dataframe\">\n",
       "  <thead>\n",
       "    <tr style=\"text-align: right;\">\n",
       "      <th></th>\n",
       "      <th>Gender</th>\n",
       "      <th>Age</th>\n",
       "      <th>Education_Level</th>\n",
       "      <th>Relationship_Status</th>\n",
       "      <th>Unit</th>\n",
       "      <th>Time_of_service</th>\n",
       "      <th>Time_since_promotion</th>\n",
       "      <th>growth_rate</th>\n",
       "      <th>Travel_Rate</th>\n",
       "      <th>Post_Level</th>\n",
       "      <th>...</th>\n",
       "      <th>VAR7</th>\n",
       "      <th>Clinton</th>\n",
       "      <th>Franklin</th>\n",
       "      <th>Lebanon</th>\n",
       "      <th>Springfield</th>\n",
       "      <th>Washington</th>\n",
       "      <th>Analytical</th>\n",
       "      <th>Behavioral</th>\n",
       "      <th>Conceptual</th>\n",
       "      <th>Directive</th>\n",
       "    </tr>\n",
       "  </thead>\n",
       "  <tbody>\n",
       "    <tr>\n",
       "      <td>0</td>\n",
       "      <td>-0.837560</td>\n",
       "      <td>-0.558352</td>\n",
       "      <td>1.701500</td>\n",
       "      <td>1.350030</td>\n",
       "      <td>-1.478604</td>\n",
       "      <td>-0.604589</td>\n",
       "      <td>1.420724</td>\n",
       "      <td>-1.082740</td>\n",
       "      <td>0.281016</td>\n",
       "      <td>1.892341</td>\n",
       "      <td>...</td>\n",
       "      <td>0.803023</td>\n",
       "      <td>-0.296312</td>\n",
       "      <td>-0.527325</td>\n",
       "      <td>-0.647980</td>\n",
       "      <td>1.741338</td>\n",
       "      <td>-0.433184</td>\n",
       "      <td>-0.578450</td>\n",
       "      <td>-0.574271</td>\n",
       "      <td>1.728101</td>\n",
       "      <td>-0.578010</td>\n",
       "    </tr>\n",
       "    <tr>\n",
       "      <td>1</td>\n",
       "      <td>1.193944</td>\n",
       "      <td>1.866298</td>\n",
       "      <td>-1.115331</td>\n",
       "      <td>1.350030</td>\n",
       "      <td>-1.136063</td>\n",
       "      <td>2.693271</td>\n",
       "      <td>-0.319445</td>\n",
       "      <td>1.582187</td>\n",
       "      <td>0.281016</td>\n",
       "      <td>-1.545154</td>\n",
       "      <td>...</td>\n",
       "      <td>-1.358547</td>\n",
       "      <td>-0.296312</td>\n",
       "      <td>-0.527325</td>\n",
       "      <td>1.543257</td>\n",
       "      <td>-0.574271</td>\n",
       "      <td>-0.433184</td>\n",
       "      <td>-0.578450</td>\n",
       "      <td>-0.574271</td>\n",
       "      <td>-0.578670</td>\n",
       "      <td>1.730074</td>\n",
       "    </tr>\n",
       "    <tr>\n",
       "      <td>2</td>\n",
       "      <td>1.193944</td>\n",
       "      <td>0.911133</td>\n",
       "      <td>-0.176387</td>\n",
       "      <td>-0.740724</td>\n",
       "      <td>0.234103</td>\n",
       "      <td>0.753353</td>\n",
       "      <td>0.550639</td>\n",
       "      <td>-1.399993</td>\n",
       "      <td>-1.261816</td>\n",
       "      <td>-1.545154</td>\n",
       "      <td>...</td>\n",
       "      <td>-0.277762</td>\n",
       "      <td>-0.296312</td>\n",
       "      <td>-0.527325</td>\n",
       "      <td>-0.647980</td>\n",
       "      <td>1.741338</td>\n",
       "      <td>-0.433184</td>\n",
       "      <td>-0.578450</td>\n",
       "      <td>-0.574271</td>\n",
       "      <td>-0.578670</td>\n",
       "      <td>1.730074</td>\n",
       "    </tr>\n",
       "    <tr>\n",
       "      <td>3</td>\n",
       "      <td>1.193944</td>\n",
       "      <td>0.764185</td>\n",
       "      <td>1.701500</td>\n",
       "      <td>1.350030</td>\n",
       "      <td>0.576644</td>\n",
       "      <td>-0.216606</td>\n",
       "      <td>1.420724</td>\n",
       "      <td>-1.209641</td>\n",
       "      <td>0.281016</td>\n",
       "      <td>-1.545154</td>\n",
       "      <td>...</td>\n",
       "      <td>-0.277762</td>\n",
       "      <td>-0.296312</td>\n",
       "      <td>-0.527325</td>\n",
       "      <td>-0.647980</td>\n",
       "      <td>-0.574271</td>\n",
       "      <td>2.308487</td>\n",
       "      <td>1.728758</td>\n",
       "      <td>-0.574271</td>\n",
       "      <td>-0.578670</td>\n",
       "      <td>-0.578010</td>\n",
       "    </tr>\n",
       "    <tr>\n",
       "      <td>4</td>\n",
       "      <td>-0.837560</td>\n",
       "      <td>0.323339</td>\n",
       "      <td>-0.176387</td>\n",
       "      <td>-0.740724</td>\n",
       "      <td>-1.478604</td>\n",
       "      <td>-0.119610</td>\n",
       "      <td>1.420724</td>\n",
       "      <td>-0.004079</td>\n",
       "      <td>0.281016</td>\n",
       "      <td>0.173594</td>\n",
       "      <td>...</td>\n",
       "      <td>0.803023</td>\n",
       "      <td>-0.296312</td>\n",
       "      <td>1.896363</td>\n",
       "      <td>-0.647980</td>\n",
       "      <td>-0.574271</td>\n",
       "      <td>-0.433184</td>\n",
       "      <td>-0.578450</td>\n",
       "      <td>-0.574271</td>\n",
       "      <td>1.728101</td>\n",
       "      <td>-0.578010</td>\n",
       "    </tr>\n",
       "  </tbody>\n",
       "</table>\n",
       "<p>5 rows × 29 columns</p>\n",
       "</div>"
      ],
      "text/plain": [
       "     Gender       Age  Education_Level  Relationship_Status      Unit  \\\n",
       "0 -0.837560 -0.558352         1.701500             1.350030 -1.478604   \n",
       "1  1.193944  1.866298        -1.115331             1.350030 -1.136063   \n",
       "2  1.193944  0.911133        -0.176387            -0.740724  0.234103   \n",
       "3  1.193944  0.764185         1.701500             1.350030  0.576644   \n",
       "4 -0.837560  0.323339        -0.176387            -0.740724 -1.478604   \n",
       "\n",
       "   Time_of_service  Time_since_promotion  growth_rate  Travel_Rate  \\\n",
       "0        -0.604589              1.420724    -1.082740     0.281016   \n",
       "1         2.693271             -0.319445     1.582187     0.281016   \n",
       "2         0.753353              0.550639    -1.399993    -1.261816   \n",
       "3        -0.216606              1.420724    -1.209641     0.281016   \n",
       "4        -0.119610              1.420724    -0.004079     0.281016   \n",
       "\n",
       "   Post_Level  ...      VAR7   Clinton  Franklin   Lebanon  Springfield  \\\n",
       "0    1.892341  ...  0.803023 -0.296312 -0.527325 -0.647980     1.741338   \n",
       "1   -1.545154  ... -1.358547 -0.296312 -0.527325  1.543257    -0.574271   \n",
       "2   -1.545154  ... -0.277762 -0.296312 -0.527325 -0.647980     1.741338   \n",
       "3   -1.545154  ... -0.277762 -0.296312 -0.527325 -0.647980    -0.574271   \n",
       "4    0.173594  ...  0.803023 -0.296312  1.896363 -0.647980    -0.574271   \n",
       "\n",
       "   Washington  Analytical  Behavioral  Conceptual  Directive  \n",
       "0   -0.433184   -0.578450   -0.574271    1.728101  -0.578010  \n",
       "1   -0.433184   -0.578450   -0.574271   -0.578670   1.730074  \n",
       "2   -0.433184   -0.578450   -0.574271   -0.578670   1.730074  \n",
       "3    2.308487    1.728758   -0.574271   -0.578670  -0.578010  \n",
       "4   -0.433184   -0.578450   -0.574271    1.728101  -0.578010  \n",
       "\n",
       "[5 rows x 29 columns]"
      ]
     },
     "execution_count": 338,
     "metadata": {},
     "output_type": "execute_result"
    }
   ],
   "source": [
    "test_df.head()"
   ]
  },
  {
   "cell_type": "code",
   "execution_count": 340,
   "metadata": {},
   "outputs": [
    {
     "name": "stdout",
     "output_type": "stream",
     "text": [
      "File saved as submission_lasso_samar\n"
     ]
    }
   ],
   "source": [
    "makeSubmission(estimator=lasso_reg,filename='lasso',username='samar')"
   ]
  },
  {
   "cell_type": "markdown",
   "metadata": {},
   "source": [
    "### Ridge Regression"
   ]
  },
  {
   "cell_type": "code",
   "execution_count": 341,
   "metadata": {},
   "outputs": [],
   "source": [
    "from sklearn.linear_model import Ridge"
   ]
  },
  {
   "cell_type": "code",
   "execution_count": 342,
   "metadata": {},
   "outputs": [],
   "source": [
    "ridge_reg = Ridge()"
   ]
  },
  {
   "cell_type": "code",
   "execution_count": 343,
   "metadata": {},
   "outputs": [
    {
     "data": {
      "text/plain": [
       "Ridge(alpha=1.0, copy_X=True, fit_intercept=True, max_iter=None,\n",
       "      normalize=False, random_state=None, solver='auto', tol=0.001)"
      ]
     },
     "execution_count": 343,
     "metadata": {},
     "output_type": "execute_result"
    }
   ],
   "source": [
    "ridge_reg.fit(train_df,train_data_labels)"
   ]
  },
  {
   "cell_type": "code",
   "execution_count": 344,
   "metadata": {},
   "outputs": [
    {
     "name": "stdout",
     "output_type": "stream",
     "text": [
      "File saved as submission_ridge_samar\n"
     ]
    }
   ],
   "source": [
    "makeSubmission(estimator=ridge_reg,filename='ridge',username='samar')"
   ]
  },
  {
   "cell_type": "markdown",
   "metadata": {},
   "source": [
    "### XGBOOST Original | Nitika"
   ]
  },
  {
   "cell_type": "code",
   "execution_count": null,
   "metadata": {},
   "outputs": [],
   "source": []
  },
  {
   "cell_type": "code",
   "execution_count": null,
   "metadata": {},
   "outputs": [],
   "source": []
  },
  {
   "cell_type": "code",
   "execution_count": null,
   "metadata": {},
   "outputs": [],
   "source": []
  },
  {
   "cell_type": "code",
   "execution_count": null,
   "metadata": {},
   "outputs": [],
   "source": [
    "makeSubmission(estimator=,filename=,username='nitika')"
   ]
  },
  {
   "cell_type": "markdown",
   "metadata": {},
   "source": [
    "#### As both of the models are giving about same score, let's try to build a model by selecting 10 best features using f_regression score."
   ]
  },
  {
   "cell_type": "code",
   "execution_count": 211,
   "metadata": {},
   "outputs": [],
   "source": [
    "from sklearn.feature_selection import SelectKBest\n",
    "from sklearn.feature_selection import f_regression"
   ]
  },
  {
   "cell_type": "code",
   "execution_count": 212,
   "metadata": {},
   "outputs": [],
   "source": [
    "bestfeatures = SelectKBest(score_func=f_regression, k=10)"
   ]
  },
  {
   "cell_type": "code",
   "execution_count": 213,
   "metadata": {},
   "outputs": [
    {
     "name": "stderr",
     "output_type": "stream",
     "text": [
      "/usr/local/lib64/python3.7/site-packages/sklearn/feature_selection/univariate_selection.py:299: RuntimeWarning: invalid value encountered in true_divide\n",
      "  corr /= X_norms\n",
      "/usr/local/lib64/python3.7/site-packages/scipy/stats/_distn_infrastructure.py:901: RuntimeWarning: invalid value encountered in greater\n",
      "  return (a < x) & (x < b)\n",
      "/usr/local/lib64/python3.7/site-packages/scipy/stats/_distn_infrastructure.py:901: RuntimeWarning: invalid value encountered in less\n",
      "  return (a < x) & (x < b)\n",
      "/usr/local/lib64/python3.7/site-packages/scipy/stats/_distn_infrastructure.py:1892: RuntimeWarning: invalid value encountered in less_equal\n",
      "  cond2 = cond0 & (x <= _a)\n"
     ]
    }
   ],
   "source": [
    "fit=bestfeatures.fit(train_df,train_data_labels)"
   ]
  },
  {
   "cell_type": "code",
   "execution_count": 214,
   "metadata": {},
   "outputs": [],
   "source": [
    "dfscores = pd.DataFrame(fit.scores_)\n",
    "dfcolumns = pd.DataFrame(train_X.columns)"
   ]
  },
  {
   "cell_type": "code",
   "execution_count": 215,
   "metadata": {},
   "outputs": [],
   "source": [
    "featureScores = pd.concat([dfcolumns,dfscores],axis=1)"
   ]
  },
  {
   "cell_type": "code",
   "execution_count": 216,
   "metadata": {},
   "outputs": [
    {
     "name": "stdout",
     "output_type": "stream",
     "text": [
      "                        Specs     Score\n",
      "0                      Gender  5.706395\n",
      "25                 Behavioral  5.305665\n",
      "10  Compensation_and_Benefits  4.438039\n",
      "13                       VAR2  3.831375\n",
      "11          Work_Life_balance  3.080226\n",
      "1                         Age  2.488925\n",
      "29                     Unit_1  2.316298\n",
      "4             Time_of_service  2.071546\n",
      "26                 Conceptual  1.921547\n",
      "8                  Post_Level  1.883242\n"
     ]
    }
   ],
   "source": [
    "featureScores.columns = ['Specs','Score']  #naming the dataframe columns\n",
    "print(featureScores.nlargest(10,'Score'))  #print 10 best features"
   ]
  },
  {
   "cell_type": "markdown",
   "metadata": {},
   "source": [
    "#### Use only these features to build the model."
   ]
  },
  {
   "cell_type": "code",
   "execution_count": 217,
   "metadata": {},
   "outputs": [],
   "source": [
    "imp_features=featureScores['Specs']"
   ]
  },
  {
   "cell_type": "code",
   "execution_count": 218,
   "metadata": {},
   "outputs": [],
   "source": [
    "train_df1=train_X[imp_features]\n",
    "test_df1=test_X[imp_features]"
   ]
  },
  {
   "cell_type": "code",
   "execution_count": 219,
   "metadata": {},
   "outputs": [],
   "source": [
    "xgbRegressor1=xgb.XGBRegressor()"
   ]
  },
  {
   "cell_type": "code",
   "execution_count": 220,
   "metadata": {},
   "outputs": [
    {
     "name": "stderr",
     "output_type": "stream",
     "text": [
      "/usr/local/lib/python3.7/site-packages/xgboost/core.py:587: FutureWarning: Series.base is deprecated and will be removed in a future version\n",
      "  if getattr(data, 'base', None) is not None and \\\n"
     ]
    },
    {
     "name": "stdout",
     "output_type": "stream",
     "text": [
      "[14:19:43] WARNING: /workspace/src/objective/regression_obj.cu:152: reg:linear is now deprecated in favor of reg:squarederror.\n"
     ]
    },
    {
     "data": {
      "text/plain": [
       "XGBRegressor(base_score=0.5, booster='gbtree', colsample_bylevel=1,\n",
       "             colsample_bynode=1, colsample_bytree=1, gamma=0,\n",
       "             importance_type='gain', learning_rate=0.1, max_delta_step=0,\n",
       "             max_depth=3, min_child_weight=1, missing=None, n_estimators=100,\n",
       "             n_jobs=1, nthread=None, objective='reg:linear', random_state=0,\n",
       "             reg_alpha=0, reg_lambda=1, scale_pos_weight=1, seed=None,\n",
       "             silent=None, subsample=1, verbosity=1)"
      ]
     },
     "execution_count": 220,
     "metadata": {},
     "output_type": "execute_result"
    }
   ],
   "source": [
    "xgbRegressor1.fit(train_df1,train_y)"
   ]
  },
  {
   "cell_type": "code",
   "execution_count": 221,
   "metadata": {},
   "outputs": [],
   "source": [
    "predicted_test_X=xgbRegressor1.predict(test_df1)"
   ]
  },
  {
   "cell_type": "code",
   "execution_count": 222,
   "metadata": {},
   "outputs": [
    {
     "data": {
      "text/plain": [
       "0.03482626495015106"
      ]
     },
     "execution_count": 222,
     "metadata": {},
     "output_type": "execute_result"
    }
   ],
   "source": [
    "mean_squared_error(test_y,predicted_test_X)"
   ]
  },
  {
   "cell_type": "markdown",
   "metadata": {},
   "source": [
    "#### 3rd submission"
   ]
  },
  {
   "cell_type": "code",
   "execution_count": 223,
   "metadata": {},
   "outputs": [],
   "source": [
    "test_df1=test_df[imp_features]"
   ]
  },
  {
   "cell_type": "code",
   "execution_count": 224,
   "metadata": {},
   "outputs": [],
   "source": [
    "predictions=xgbRegressor1.predict(test_df1)"
   ]
  },
  {
   "cell_type": "code",
   "execution_count": 225,
   "metadata": {},
   "outputs": [],
   "source": [
    "Employee_ID=pd.read_csv(os.path.join(dataset_dir,'Test.csv'))['Employee_ID']"
   ]
  },
  {
   "cell_type": "code",
   "execution_count": 226,
   "metadata": {},
   "outputs": [],
   "source": [
    "submissions=pd.DataFrame({'Employee_ID':Employee_ID,'Attrition_rate':predictions})"
   ]
  },
  {
   "cell_type": "code",
   "execution_count": 227,
   "metadata": {},
   "outputs": [],
   "source": [
    "submissions.to_csv('submission_3.csv',index=False) ##score 81.00 "
   ]
  },
  {
   "cell_type": "markdown",
   "metadata": {},
   "source": [
    "#### So this method of feature selection didn't work out, I have tried with best 10,15,20 best features."
   ]
  },
  {
   "cell_type": "markdown",
   "metadata": {},
   "source": [
    "##### Let's print feature importances."
   ]
  },
  {
   "cell_type": "code",
   "execution_count": 228,
   "metadata": {},
   "outputs": [
    {
     "data": {
      "image/png": "[encoded data removed]",
      "text/plain": [
       "<Figure size 432x288 with 1 Axes>"
      ]
     },
     "metadata": {},
     "output_type": "display_data"
    }
   ],
   "source": [
    "feat_importances = pd.Series(xgbRegressor.feature_importances_, index=train_X.columns)\n",
    "feat_importances.nlargest(20).plot(kind='barh')\n",
    "plt.show()"
   ]
  },
  {
   "cell_type": "code",
   "execution_count": 229,
   "metadata": {},
   "outputs": [],
   "source": [
    "imp_features=['VAR1','Lebanon','Compensation_and_Benefits','Education_Level','Clinton','Franklin','Conceptual',\n",
    "             'Pay_Scale','VAR4','Travel_Rate','Age','VAR5','VAR7','VAR6','growth_rate',\n",
    "             'Unit_2','Time_of_service','Directive','Work_Life_balance','Relationship_Status']"
   ]
  },
  {
   "cell_type": "code",
   "execution_count": 230,
   "metadata": {},
   "outputs": [],
   "source": [
    "train_df1=train_X[imp_features]\n",
    "test_df1=test_X[imp_features]"
   ]
  },
  {
   "cell_type": "code",
   "execution_count": 231,
   "metadata": {},
   "outputs": [],
   "source": [
    "xgbRegressor2=xgb.XGBRegressor()"
   ]
  },
  {
   "cell_type": "code",
   "execution_count": 232,
   "metadata": {},
   "outputs": [
    {
     "name": "stderr",
     "output_type": "stream",
     "text": [
      "/usr/local/lib/python3.7/site-packages/xgboost/core.py:587: FutureWarning: Series.base is deprecated and will be removed in a future version\n",
      "  if getattr(data, 'base', None) is not None and \\\n"
     ]
    },
    {
     "name": "stdout",
     "output_type": "stream",
     "text": [
      "[14:19:52] WARNING: /workspace/src/objective/regression_obj.cu:152: reg:linear is now deprecated in favor of reg:squarederror.\n"
     ]
    },
    {
     "data": {
      "text/plain": [
       "XGBRegressor(base_score=0.5, booster='gbtree', colsample_bylevel=1,\n",
       "             colsample_bynode=1, colsample_bytree=1, gamma=0,\n",
       "             importance_type='gain', learning_rate=0.1, max_delta_step=0,\n",
       "             max_depth=3, min_child_weight=1, missing=None, n_estimators=100,\n",
       "             n_jobs=1, nthread=None, objective='reg:linear', random_state=0,\n",
       "             reg_alpha=0, reg_lambda=1, scale_pos_weight=1, seed=None,\n",
       "             silent=None, subsample=1, verbosity=1)"
      ]
     },
     "execution_count": 232,
     "metadata": {},
     "output_type": "execute_result"
    }
   ],
   "source": [
    "xgbRegressor2.fit(train_df1,train_y)"
   ]
  },
  {
   "cell_type": "code",
   "execution_count": 233,
   "metadata": {},
   "outputs": [],
   "source": [
    "predicted_test_X=xgbRegressor2.predict(test_df1)"
   ]
  },
  {
   "cell_type": "code",
   "execution_count": 234,
   "metadata": {},
   "outputs": [
    {
     "data": {
      "text/plain": [
       "0.034942357588615615"
      ]
     },
     "execution_count": 234,
     "metadata": {},
     "output_type": "execute_result"
    }
   ],
   "source": [
    "mean_squared_error(test_y,predicted_test_X)"
   ]
  },
  {
   "cell_type": "markdown",
   "metadata": {},
   "source": [
    "#### Submission 4"
   ]
  },
  {
   "cell_type": "code",
   "execution_count": 235,
   "metadata": {},
   "outputs": [],
   "source": [
    "test=test_df[imp_features]"
   ]
  },
  {
   "cell_type": "code",
   "execution_count": 236,
   "metadata": {},
   "outputs": [],
   "source": [
    "predictions=xgbRegressor2.predict(test)"
   ]
  },
  {
   "cell_type": "code",
   "execution_count": 237,
   "metadata": {},
   "outputs": [],
   "source": [
    "Employee_ID=pd.read_csv(os.path.join(dataset_dir,'Test.csv'))['Employee_ID']"
   ]
  },
  {
   "cell_type": "code",
   "execution_count": 238,
   "metadata": {},
   "outputs": [],
   "source": [
    "submissions=pd.DataFrame({'Employee_ID':Employee_ID,'Attrition_rate':predictions})"
   ]
  },
  {
   "cell_type": "code",
   "execution_count": 239,
   "metadata": {},
   "outputs": [],
   "source": [
    "submissions.to_csv('submission_4.csv',index=False) ##score 81.14"
   ]
  },
  {
   "cell_type": "markdown",
   "metadata": {},
   "source": [
    "#### Xgboost model with booster = giblinear"
   ]
  },
  {
   "cell_type": "code",
   "execution_count": 244,
   "metadata": {},
   "outputs": [],
   "source": [
    "xgbRegressor3=xgb.XGBRegressor(booster='gblinear')"
   ]
  },
  {
   "cell_type": "code",
   "execution_count": 245,
   "metadata": {},
   "outputs": [
    {
     "name": "stdout",
     "output_type": "stream",
     "text": [
      "[14:25:18] WARNING: /workspace/src/objective/regression_obj.cu:152: reg:linear is now deprecated in favor of reg:squarederror.\n"
     ]
    },
    {
     "data": {
      "text/plain": [
       "XGBRegressor(base_score=0.5, booster='gblinear', colsample_bylevel=1,\n",
       "             colsample_bynode=1, colsample_bytree=1, gamma=0,\n",
       "             importance_type='gain', learning_rate=0.1, max_delta_step=0,\n",
       "             max_depth=3, min_child_weight=1, missing=None, n_estimators=100,\n",
       "             n_jobs=1, nthread=None, objective='reg:linear', random_state=0,\n",
       "             reg_alpha=0, reg_lambda=1, scale_pos_weight=1, seed=None,\n",
       "             silent=None, subsample=1, verbosity=1)"
      ]
     },
     "execution_count": 245,
     "metadata": {},
     "output_type": "execute_result"
    }
   ],
   "source": [
    "xgbRegressor3.fit(train_X,train_y)"
   ]
  },
  {
   "cell_type": "code",
   "execution_count": 246,
   "metadata": {},
   "outputs": [],
   "source": [
    "predicted_test_X=xgbRegressor3.predict(test_X)"
   ]
  },
  {
   "cell_type": "code",
   "execution_count": 247,
   "metadata": {},
   "outputs": [
    {
     "data": {
      "text/plain": [
       "0.03424699332840439"
      ]
     },
     "execution_count": 247,
     "metadata": {},
     "output_type": "execute_result"
    }
   ],
   "source": [
    "mean_squared_error(test_y,predicted_test_X)"
   ]
  },
  {
   "cell_type": "markdown",
   "metadata": {},
   "source": [
    "#### Submission 5"
   ]
  },
  {
   "cell_type": "code",
   "execution_count": 249,
   "metadata": {},
   "outputs": [],
   "source": [
    "predictions=xgbRegressor3.predict(test_df)"
   ]
  },
  {
   "cell_type": "code",
   "execution_count": 250,
   "metadata": {},
   "outputs": [],
   "source": [
    "Employee_ID=pd.read_csv(os.path.join(dataset_dir,'Test.csv'))['Employee_ID']"
   ]
  },
  {
   "cell_type": "code",
   "execution_count": 251,
   "metadata": {},
   "outputs": [],
   "source": [
    "submissions=pd.DataFrame({'Employee_ID':Employee_ID,'Attrition_rate':predictions})"
   ]
  },
  {
   "cell_type": "code",
   "execution_count": 252,
   "metadata": {},
   "outputs": [],
   "source": [
    "submissions.to_csv('submission_5.csv',index=False) ##score 81.23"
   ]
  },
  {
   "cell_type": "markdown",
   "metadata": {},
   "source": [
    "#### Hyperaparameter Tuning for Xgboost"
   ]
  },
  {
   "cell_type": "code",
   "execution_count": 285,
   "metadata": {},
   "outputs": [],
   "source": [
    "from sklearn.model_selection import GridSearchCV\n",
    "parameters = {'nthread':[4], #when use hyperthread, xgboost may become slower\n",
    "              'objective':['reg:linear'],\n",
    "              'learning_rate': [0.01,.03,0.05, .07], #so called `eta` value\n",
    "              'max_depth': [5, 6, 7],\n",
    "              'min_child_weight': [4],\n",
    "              'silent': [1],\n",
    "              'subsample': [0.7,0,6],\n",
    "              'colsample_bytree': [0.7,0.6],\n",
    "              'n_estimators': [500]}\n",
    "\n",
    "xgb_grid = GridSearchCV(xgbRegressor3,\n",
    "                        parameters,\n",
    "                        cv = 2,\n",
    "                        n_jobs = 5,\n",
    "                        verbose=True)"
   ]
  },
  {
   "cell_type": "code",
   "execution_count": 286,
   "metadata": {},
   "outputs": [
    {
     "name": "stdout",
     "output_type": "stream",
     "text": [
      "Fitting 2 folds for each of 72 candidates, totalling 144 fits\n"
     ]
    },
    {
     "name": "stderr",
     "output_type": "stream",
     "text": [
      "[Parallel(n_jobs=5)]: Using backend LokyBackend with 5 concurrent workers.\n",
      "[Parallel(n_jobs=5)]: Done  40 tasks      | elapsed:  9.2min\n",
      "[Parallel(n_jobs=5)]: Done 144 out of 144 | elapsed: 33.8min finished\n",
      "/usr/local/lib/python3.7/site-packages/xgboost/core.py:587: FutureWarning: Series.base is deprecated and will be removed in a future version\n",
      "  if getattr(data, 'base', None) is not None and \\\n"
     ]
    },
    {
     "data": {
      "text/plain": [
       "GridSearchCV(cv=2, error_score='raise-deprecating',\n",
       "             estimator=XGBRegressor(base_score=0.5, booster='gblinear',\n",
       "                                    colsample_bylevel=1, colsample_bynode=1,\n",
       "                                    colsample_bytree=1, gamma=0,\n",
       "                                    importance_type='gain', learning_rate=0.1,\n",
       "                                    max_delta_step=0, max_depth=3,\n",
       "                                    min_child_weight=1, missing=None,\n",
       "                                    n_estimators=100, n_jobs=1, nthread=None,\n",
       "                                    objective='reg:linear', random_state=...\n",
       "                                    subsample=1, verbosity=1),\n",
       "             iid='warn', n_jobs=5,\n",
       "             param_grid={'colsample_bytree': [0.7, 0.6],\n",
       "                         'learning_rate': [0.01, 0.03, 0.05, 0.07],\n",
       "                         'max_depth': [5, 6, 7], 'min_child_weight': [4],\n",
       "                         'n_estimators': [500], 'nthread': [4],\n",
       "                         'objective': ['reg:linear'], 'silent': [1],\n",
       "                         'subsample': [0.7, 0, 6]},\n",
       "             pre_dispatch='2*n_jobs', refit=True, return_train_score=False,\n",
       "             scoring=None, verbose=True)"
      ]
     },
     "execution_count": 286,
     "metadata": {},
     "output_type": "execute_result"
    }
   ],
   "source": [
    "xgb_grid.fit(train_X,train_y)"
   ]
  },
  {
   "cell_type": "code",
   "execution_count": 288,
   "metadata": {},
   "outputs": [],
   "source": [
    "predictions_test_X=xgb_grid.predict(test_X)"
   ]
  },
  {
   "cell_type": "code",
   "execution_count": 289,
   "metadata": {},
   "outputs": [
    {
     "data": {
      "text/plain": [
       "0.03424699332840439"
      ]
     },
     "execution_count": 289,
     "metadata": {},
     "output_type": "execute_result"
    }
   ],
   "source": [
    "mean_squared_error(test_y,predicted_test_X)"
   ]
  },
  {
   "cell_type": "markdown",
   "metadata": {},
   "source": [
    "#### Submission 6"
   ]
  },
  {
   "cell_type": "code",
   "execution_count": 290,
   "metadata": {},
   "outputs": [],
   "source": [
    "predictions=xgb_grid.predict(test_df)"
   ]
  },
  {
   "cell_type": "code",
   "execution_count": 291,
   "metadata": {},
   "outputs": [],
   "source": [
    "Employee_ID=pd.read_csv(os.path.join(dataset_dir,'Test.csv'))['Employee_ID']"
   ]
  },
  {
   "cell_type": "code",
   "execution_count": 292,
   "metadata": {},
   "outputs": [],
   "source": [
    "submissions=pd.DataFrame({'Employee_ID':Employee_ID,'Attrition_rate':predictions})"
   ]
  },
  {
   "cell_type": "code",
   "execution_count": 293,
   "metadata": {},
   "outputs": [],
   "source": [
    "submissions.to_csv('submission_6.csv',index=False) ##score 81.23"
   ]
  },
  {
   "cell_type": "markdown",
   "metadata": {},
   "source": [
    "#### As we can notice using ensemble learning and doing feature selection did not help in improving the score.So we will try feature enginnering. We will be using data after imputing missing values."
   ]
  },
  {
   "cell_type": "code",
   "execution_count": 26,
   "metadata": {},
   "outputs": [],
   "source": [
    "train_data_f=train_data_copy\n",
    "test_data_f=test_data_copy"
   ]
  },
  {
   "cell_type": "code",
   "execution_count": 27,
   "metadata": {},
   "outputs": [
    {
     "data": {
      "text/plain": [
       "Employee_ID                   object\n",
       "Gender                        object\n",
       "Age                          float64\n",
       "Education_Level                int64\n",
       "Relationship_Status           object\n",
       "Hometown                      object\n",
       "Unit                          object\n",
       "Decision_skill_possess        object\n",
       "Time_of_service              float64\n",
       "Time_since_promotion           int64\n",
       "growth_rate                    int64\n",
       "Travel_Rate                    int64\n",
       "Post_Level                     int64\n",
       "Pay_Scale                    float64\n",
       "Compensation_and_Benefits     object\n",
       "Work_Life_balance            float64\n",
       "VAR1                           int64\n",
       "VAR2                         float64\n",
       "VAR3                         float64\n",
       "VAR4                         float64\n",
       "VAR5                           int64\n",
       "VAR6                           int64\n",
       "VAR7                           int64\n",
       "Attrition_rate               float64\n",
       "dtype: object"
      ]
     },
     "execution_count": 27,
     "metadata": {},
     "output_type": "execute_result"
    }
   ],
   "source": [
    "train_data_f.dtypes"
   ]
  },
  {
   "cell_type": "markdown",
   "metadata": {},
   "source": [
    "#### Detecting Outliers in numerical columns"
   ]
  },
  {
   "cell_type": "code",
   "execution_count": 28,
   "metadata": {},
   "outputs": [
    {
     "data": {
      "text/plain": [
       "<matplotlib.axes._subplots.AxesSubplot at 0x1a2444fad0>"
      ]
     },
     "execution_count": 28,
     "metadata": {},
     "output_type": "execute_result"
    },
    {
     "data": {
      "image/png": "[encoded data removed]",
      "text/plain": [
       "<Figure size 432x288 with 1 Axes>"
      ]
     },
     "metadata": {
      "needs_background": "light"
     },
     "output_type": "display_data"
    }
   ],
   "source": [
    "import seaborn as sns\n",
    "sns.boxplot(x=train_data_f['Age'])"
   ]
  },
  {
   "cell_type": "code",
   "execution_count": 29,
   "metadata": {},
   "outputs": [
    {
     "data": {
      "text/plain": [
       "(array([ 893., 1117.,  752.,  757.,  373.,  695.,  610.,  634.,  689.,\n",
       "         480.]),\n",
       " array([19. , 23.6, 28.2, 32.8, 37.4, 42. , 46.6, 51.2, 55.8, 60.4, 65. ]),\n",
       " <a list of 10 Patch objects>)"
      ]
     },
     "execution_count": 29,
     "metadata": {},
     "output_type": "execute_result"
    },
    {
     "data": {
      "image/png": "[encoded data removed]",
      "text/plain": [
       "<Figure size 432x288 with 1 Axes>"
      ]
     },
     "metadata": {
      "needs_background": "light"
     },
     "output_type": "display_data"
    }
   ],
   "source": [
    "plt.hist(train_data_f['Age'])"
   ]
  },
  {
   "cell_type": "markdown",
   "metadata": {},
   "source": [
    "#### Age has no outliers and distribution is also not skewed. We will leave this column as it is, if the distribution was skewed we could have used binning."
   ]
  },
  {
   "cell_type": "code",
   "execution_count": 30,
   "metadata": {},
   "outputs": [
    {
     "data": {
      "text/plain": [
       "<matplotlib.axes._subplots.AxesSubplot at 0x1a24675ed0>"
      ]
     },
     "execution_count": 30,
     "metadata": {},
     "output_type": "execute_result"
    },
    {
     "data": {
      "image/png": "[encoded data removed]",
      "text/plain": [
       "<Figure size 432x288 with 1 Axes>"
      ]
     },
     "metadata": {
      "needs_background": "light"
     },
     "output_type": "display_data"
    }
   ],
   "source": [
    "sns.boxplot(x=train_data_f['Education_Level'])"
   ]
  },
  {
   "cell_type": "code",
   "execution_count": 31,
   "metadata": {},
   "outputs": [
    {
     "data": {
      "text/plain": [
       "(array([ 695.,    0.,  691.,    0.,    0., 2878.,    0., 2076.,    0.,\n",
       "         660.]),\n",
       " array([1. , 1.4, 1.8, 2.2, 2.6, 3. , 3.4, 3.8, 4.2, 4.6, 5. ]),\n",
       " <a list of 10 Patch objects>)"
      ]
     },
     "execution_count": 31,
     "metadata": {},
     "output_type": "execute_result"
    },
    {
     "data": {
      "image/png": "[encoded data removed]",
      "text/plain": [
       "<Figure size 432x288 with 1 Axes>"
      ]
     },
     "metadata": {
      "needs_background": "light"
     },
     "output_type": "display_data"
    }
   ],
   "source": [
    "plt.hist(train_data_f['Education_Level'])"
   ]
  },
  {
   "cell_type": "code",
   "execution_count": 32,
   "metadata": {},
   "outputs": [
    {
     "data": {
      "text/plain": [
       "3    2878\n",
       "4    2076\n",
       "1     695\n",
       "2     691\n",
       "5     660\n",
       "Name: Education_Level, dtype: int64"
      ]
     },
     "execution_count": 32,
     "metadata": {},
     "output_type": "execute_result"
    }
   ],
   "source": [
    "train_data_f['Education_Level'].value_counts()"
   ]
  },
  {
   "cell_type": "code",
   "execution_count": 33,
   "metadata": {},
   "outputs": [
    {
     "data": {
      "text/plain": [
       "<matplotlib.axes._subplots.AxesSubplot at 0x1a24644810>"
      ]
     },
     "execution_count": 33,
     "metadata": {},
     "output_type": "execute_result"
    },
    {
     "data": {
      "image/png": "[encoded data removed]",
      "text/plain": [
       "<Figure size 432x288 with 1 Axes>"
      ]
     },
     "metadata": {
      "needs_background": "light"
     },
     "output_type": "display_data"
    }
   ],
   "source": [
    "sns.boxplot(x=train_data_f['Time_of_service'])"
   ]
  },
  {
   "cell_type": "code",
   "execution_count": 34,
   "metadata": {},
   "outputs": [
    {
     "data": {
      "text/plain": [
       "(array([1496., 1582.,  936.,  822.,  555.,  510.,  516.,  277.,  210.,\n",
       "          96.]),\n",
       " array([ 0. ,  4.3,  8.6, 12.9, 17.2, 21.5, 25.8, 30.1, 34.4, 38.7, 43. ]),\n",
       " <a list of 10 Patch objects>)"
      ]
     },
     "execution_count": 34,
     "metadata": {},
     "output_type": "execute_result"
    },
    {
     "data": {
      "image/png": "[encoded data removed]",
      "text/plain": [
       "<Figure size 432x288 with 1 Axes>"
      ]
     },
     "metadata": {
      "needs_background": "light"
     },
     "output_type": "display_data"
    }
   ],
   "source": [
    "plt.hist(train_data_f['Time_of_service'])"
   ]
  },
  {
   "cell_type": "markdown",
   "metadata": {},
   "source": [
    "#### Data is skewed we can apply binning to it."
   ]
  },
  {
   "cell_type": "code",
   "execution_count": 35,
   "metadata": {},
   "outputs": [
    {
     "data": {
      "text/plain": [
       "0.00     0.0\n",
       "0.25     5.0\n",
       "0.50    10.0\n",
       "0.75    20.0\n",
       "1.00    43.0\n",
       "Name: Time_of_service, dtype: float64"
      ]
     },
     "execution_count": 35,
     "metadata": {},
     "output_type": "execute_result"
    }
   ],
   "source": [
    "quantile_list = [0, .25, .5, .75, 1.]\n",
    "quantiles = train_data_f['Time_of_service'].quantile(quantile_list)\n",
    "quantiles"
   ]
  },
  {
   "cell_type": "code",
   "execution_count": 36,
   "metadata": {},
   "outputs": [],
   "source": [
    "quantile_labels = ['0-25Q', '25-50Q', '50-75Q', '75-100Q']\n",
    "train_data_f['Time_of_service'] = pd.qcut(\n",
    "                                            train_data_f['Time_of_service'], \n",
    "                                            q=quantile_list,       \n",
    "                                            labels=quantile_labels)"
   ]
  },
  {
   "cell_type": "code",
   "execution_count": 37,
   "metadata": {},
   "outputs": [],
   "source": [
    "test_data_f['Time_of_service']=pd.qcut(test_data_f['Time_of_service'],\n",
    "                                      q=quantile_list,\n",
    "                                      labels=quantile_labels)"
   ]
  },
  {
   "cell_type": "code",
   "execution_count": 43,
   "metadata": {},
   "outputs": [
    {
     "data": {
      "text/plain": [
       "<matplotlib.axes._subplots.AxesSubplot at 0x1a28ef1590>"
      ]
     },
     "execution_count": 43,
     "metadata": {},
     "output_type": "execute_result"
    },
    {
     "data": {
      "image/png": "[encoded data removed]",
      "text/plain": [
       "<Figure size 432x288 with 1 Axes>"
      ]
     },
     "metadata": {
      "needs_background": "light"
     },
     "output_type": "display_data"
    }
   ],
   "source": [
    "sns.boxplot(x=train_data_f['Time_since_promotion'])\n"
   ]
  },
  {
   "cell_type": "code",
   "execution_count": 39,
   "metadata": {},
   "outputs": [
    {
     "data": {
      "text/plain": [
       "(array([ 162.,    0., 1819.,    0.,    0., 1811.,    0., 1703.,    0.,\n",
       "        1505.]),\n",
       " array([0. , 0.4, 0.8, 1.2, 1.6, 2. , 2.4, 2.8, 3.2, 3.6, 4. ]),\n",
       " <a list of 10 Patch objects>)"
      ]
     },
     "execution_count": 39,
     "metadata": {},
     "output_type": "execute_result"
    },
    {
     "data": {
      "image/png": "[encoded data removed]",
      "text/plain": [
       "<Figure size 432x288 with 1 Axes>"
      ]
     },
     "metadata": {
      "needs_background": "light"
     },
     "output_type": "display_data"
    }
   ],
   "source": [
    "plt.hist(train_data_f['Time_since_promotion'])"
   ]
  },
  {
   "cell_type": "code",
   "execution_count": 267,
   "metadata": {},
   "outputs": [
    {
     "data": {
      "text/plain": [
       "1    1819\n",
       "2    1811\n",
       "3    1703\n",
       "4    1505\n",
       "0     162\n",
       "Name: Time_since_promotion, dtype: int64"
      ]
     },
     "execution_count": 267,
     "metadata": {},
     "output_type": "execute_result"
    }
   ],
   "source": [
    "train_data_f['Time_since_promotion'].value_counts()"
   ]
  },
  {
   "cell_type": "code",
   "execution_count": 268,
   "metadata": {},
   "outputs": [
    {
     "data": {
      "text/plain": [
       "<matplotlib.axes._subplots.AxesSubplot at 0x7fab7ddecf90>"
      ]
     },
     "execution_count": 268,
     "metadata": {},
     "output_type": "execute_result"
    },
    {
     "data": {
      "image/png": "[encoded data removed]",
      "text/plain": [
       "<Figure size 432x288 with 1 Axes>"
      ]
     },
     "metadata": {},
     "output_type": "display_data"
    }
   ],
   "source": [
    "sns.boxplot(x=train_data_f['growth_rate'])"
   ]
  },
  {
   "cell_type": "code",
   "execution_count": 269,
   "metadata": {},
   "outputs": [
    {
     "data": {
      "text/plain": [
       "(array([755., 631., 758., 631., 631., 780., 636., 794., 652., 732.]),\n",
       " array([20. , 25.4, 30.8, 36.2, 41.6, 47. , 52.4, 57.8, 63.2, 68.6, 74. ]),\n",
       " <a list of 10 Patch objects>)"
      ]
     },
     "execution_count": 269,
     "metadata": {},
     "output_type": "execute_result"
    },
    {
     "data": {
      "image/png": "[encoded data removed]",
      "text/plain": [
       "<Figure size 432x288 with 1 Axes>"
      ]
     },
     "metadata": {},
     "output_type": "display_data"
    }
   ],
   "source": [
    "plt.hist(train_data_f['growth_rate'])"
   ]
  },
  {
   "cell_type": "code",
   "execution_count": 45,
   "metadata": {},
   "outputs": [
    {
     "data": {
      "text/plain": [
       "<matplotlib.axes._subplots.AxesSubplot at 0x1a45d7f910>"
      ]
     },
     "execution_count": 45,
     "metadata": {},
     "output_type": "execute_result"
    },
    {
     "data": {
      "image/png": "[encoded data removed]",
      "text/plain": [
       "<Figure size 432x288 with 1 Axes>"
      ]
     },
     "metadata": {
      "needs_background": "light"
     },
     "output_type": "display_data"
    }
   ],
   "source": [
    "sns.boxplot(x=train_data_f['Travel_Rate'])\n"
   ]
  },
  {
   "cell_type": "code",
   "execution_count": 271,
   "metadata": {},
   "outputs": [
    {
     "data": {
      "text/plain": [
       "(array([2224.,    0.,    0.,    0.,    0., 3827.,    0.,    0.,    0.,\n",
       "         949.]),\n",
       " array([0. , 0.2, 0.4, 0.6, 0.8, 1. , 1.2, 1.4, 1.6, 1.8, 2. ]),\n",
       " <a list of 10 Patch objects>)"
      ]
     },
     "execution_count": 271,
     "metadata": {},
     "output_type": "execute_result"
    },
    {
     "data": {
      "image/png": "[encoded data removed]",
      "text/plain": [
       "<Figure size 432x288 with 1 Axes>"
      ]
     },
     "metadata": {},
     "output_type": "display_data"
    }
   ],
   "source": [
    "plt.hist(train_data_f['Travel_Rate'])"
   ]
  },
  {
   "cell_type": "code",
   "execution_count": 272,
   "metadata": {},
   "outputs": [
    {
     "data": {
      "text/plain": [
       "<matplotlib.axes._subplots.AxesSubplot at 0x7fab7dae2f50>"
      ]
     },
     "execution_count": 272,
     "metadata": {},
     "output_type": "execute_result"
    },
    {
     "data": {
      "image/png": "[encoded data removed]",
      "text/plain": [
       "<Figure size 432x288 with 1 Axes>"
      ]
     },
     "metadata": {},
     "output_type": "display_data"
    }
   ],
   "source": [
    "sns.boxplot(x=train_data_f['Post_Level'])"
   ]
  },
  {
   "cell_type": "code",
   "execution_count": 273,
   "metadata": {},
   "outputs": [
    {
     "data": {
      "text/plain": [
       "(array([1035.,    0., 1786.,    0.,    0., 2435.,    0., 1046.,    0.,\n",
       "         698.]),\n",
       " array([1. , 1.4, 1.8, 2.2, 2.6, 3. , 3.4, 3.8, 4.2, 4.6, 5. ]),\n",
       " <a list of 10 Patch objects>)"
      ]
     },
     "execution_count": 273,
     "metadata": {},
     "output_type": "execute_result"
    },
    {
     "data": {
      "image/png": "[encoded data removed]",
      "text/plain": [
       "<Figure size 432x288 with 1 Axes>"
      ]
     },
     "metadata": {},
     "output_type": "display_data"
    }
   ],
   "source": [
    "plt.hist(train_data_f['Post_Level'])"
   ]
  },
  {
   "cell_type": "code",
   "execution_count": 274,
   "metadata": {},
   "outputs": [
    {
     "data": {
      "text/plain": [
       "<matplotlib.axes._subplots.AxesSubplot at 0x7fab3b22c9d0>"
      ]
     },
     "execution_count": 274,
     "metadata": {},
     "output_type": "execute_result"
    },
    {
     "data": {
      "image/png": "[encoded data removed]",
      "text/plain": [
       "<Figure size 432x288 with 1 Axes>"
      ]
     },
     "metadata": {},
     "output_type": "display_data"
    }
   ],
   "source": [
    "sns.boxplot(x=train_data_f['Pay_Scale'])"
   ]
  },
  {
   "cell_type": "code",
   "execution_count": 158,
   "metadata": {},
   "outputs": [
    {
     "data": {
      "text/plain": [
       "<matplotlib.axes._subplots.AxesSubplot at 0x7f92cb9ef490>"
      ]
     },
     "execution_count": 158,
     "metadata": {},
     "output_type": "execute_result"
    },
    {
     "data": {
      "image/png": "[encoded data removed]",
      "text/plain": [
       "<Figure size 432x288 with 1 Axes>"
      ]
     },
     "metadata": {},
     "output_type": "display_data"
    }
   ],
   "source": [
    "sns.boxplot(x=train_data_f['Work_Life_balance'])"
   ]
  },
  {
   "cell_type": "code",
   "execution_count": 159,
   "metadata": {},
   "outputs": [
    {
     "data": {
      "text/plain": [
       "(array([ 157.,  277.,  256.,  984., 1160., 1287.,  811., 1395.,  464.,\n",
       "         209.]),\n",
       " array([ 1. ,  1.9,  2.8,  3.7,  4.6,  5.5,  6.4,  7.3,  8.2,  9.1, 10. ]),\n",
       " <a list of 10 Patch objects>)"
      ]
     },
     "execution_count": 159,
     "metadata": {},
     "output_type": "execute_result"
    },
    {
     "data": {
      "image/png": "[encoded data removed]",
      "text/plain": [
       "<Figure size 1080x360 with 9 Axes>"
      ]
     },
     "metadata": {},
     "output_type": "display_data"
    }
   ],
   "source": [
    "fig, ax = plt.subplots(3, 3,figsize=(15,5))\n",
    "ax[0][0].hist(train_data_f['VAR1'])\n",
    "ax[0][1].hist(train_data_f['VAR2'])\n",
    "ax[0][2].hist(train_data_f['VAR3'])\n",
    "ax[1][0].hist(train_data_f['VAR4'])\n",
    "ax[1][1].hist(train_data_f['VAR5'])\n",
    "ax[1][2].hist(train_data_f['VAR6'])\n",
    "ax[2][0].hist(train_data_f['VAR7'])\n",
    "ax[2][1].hist(train_data_f['Work_Life_balance'])\n",
    "ax[2][2].hist(train_data_f['Pay_Scale'])"
   ]
  },
  {
   "cell_type": "markdown",
   "metadata": {},
   "source": [
    "#### As you can notice these columns have categrories,they act like more as categorical variable than continous numerical variable."
   ]
  },
  {
   "cell_type": "markdown",
   "metadata": {},
   "source": [
    "#### For Gender and Relationship_Status we will use the same approach of mapping as we used above since they only have two categories."
   ]
  },
  {
   "cell_type": "code",
   "execution_count": 161,
   "metadata": {},
   "outputs": [],
   "source": [
    "train_data_f['Gender']=train_data_f['Gender'].apply(lambda x : 0 if x=='F' else 1)\n",
    "test_data_f['Gender']=test_data_f['Gender'].apply(lambda x : 0 if x=='F' else 1)"
   ]
  },
  {
   "cell_type": "code",
   "execution_count": 162,
   "metadata": {},
   "outputs": [],
   "source": [
    "train_data_f['Relationship_Status']=train_data_f['Relationship_Status'].apply(lambda x : 0 if x=='Married' else 1)\n",
    "test_data_f['Relationship_Status']=test_data_f['Relationship_Status'].apply(lambda x : 0 if x=='Married' else 1)"
   ]
  },
  {
   "cell_type": "code",
   "execution_count": 163,
   "metadata": {},
   "outputs": [
    {
     "data": {
      "text/plain": [
       "2    3945\n",
       "3    2382\n",
       "1     673\n",
       "Name: Compensation_and_Benefits, dtype: int64"
      ]
     },
     "execution_count": 163,
     "metadata": {},
     "output_type": "execute_result"
    }
   ],
   "source": [
    "train_data_f['Compensation_and_Benefits'].value_counts()"
   ]
  },
  {
   "cell_type": "markdown",
   "metadata": {},
   "source": [
    "#### As Compensation_and_Benefits have two categories which have very high numbers compared to other three, we will map all other categories with 0."
   ]
  },
  {
   "cell_type": "code",
   "execution_count": 164,
   "metadata": {},
   "outputs": [],
   "source": [
    "train_data_f['Compensation_and_Benefits']=train_data_f['Compensation_and_Benefits'].apply(lambda x : 2 if x=='type2' else 3 if x=='type3' else 1)\n",
    "test_data_f['Compensation_and_Benefits']=test_data_f['Compensation_and_Benefits'].apply(lambda x : 2 if x=='type2' else 3 if x=='type3' else 1)"
   ]
  },
  {
   "cell_type": "code",
   "execution_count": 165,
   "metadata": {},
   "outputs": [
    {
     "data": {
      "text/plain": [
       "Conceptual    1756\n",
       "Analytical    1755\n",
       "Directive     1753\n",
       "Behavioral    1736\n",
       "Name: Decision_skill_possess, dtype: int64"
      ]
     },
     "execution_count": 165,
     "metadata": {},
     "output_type": "execute_result"
    }
   ],
   "source": [
    "train_data_f['Decision_skill_possess'].value_counts()"
   ]
  },
  {
   "cell_type": "markdown",
   "metadata": {},
   "source": [
    "#### Let's do one hot encoding on Decision_skill_possess, as we used OneHotEncoder earlier we will use get_dummies this time.(You can use OneHotEncoder also)We will use drop_first=True to leave one column as it can be generated using others."
   ]
  },
  {
   "cell_type": "code",
   "execution_count": 167,
   "metadata": {},
   "outputs": [],
   "source": [
    "new_data=pd.get_dummies(train_data_f['Decision_skill_possess'],drop_first=True)"
   ]
  },
  {
   "cell_type": "code",
   "execution_count": 168,
   "metadata": {},
   "outputs": [],
   "source": [
    "new_data_test=pd.get_dummies(test_data_f['Decision_skill_possess'],drop_first=True)"
   ]
  },
  {
   "cell_type": "code",
   "execution_count": 169,
   "metadata": {},
   "outputs": [],
   "source": [
    "train_data_f=pd.concat([train_data_f,new_data],axis=1)"
   ]
  },
  {
   "cell_type": "code",
   "execution_count": 170,
   "metadata": {},
   "outputs": [],
   "source": [
    "test_data_f=pd.concat([test_data_f,new_data_test],axis=1)"
   ]
  },
  {
   "cell_type": "code",
   "execution_count": 171,
   "metadata": {},
   "outputs": [
    {
     "data": {
      "text/html": [
       "<div>\n",
       "<style scoped>\n",
       "    .dataframe tbody tr th:only-of-type {\n",
       "        vertical-align: middle;\n",
       "    }\n",
       "\n",
       "    .dataframe tbody tr th {\n",
       "        vertical-align: top;\n",
       "    }\n",
       "\n",
       "    .dataframe thead th {\n",
       "        text-align: right;\n",
       "    }\n",
       "</style>\n",
       "<table border=\"1\" class=\"dataframe\">\n",
       "  <thead>\n",
       "    <tr style=\"text-align: right;\">\n",
       "      <th></th>\n",
       "      <th>Employee_ID</th>\n",
       "      <th>Gender</th>\n",
       "      <th>Age</th>\n",
       "      <th>Education_Level</th>\n",
       "      <th>Relationship_Status</th>\n",
       "      <th>Hometown</th>\n",
       "      <th>Unit</th>\n",
       "      <th>Decision_skill_possess</th>\n",
       "      <th>Time_of_service</th>\n",
       "      <th>Time_since_promotion</th>\n",
       "      <th>...</th>\n",
       "      <th>VAR5</th>\n",
       "      <th>VAR6</th>\n",
       "      <th>VAR7</th>\n",
       "      <th>Attrition_rate</th>\n",
       "      <th>Behavioral</th>\n",
       "      <th>Conceptual</th>\n",
       "      <th>Directive</th>\n",
       "      <th>Behavioral</th>\n",
       "      <th>Conceptual</th>\n",
       "      <th>Directive</th>\n",
       "    </tr>\n",
       "  </thead>\n",
       "  <tbody>\n",
       "    <tr>\n",
       "      <td>0</td>\n",
       "      <td>EID_23371</td>\n",
       "      <td>1</td>\n",
       "      <td>42.0</td>\n",
       "      <td>4</td>\n",
       "      <td>1</td>\n",
       "      <td>Franklin</td>\n",
       "      <td>IT</td>\n",
       "      <td>Conceptual</td>\n",
       "      <td>0-25Q</td>\n",
       "      <td>4</td>\n",
       "      <td>...</td>\n",
       "      <td>4</td>\n",
       "      <td>5</td>\n",
       "      <td>3</td>\n",
       "      <td>0.1841</td>\n",
       "      <td>0</td>\n",
       "      <td>1</td>\n",
       "      <td>0</td>\n",
       "      <td>0</td>\n",
       "      <td>1</td>\n",
       "      <td>0</td>\n",
       "    </tr>\n",
       "    <tr>\n",
       "      <td>1</td>\n",
       "      <td>EID_18000</td>\n",
       "      <td>1</td>\n",
       "      <td>24.0</td>\n",
       "      <td>3</td>\n",
       "      <td>1</td>\n",
       "      <td>Springfield</td>\n",
       "      <td>Logistics</td>\n",
       "      <td>Analytical</td>\n",
       "      <td>0-25Q</td>\n",
       "      <td>4</td>\n",
       "      <td>...</td>\n",
       "      <td>3</td>\n",
       "      <td>5</td>\n",
       "      <td>3</td>\n",
       "      <td>0.0670</td>\n",
       "      <td>0</td>\n",
       "      <td>0</td>\n",
       "      <td>0</td>\n",
       "      <td>0</td>\n",
       "      <td>0</td>\n",
       "      <td>0</td>\n",
       "    </tr>\n",
       "    <tr>\n",
       "      <td>2</td>\n",
       "      <td>EID_3891</td>\n",
       "      <td>1</td>\n",
       "      <td>58.0</td>\n",
       "      <td>3</td>\n",
       "      <td>1</td>\n",
       "      <td>Clinton</td>\n",
       "      <td>Quality</td>\n",
       "      <td>Conceptual</td>\n",
       "      <td>75-100Q</td>\n",
       "      <td>3</td>\n",
       "      <td>...</td>\n",
       "      <td>3</td>\n",
       "      <td>8</td>\n",
       "      <td>3</td>\n",
       "      <td>0.0851</td>\n",
       "      <td>0</td>\n",
       "      <td>1</td>\n",
       "      <td>0</td>\n",
       "      <td>0</td>\n",
       "      <td>1</td>\n",
       "      <td>0</td>\n",
       "    </tr>\n",
       "    <tr>\n",
       "      <td>3</td>\n",
       "      <td>EID_17492</td>\n",
       "      <td>1</td>\n",
       "      <td>26.0</td>\n",
       "      <td>3</td>\n",
       "      <td>1</td>\n",
       "      <td>Lebanon</td>\n",
       "      <td>Human Resource Management</td>\n",
       "      <td>Behavioral</td>\n",
       "      <td>0-25Q</td>\n",
       "      <td>3</td>\n",
       "      <td>...</td>\n",
       "      <td>3</td>\n",
       "      <td>7</td>\n",
       "      <td>3</td>\n",
       "      <td>0.0668</td>\n",
       "      <td>1</td>\n",
       "      <td>0</td>\n",
       "      <td>0</td>\n",
       "      <td>1</td>\n",
       "      <td>0</td>\n",
       "      <td>0</td>\n",
       "    </tr>\n",
       "    <tr>\n",
       "      <td>4</td>\n",
       "      <td>EID_22534</td>\n",
       "      <td>1</td>\n",
       "      <td>31.0</td>\n",
       "      <td>1</td>\n",
       "      <td>1</td>\n",
       "      <td>Springfield</td>\n",
       "      <td>Logistics</td>\n",
       "      <td>Conceptual</td>\n",
       "      <td>0-25Q</td>\n",
       "      <td>4</td>\n",
       "      <td>...</td>\n",
       "      <td>2</td>\n",
       "      <td>8</td>\n",
       "      <td>2</td>\n",
       "      <td>0.1827</td>\n",
       "      <td>0</td>\n",
       "      <td>1</td>\n",
       "      <td>0</td>\n",
       "      <td>0</td>\n",
       "      <td>1</td>\n",
       "      <td>0</td>\n",
       "    </tr>\n",
       "  </tbody>\n",
       "</table>\n",
       "<p>5 rows × 30 columns</p>\n",
       "</div>"
      ],
      "text/plain": [
       "  Employee_ID  Gender   Age  Education_Level  Relationship_Status  \\\n",
       "0   EID_23371       1  42.0                4                    1   \n",
       "1   EID_18000       1  24.0                3                    1   \n",
       "2    EID_3891       1  58.0                3                    1   \n",
       "3   EID_17492       1  26.0                3                    1   \n",
       "4   EID_22534       1  31.0                1                    1   \n",
       "\n",
       "      Hometown                       Unit Decision_skill_possess  \\\n",
       "0     Franklin                         IT             Conceptual   \n",
       "1  Springfield                  Logistics             Analytical   \n",
       "2      Clinton                    Quality             Conceptual   \n",
       "3      Lebanon  Human Resource Management             Behavioral   \n",
       "4  Springfield                  Logistics             Conceptual   \n",
       "\n",
       "  Time_of_service  Time_since_promotion  ...  VAR5  VAR6  VAR7  \\\n",
       "0           0-25Q                     4  ...     4     5     3   \n",
       "1           0-25Q                     4  ...     3     5     3   \n",
       "2         75-100Q                     3  ...     3     8     3   \n",
       "3           0-25Q                     3  ...     3     7     3   \n",
       "4           0-25Q                     4  ...     2     8     2   \n",
       "\n",
       "   Attrition_rate  Behavioral  Conceptual  Directive  Behavioral  Conceptual  \\\n",
       "0          0.1841           0           1          0           0           1   \n",
       "1          0.0670           0           0          0           0           0   \n",
       "2          0.0851           0           1          0           0           1   \n",
       "3          0.0668           1           0          0           1           0   \n",
       "4          0.1827           0           1          0           0           1   \n",
       "\n",
       "   Directive  \n",
       "0          0  \n",
       "1          0  \n",
       "2          0  \n",
       "3          0  \n",
       "4          0  \n",
       "\n",
       "[5 rows x 30 columns]"
      ]
     },
     "execution_count": 171,
     "metadata": {},
     "output_type": "execute_result"
    }
   ],
   "source": [
    "train_data_f.head()"
   ]
  },
  {
   "cell_type": "markdown",
   "metadata": {},
   "source": [
    "#### Remove Decision_skill_possess from train and test data"
   ]
  },
  {
   "cell_type": "code",
   "execution_count": 172,
   "metadata": {},
   "outputs": [],
   "source": [
    "train_data_f=train_data_f.drop('Decision_skill_possess',axis=1)\n",
    "test_data_f=test_data_f.drop('Decision_skill_possess',axis=1)"
   ]
  },
  {
   "cell_type": "code",
   "execution_count": null,
   "metadata": {},
   "outputs": [],
   "source": []
  }
 ],
 "metadata": {
  "kernelspec": {
   "display_name": "Python 3",
   "language": "python",
   "name": "python3"
  },
  "language_info": {
   "codemirror_mode": {
    "name": "ipython",
    "version": 3
   },
   "file_extension": ".py",
   "mimetype": "text/x-python",
   "name": "python",
   "nbconvert_exporter": "python",
   "pygments_lexer": "ipython3",
   "version": "3.7.4"
  }
 },
 "nbformat": 4,
 "nbformat_minor": 2
}
